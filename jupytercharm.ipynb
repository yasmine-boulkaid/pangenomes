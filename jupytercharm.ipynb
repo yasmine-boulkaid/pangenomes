{
 "cells": [
  {
   "metadata": {
    "ExecuteTime": {
     "end_time": "2024-06-18T06:47:25.202050Z",
     "start_time": "2024-06-18T06:47:24.186208Z"
    }
   },
   "cell_type": "code",
   "source": [
    "import numpy as np\n",
    "import io\n",
    "import os\n",
    "import pandas as pd\n",
    "from scipy.stats import chi2_contingency\n",
    "from scipy.stats import hypergeom\n",
    "from scipy.stats import fisher_exact\n",
    "import bdsg\n",
    "import copy\n",
    "import re \n",
    "import matplotlib.pyplot as plt\n",
    "from collections import Counter"
   ],
   "id": "initial_id",
   "outputs": [],
   "execution_count": 1
  },
  {
   "metadata": {},
   "cell_type": "markdown",
   "source": "# Tests",
   "id": "221a95ac74c3705f"
  },
  {
   "metadata": {},
   "cell_type": "code",
   "source": [
    "### test exact fisher ###\n",
    "table = np.array([[6, 2], [1, 4]])\n",
    "M = table.sum()\n",
    "n = table[0].sum()\n",
    "N = table[:, 0].sum()\n",
    "start, end = hypergeom.support(M, n, N)\n",
    "hypergeom.pmf(np.arange(start, end + 1), M, n, N)\n",
    "np.array([0.01631702, 0.16317016, 0.40792541, 0.32634033, 0.08158508, 0.004662])\n",
    "res = fisher_exact(table, alternative='two-sided')\n",
    "print(\"fisher : \", res.pvalue)"
   ],
   "id": "bb365a7db4184e1f",
   "outputs": [],
   "execution_count": null
  },
  {
   "metadata": {},
   "cell_type": "markdown",
   "source": [
    "# From VCF file\n",
    "## read vcf, create data frames"
   ],
   "id": "9b16a4c079a427d1"
  },
  {
   "metadata": {},
   "cell_type": "code",
   "source": [
    "# on va essayer de faire un giga tableau qui recense tous les chemins possibles -> OK (pour un éch mais normalement c'est les mêmes chemins possibles)\n",
    "# une fois qu'on aura fait ce giga tableau, on va essayer de le transformer en giga matrice qui compte pour 1 éch les chemins pris -> OK\n",
    "# une fois que ce sera fait on pourra transformer la giga matrice en giga table de contingence (?) qui recense la même chose mais pour tous les échantillons -> OK (dataframe)"
   ],
   "id": "b14fc2293a3cca30",
   "outputs": [],
   "execution_count": null
  },
  {
   "metadata": {},
   "cell_type": "code",
   "source": "# fonctions annexes pour créer le df qui contient les infos après avoir parse tous les vcf",
   "id": "9020d532723574b8",
   "outputs": [],
   "execution_count": null
  },
  {
   "metadata": {
    "ExecuteTime": {
     "end_time": "2024-06-18T08:04:28.552863Z",
     "start_time": "2024-06-18T08:04:28.532723Z"
    }
   },
   "cell_type": "code",
   "source": [
    "# read ONE vcf file\n",
    "\n",
    "def create_vcf_df(path):\n",
    "    with open(path, 'r') as f:\n",
    "        lines = [l for l in f if not l.startswith('##')]\n",
    "    return pd.read_csv(\n",
    "        io.StringIO(''.join(lines)),\n",
    "        dtype={'#CHROM': str, 'POS': int, 'ID': str, 'REF': str, 'ALT': str,\n",
    "               'QUAL': str, 'FILTER': str, 'INFO': str},\n",
    "        sep='\\t'\n",
    "    ).rename(columns={'#CHROM': 'CHROM'})\n",
    "\n",
    "# verification de la fonction read_vcf \n",
    "vcf1_df = create_vcf_df(\"/home/yboulkaid/Documents/sample_data/pgtest.data/calls/samp_g0_0.vcf\")\n",
    "vcf1_df"
   ],
   "id": "6ab0490ec5faa08e",
   "outputs": [
    {
     "data": {
      "text/plain": [
       "   CHROM    POS        ID                                                REF  \\\n",
       "0    ref    450      >1>4                                                  T   \n",
       "1    ref    578      >4>9  TTTGCGGGCCGTCAAGATGAACTGGTGCCTGTAGGATTATGTCCTC...   \n",
       "2    ref   1118     >9>12                                                  A   \n",
       "3    ref   1340    >12>14  GATCGGACTTCTTAACGGGTTCCTCACGTAGCGATCTCTACGGGAA...   \n",
       "4    ref   1529    >14>19                                                  C   \n",
       "..   ...    ...       ...                                                ...   \n",
       "95   ref  27003  >489>492                                                  C   \n",
       "96   ref  27134  >492>497                                                  A   \n",
       "97   ref  27275  >497>502  TGCAATAGTTTGCTCGTGGTCAGTATTTTCGGTATAAAACAGAGTT...   \n",
       "98   ref  27745  >502>507  CGGACATGTAGCAGGACTCCTTATAGTTAATGTTCACTATTTAAAG...   \n",
       "99   ref  28436  >507>512                                                  G   \n",
       "\n",
       "                                                  ALT     QUAL FILTER  \\\n",
       "0                                                   G  133.927   PASS   \n",
       "1   TTTGCGGGCCGTCAAGATGAACTGGTGCCTGTAGGATTATGTCCTC...  14.6171   PASS   \n",
       "2                                                   G  177.783   PASS   \n",
       "3                                                   G  116.981   PASS   \n",
       "4   CCCGATCTATGTCGAGGCTTTCGGGCAGGGCCGCTATTAACATCGT...    175.5   PASS   \n",
       "..                                                ...      ...    ...   \n",
       "95                                                  T  411.605   PASS   \n",
       "96  ATACACTAGACGCCCGGGATGTACATATCGTGACTCGTTCCTAGTC...  145.789   PASS   \n",
       "97  T,TGCAATAGTTTGCTCGTGGTCAGTATTTTCGGTATAAAACAGAG...  371.786   PASS   \n",
       "98  CGGACATGTAGCAGGACTCCTTATAGTTAATGTTCACTATTTAAAG...  122.081   PASS   \n",
       "99  GATCTCGTCTGACATCACTTGAATTCTTATATTAGTTCTAAACTTC...  128.002   PASS   \n",
       "\n",
       "                                                 INFO  \\\n",
       "0                              AT=>1>2>4,>1>3>4;DP=46   \n",
       "1                      AT=>4>5>7>8>9,>4>5>6>8>9;DP=50   \n",
       "2                          AT=>9>11>12,>9>10>12;DP=61   \n",
       "3                           AT=>12>13>14,>12>14;DP=47   \n",
       "4     AT=>14>19,>14>15>17>18>19,>14>15>16>18>19;DP=60   \n",
       "..                                                ...   \n",
       "95                 AT=>489>490>492,>489>491>492;DP=43   \n",
       "96  AT=>492>497,>492>493>495>496>497,>492>493>494>...   \n",
       "97  AT=>497>498>500>501>502,>497>502,>497>498>499>...   \n",
       "98  AT=>502>503>504>506>507,>502>503>505>506>507,>...   \n",
       "99  AT=>507>512,>507>508>509>511>512,>507>508>510>...   \n",
       "\n",
       "                      FORMAT  \\\n",
       "0   GT:DP:AD:GL:GQ:GP:XD:MAD   \n",
       "1   GT:DP:AD:GL:GQ:GP:XD:MAD   \n",
       "2   GT:DP:AD:GL:GQ:GP:XD:MAD   \n",
       "3   GT:DP:AD:GL:GQ:GP:XD:MAD   \n",
       "4   GT:DP:AD:GL:GQ:GP:XD:MAD   \n",
       "..                       ...   \n",
       "95  GT:DP:AD:GL:GQ:GP:XD:MAD   \n",
       "96  GT:DP:AD:GL:GQ:GP:XD:MAD   \n",
       "97  GT:DP:AD:GL:GQ:GP:XD:MAD   \n",
       "98  GT:DP:AD:GL:GQ:GP:XD:MAD   \n",
       "99  GT:DP:AD:GL:GQ:GP:XD:MAD   \n",
       "\n",
       "                                               SAMPLE  \n",
       "0   0/0:46:46,0:-2.378747,-15.294357,-107.194421:1...  \n",
       "1   1/0:50:25,25:-3.306431,-2.422690,-3.306431:16:...  \n",
       "2   0/0:61:61,0:-2.701171,-20.002352,-141.869830:1...  \n",
       "3   0/0:47:46,1:-2.770745,-13.991746,-90.540504:11...  \n",
       "4   0/0:60:60,0,0:-2.835631,-19.908524,-19.908524,...  \n",
       "..                                                ...  \n",
       "95  1/0:43:20,23:-43.061833,-2.378411,-35.907321:2...  \n",
       "96  0/0:50:50,0,0:-2.439843,-16.541658,-16.541658,...  \n",
       "97  1/2:52:2,24,27:-39.603567,-3.504039,-35.913027...  \n",
       "98  0/0:42:42,0,0:-2.420888,-14.151905,-14.151905,...  \n",
       "99  0/0:44:44,0,0:-2.374808,-14.697901,-14.697901,...  \n",
       "\n",
       "[100 rows x 10 columns]"
      ],
      "text/html": [
       "<div>\n",
       "<style scoped>\n",
       "    .dataframe tbody tr th:only-of-type {\n",
       "        vertical-align: middle;\n",
       "    }\n",
       "\n",
       "    .dataframe tbody tr th {\n",
       "        vertical-align: top;\n",
       "    }\n",
       "\n",
       "    .dataframe thead th {\n",
       "        text-align: right;\n",
       "    }\n",
       "</style>\n",
       "<table border=\"1\" class=\"dataframe\">\n",
       "  <thead>\n",
       "    <tr style=\"text-align: right;\">\n",
       "      <th></th>\n",
       "      <th>CHROM</th>\n",
       "      <th>POS</th>\n",
       "      <th>ID</th>\n",
       "      <th>REF</th>\n",
       "      <th>ALT</th>\n",
       "      <th>QUAL</th>\n",
       "      <th>FILTER</th>\n",
       "      <th>INFO</th>\n",
       "      <th>FORMAT</th>\n",
       "      <th>SAMPLE</th>\n",
       "    </tr>\n",
       "  </thead>\n",
       "  <tbody>\n",
       "    <tr>\n",
       "      <th>0</th>\n",
       "      <td>ref</td>\n",
       "      <td>450</td>\n",
       "      <td>&gt;1&gt;4</td>\n",
       "      <td>T</td>\n",
       "      <td>G</td>\n",
       "      <td>133.927</td>\n",
       "      <td>PASS</td>\n",
       "      <td>AT=&gt;1&gt;2&gt;4,&gt;1&gt;3&gt;4;DP=46</td>\n",
       "      <td>GT:DP:AD:GL:GQ:GP:XD:MAD</td>\n",
       "      <td>0/0:46:46,0:-2.378747,-15.294357,-107.194421:1...</td>\n",
       "    </tr>\n",
       "    <tr>\n",
       "      <th>1</th>\n",
       "      <td>ref</td>\n",
       "      <td>578</td>\n",
       "      <td>&gt;4&gt;9</td>\n",
       "      <td>TTTGCGGGCCGTCAAGATGAACTGGTGCCTGTAGGATTATGTCCTC...</td>\n",
       "      <td>TTTGCGGGCCGTCAAGATGAACTGGTGCCTGTAGGATTATGTCCTC...</td>\n",
       "      <td>14.6171</td>\n",
       "      <td>PASS</td>\n",
       "      <td>AT=&gt;4&gt;5&gt;7&gt;8&gt;9,&gt;4&gt;5&gt;6&gt;8&gt;9;DP=50</td>\n",
       "      <td>GT:DP:AD:GL:GQ:GP:XD:MAD</td>\n",
       "      <td>1/0:50:25,25:-3.306431,-2.422690,-3.306431:16:...</td>\n",
       "    </tr>\n",
       "    <tr>\n",
       "      <th>2</th>\n",
       "      <td>ref</td>\n",
       "      <td>1118</td>\n",
       "      <td>&gt;9&gt;12</td>\n",
       "      <td>A</td>\n",
       "      <td>G</td>\n",
       "      <td>177.783</td>\n",
       "      <td>PASS</td>\n",
       "      <td>AT=&gt;9&gt;11&gt;12,&gt;9&gt;10&gt;12;DP=61</td>\n",
       "      <td>GT:DP:AD:GL:GQ:GP:XD:MAD</td>\n",
       "      <td>0/0:61:61,0:-2.701171,-20.002352,-141.869830:1...</td>\n",
       "    </tr>\n",
       "    <tr>\n",
       "      <th>3</th>\n",
       "      <td>ref</td>\n",
       "      <td>1340</td>\n",
       "      <td>&gt;12&gt;14</td>\n",
       "      <td>GATCGGACTTCTTAACGGGTTCCTCACGTAGCGATCTCTACGGGAA...</td>\n",
       "      <td>G</td>\n",
       "      <td>116.981</td>\n",
       "      <td>PASS</td>\n",
       "      <td>AT=&gt;12&gt;13&gt;14,&gt;12&gt;14;DP=47</td>\n",
       "      <td>GT:DP:AD:GL:GQ:GP:XD:MAD</td>\n",
       "      <td>0/0:47:46,1:-2.770745,-13.991746,-90.540504:11...</td>\n",
       "    </tr>\n",
       "    <tr>\n",
       "      <th>4</th>\n",
       "      <td>ref</td>\n",
       "      <td>1529</td>\n",
       "      <td>&gt;14&gt;19</td>\n",
       "      <td>C</td>\n",
       "      <td>CCCGATCTATGTCGAGGCTTTCGGGCAGGGCCGCTATTAACATCGT...</td>\n",
       "      <td>175.5</td>\n",
       "      <td>PASS</td>\n",
       "      <td>AT=&gt;14&gt;19,&gt;14&gt;15&gt;17&gt;18&gt;19,&gt;14&gt;15&gt;16&gt;18&gt;19;DP=60</td>\n",
       "      <td>GT:DP:AD:GL:GQ:GP:XD:MAD</td>\n",
       "      <td>0/0:60:60,0,0:-2.835631,-19.908524,-19.908524,...</td>\n",
       "    </tr>\n",
       "    <tr>\n",
       "      <th>...</th>\n",
       "      <td>...</td>\n",
       "      <td>...</td>\n",
       "      <td>...</td>\n",
       "      <td>...</td>\n",
       "      <td>...</td>\n",
       "      <td>...</td>\n",
       "      <td>...</td>\n",
       "      <td>...</td>\n",
       "      <td>...</td>\n",
       "      <td>...</td>\n",
       "    </tr>\n",
       "    <tr>\n",
       "      <th>95</th>\n",
       "      <td>ref</td>\n",
       "      <td>27003</td>\n",
       "      <td>&gt;489&gt;492</td>\n",
       "      <td>C</td>\n",
       "      <td>T</td>\n",
       "      <td>411.605</td>\n",
       "      <td>PASS</td>\n",
       "      <td>AT=&gt;489&gt;490&gt;492,&gt;489&gt;491&gt;492;DP=43</td>\n",
       "      <td>GT:DP:AD:GL:GQ:GP:XD:MAD</td>\n",
       "      <td>1/0:43:20,23:-43.061833,-2.378411,-35.907321:2...</td>\n",
       "    </tr>\n",
       "    <tr>\n",
       "      <th>96</th>\n",
       "      <td>ref</td>\n",
       "      <td>27134</td>\n",
       "      <td>&gt;492&gt;497</td>\n",
       "      <td>A</td>\n",
       "      <td>ATACACTAGACGCCCGGGATGTACATATCGTGACTCGTTCCTAGTC...</td>\n",
       "      <td>145.789</td>\n",
       "      <td>PASS</td>\n",
       "      <td>AT=&gt;492&gt;497,&gt;492&gt;493&gt;495&gt;496&gt;497,&gt;492&gt;493&gt;494&gt;...</td>\n",
       "      <td>GT:DP:AD:GL:GQ:GP:XD:MAD</td>\n",
       "      <td>0/0:50:50,0,0:-2.439843,-16.541658,-16.541658,...</td>\n",
       "    </tr>\n",
       "    <tr>\n",
       "      <th>97</th>\n",
       "      <td>ref</td>\n",
       "      <td>27275</td>\n",
       "      <td>&gt;497&gt;502</td>\n",
       "      <td>TGCAATAGTTTGCTCGTGGTCAGTATTTTCGGTATAAAACAGAGTT...</td>\n",
       "      <td>T,TGCAATAGTTTGCTCGTGGTCAGTATTTTCGGTATAAAACAGAG...</td>\n",
       "      <td>371.786</td>\n",
       "      <td>PASS</td>\n",
       "      <td>AT=&gt;497&gt;498&gt;500&gt;501&gt;502,&gt;497&gt;502,&gt;497&gt;498&gt;499&gt;...</td>\n",
       "      <td>GT:DP:AD:GL:GQ:GP:XD:MAD</td>\n",
       "      <td>1/2:52:2,24,27:-39.603567,-3.504039,-35.913027...</td>\n",
       "    </tr>\n",
       "    <tr>\n",
       "      <th>98</th>\n",
       "      <td>ref</td>\n",
       "      <td>27745</td>\n",
       "      <td>&gt;502&gt;507</td>\n",
       "      <td>CGGACATGTAGCAGGACTCCTTATAGTTAATGTTCACTATTTAAAG...</td>\n",
       "      <td>CGGACATGTAGCAGGACTCCTTATAGTTAATGTTCACTATTTAAAG...</td>\n",
       "      <td>122.081</td>\n",
       "      <td>PASS</td>\n",
       "      <td>AT=&gt;502&gt;503&gt;504&gt;506&gt;507,&gt;502&gt;503&gt;505&gt;506&gt;507,&gt;...</td>\n",
       "      <td>GT:DP:AD:GL:GQ:GP:XD:MAD</td>\n",
       "      <td>0/0:42:42,0,0:-2.420888,-14.151905,-14.151905,...</td>\n",
       "    </tr>\n",
       "    <tr>\n",
       "      <th>99</th>\n",
       "      <td>ref</td>\n",
       "      <td>28436</td>\n",
       "      <td>&gt;507&gt;512</td>\n",
       "      <td>G</td>\n",
       "      <td>GATCTCGTCTGACATCACTTGAATTCTTATATTAGTTCTAAACTTC...</td>\n",
       "      <td>128.002</td>\n",
       "      <td>PASS</td>\n",
       "      <td>AT=&gt;507&gt;512,&gt;507&gt;508&gt;509&gt;511&gt;512,&gt;507&gt;508&gt;510&gt;...</td>\n",
       "      <td>GT:DP:AD:GL:GQ:GP:XD:MAD</td>\n",
       "      <td>0/0:44:44,0,0:-2.374808,-14.697901,-14.697901,...</td>\n",
       "    </tr>\n",
       "  </tbody>\n",
       "</table>\n",
       "<p>100 rows × 10 columns</p>\n",
       "</div>"
      ]
     },
     "execution_count": 50,
     "metadata": {},
     "output_type": "execute_result"
    }
   ],
   "execution_count": 50
  },
  {
   "metadata": {
    "ExecuteTime": {
     "end_time": "2024-06-18T09:50:12.867545Z",
     "start_time": "2024-06-18T09:50:12.860363Z"
    }
   },
   "cell_type": "code",
   "source": [
    "# old\n",
    "\n",
    "def chemins1(vcf_df):    \n",
    "    chemins_possibles = []\n",
    "    for i in range(len(vcf_df[\"INFO\"])):\n",
    "        text = vcf_df[\"INFO\"][i]\n",
    "        m = re.search('AT=>(.+?);DP', text)\n",
    "        if m:\n",
    "            found = m.group(1)\n",
    "        chemins_possibles.append(found)\n",
    "        \n",
    "    for i in range(len(chemins_possibles)):\n",
    "        chemins_possibles[i] = chemins_possibles[i].split(',')\n",
    "        \n",
    "    ########################################################################\n",
    "    chemins_pris = []\n",
    "    for i in vcf_df[\"SAMPLE\"]:\n",
    "        found = i[0:3]\n",
    "        chemins_pris.append(found)\n",
    "    \n",
    "    for i in range(len(chemins_pris)):\n",
    "        chemins_pris[i] = chemins_pris[i].split('/')\n",
    "        for j in range(len(chemins_pris[i])):\n",
    "            chemins_pris[i][j] = int(chemins_pris[i][j])\n",
    "            \n",
    "    ########################################################################\n",
    "    chemins_combines = copy.deepcopy(chemins_pris)\n",
    "    \n",
    "    for i in range(len(chemins_pris)):\n",
    "        chemins_combines[i][0] = chemins_possibles[i][chemins_pris[i][0]]\n",
    "        chemins_combines[i][1] = chemins_possibles[i][chemins_pris[i][1]]\n",
    "        \n",
    "    ''' cas simple pour comprendre\n",
    "    print(chemins_pris[0])\n",
    "    chemins_pris[0][0] = chemins_possibles[0][chemins_pris[0][0]]\n",
    "    chemins_pris[0][1] = chemins_possibles[0][chemins_pris[0][1]]\n",
    "    print(chemins_pris[0])'''\n",
    "    \n",
    "    chemins_possibles = sum(chemins_possibles, [])\n",
    "    chemins_pris = sum(chemins_pris, [])\n",
    "    chemins_combines = sum(chemins_combines, [])\n",
    "    \n",
    "    return chemins_possibles, chemins_pris, chemins_combines"
   ],
   "id": "6f1297b77b958959",
   "outputs": [],
   "execution_count": 114
  },
  {
   "metadata": {
    "ExecuteTime": {
     "end_time": "2024-06-18T09:50:13.315812Z",
     "start_time": "2024-06-18T09:50:13.310612Z"
    }
   },
   "cell_type": "code",
   "source": [
    "chemins_possibles1, chemins_pris1, chemins_combines1 = chemins1(vcf1_df)\n",
    "print('========== possibles ==========')\n",
    "print(chemins_possibles1[0:5])\n",
    "print('============ pris =============')\n",
    "print(chemins_pris1[0:5])\n",
    "print('========== combinés ===========')\n",
    "print(chemins_combines1[0:5])"
   ],
   "id": "ada6cdb956d0b3b0",
   "outputs": [
    {
     "name": "stdout",
     "output_type": "stream",
     "text": [
      "========== possibles ==========\n",
      "['1>2>4', '>1>3>4', '4>5>7>8>9', '>4>5>6>8>9', '9>11>12']\n",
      "============ pris =============\n",
      "[0, 0, 1, 0, 0]\n",
      "========== combinés ===========\n",
      "['1>2>4', '1>2>4', '>4>5>6>8>9', '4>5>7>8>9', '9>11>12']\n"
     ]
    }
   ],
   "execution_count": 115
  },
  {
   "metadata": {},
   "cell_type": "markdown",
   "source": "# ici",
   "id": "161861c7ff026268"
  },
  {
   "metadata": {
    "ExecuteTime": {
     "end_time": "2024-06-18T13:33:06.219628Z",
     "start_time": "2024-06-18T13:33:06.214335Z"
    }
   },
   "cell_type": "code",
   "source": [
    "def create_df(which_vcf_list):\n",
    "    df = pd.DataFrame(columns=['snarl index', 'snarl', 'times taken','index provisoire'])\n",
    "    for i in range(len(chemins_finaux)):\n",
    "        df.loc[i, 'snarl'] = chemins_finaux[i][0] \n",
    "        df.loc[i, 'times taken'] = int(chemins_finaux[i][1]) \n",
    "    \n",
    "    # fill 'snarl index' column\n",
    "    for i in range(len(df['snarl index'])):\n",
    "        if df['snarl'][i][0] == '>':\n",
    "            S = re.search('>(.+?)>', df['snarl'][i])\n",
    "            if S:\n",
    "                s = S.group(1)\n",
    "            E = re.search('.+>(.*)', df['snarl'][i])\n",
    "            if E:\n",
    "                e = E.group(1)\n",
    "            df.loc[i, \"snarl index\"] = s + '>' + e  \n",
    "            df.loc[i, \"index provisoire\"] = int(s)\n",
    "        else:\n",
    "            S = re.search('(.+?)>', df['snarl'][i])\n",
    "            if S:\n",
    "                s = S.group(1)\n",
    "            E = re.search('.+>(.*)', df['snarl'][i])\n",
    "            if E:\n",
    "                e = E.group(1)\n",
    "            df.loc[i, \"snarl index\"] = s + '>' + e\n",
    "            df.loc[i, \"index provisoire\"] = int(s)\n",
    "    \n",
    "    #df.set_index('snarl index', inplace=True, drop=True)\n",
    "    df.set_index('index provisoire', inplace=True, drop=True)\n",
    "    df.sort_index(inplace=True)\n",
    "    df.reset_index()\n",
    "    df.set_index('snarl index', inplace=True, drop=True)\n",
    "    return df"
   ],
   "id": "1857b24902d56af8",
   "outputs": [],
   "execution_count": 264
  },
  {
   "metadata": {
    "ExecuteTime": {
     "end_time": "2024-06-18T13:45:12.843895Z",
     "start_time": "2024-06-18T13:45:12.344976Z"
    }
   },
   "cell_type": "code",
   "source": [
    "def chemins(vcf_df):\n",
    "    chemins_possibles = []\n",
    "    for i in range(len(vcf_df[\"INFO\"])):\n",
    "        text = vcf_df[\"INFO\"][i]\n",
    "        m = re.search('AT=>(.+?);DP', text)\n",
    "        if m:\n",
    "            found = m.group(1)\n",
    "        chemins_possibles.append(found)\n",
    "        \n",
    "    for i in range(len(chemins_possibles)):\n",
    "        chemins_possibles[i] = chemins_possibles[i].split(',')\n",
    "        \n",
    "    ########################################################################\n",
    "    chemins_pris = []\n",
    "    for i in vcf_df[\"SAMPLE\"]:\n",
    "        found = i[0:3]\n",
    "        chemins_pris.append(found)\n",
    "    \n",
    "    for i in range(len(chemins_pris)):\n",
    "        chemins_pris[i] = chemins_pris[i].split('/')\n",
    "        for j in range(len(chemins_pris[i])):\n",
    "            chemins_pris[i][j] = int(chemins_pris[i][j])\n",
    "            \n",
    "    ########################################################################\n",
    "    chemins_combines = copy.deepcopy(chemins_pris)\n",
    "    \n",
    "    for i in range(len(chemins_pris)):\n",
    "        chemins_combines[i][0] = chemins_possibles[i][chemins_pris[i][0]]\n",
    "        chemins_combines[i][1] = chemins_possibles[i][chemins_pris[i][1]]\n",
    "        \n",
    "    chemins_possibles = sum(chemins_possibles, [])\n",
    "    chemins_pris = sum(chemins_pris, [])\n",
    "    chemins_combines = sum(chemins_combines, [])\n",
    "    chemins_finaux = [[i,chemins_combines.count(i)] for i in set(chemins_combines)]\n",
    "    \n",
    "    return chemins_possibles, chemins_pris, chemins_combines, chemins_finaux\n",
    "\n",
    "path = \"/home/yboulkaid/Documents/sample_data/pgtest.data/calls/\"\n",
    "all_vcf_df = [create_vcf_df(path+i) for i in all_vcf]\n",
    "\n",
    "chemins_possibles = [chemins(i)[0] for i in all_vcf_df]\n",
    "# chemins_possibles = sum(chemins_possibles, [])\n",
    "# chemins_possibles = list(set(chemins_possibles))\n",
    "chemins_pris = [chemins(i)[1] for i in all_vcf_df]\n",
    "chemins_combines = [chemins(i)[2] for i in all_vcf_df]\n",
    "chemins_finaux = [chemins(i)[3] for i in all_vcf_df]\n",
    "\n",
    "'''chemins_combines = sum(chemins_combines, [])\n",
    "chemins_finaux = [[i,chemins_combines.count(i)] for i in set(chemins_combines)]'''"
   ],
   "id": "8fe42a4f4d3b69d1",
   "outputs": [
    {
     "data": {
      "text/plain": [
       "'chemins_combines = sum(chemins_combines, [])\\nchemins_finaux = [[i,chemins_combines.count(i)] for i in set(chemins_combines)]'"
      ]
     },
     "execution_count": 280,
     "metadata": {},
     "output_type": "execute_result"
    }
   ],
   "execution_count": 280
  },
  {
   "metadata": {},
   "cell_type": "code",
   "outputs": [],
   "execution_count": null,
   "source": [
    "#commentaires bizarres je sais pas où les placer\n",
    "\n",
    "# on refait la même chose mais pour tous les VCF \n",
    "# création d'un df avec autant de lignes que de fichiers VCF \n",
    "# et mtn qu'on a un tout beau data frame on peut faire tout pareil mais en parsant tous les VCF :D \n",
    "# on refait pareil mais en séparant les groupes g0 et g1"
   ],
   "id": "c8bbcd17f0adc08c"
  },
  {
   "metadata": {},
   "cell_type": "code",
   "outputs": [],
   "execution_count": 4,
   "source": [
    "# read all vcf files and store them in a list\n",
    "\n",
    "all_vcf = os.listdir(\"/home/yboulkaid/Documents/sample_data/pgtest.data/calls/\")\n",
    "g0_vcf =  []\n",
    "g1_vcf = []\n",
    "for i in all_vcf:\n",
    "    if 'g0' in i:\n",
    "        g0_vcf.append(i)\n",
    "    elif 'g1' in i:\n",
    "        g1_vcf.append(i)"
   ],
   "id": "53c6135da34640b2"
  },
  {
   "metadata": {},
   "cell_type": "code",
   "outputs": [],
   "execution_count": null,
   "source": [
    "'''def times_taken(chemins_possibles, chemins_pris, chemins_combines, df):    \n",
    "    combine_count = list((x,chemins_combines.count(x)) for x in set(chemins_combines))\n",
    "    #print(combine_count)\n",
    "    for i in range(len(combine_count)):\n",
    "        for j in range(len(chemins_pris)):\n",
    "            if combine_count[i][0] == str(df['snarl'].iloc[j]):\n",
    "                df.loc[j, \"times taken\"] += combine_count[i][1]'''\n",
    "    "
   ],
   "id": "7642b16d59419ea4"
  },
  {
   "metadata": {},
   "cell_type": "markdown",
   "source": "# là",
   "id": "4f2d595820835689"
  },
  {
   "metadata": {
    "ExecuteTime": {
     "end_time": "2024-06-18T13:45:16.369480Z",
     "start_time": "2024-06-18T13:45:16.334604Z"
    }
   },
   "cell_type": "code",
   "source": [
    "# complete df\n",
    "snarl_df = create_df(all_vcf)\n",
    "snarl_df"
   ],
   "id": "837d98c2ef6ebe41",
   "outputs": [
    {
     "ename": "TypeError",
     "evalue": "int() argument must be a string, a bytes-like object or a real number, not 'list'",
     "output_type": "error",
     "traceback": [
      "\u001B[0;31m---------------------------------------------------------------------------\u001B[0m",
      "\u001B[0;31mTypeError\u001B[0m                                 Traceback (most recent call last)",
      "Cell \u001B[0;32mIn[281], line 2\u001B[0m\n\u001B[1;32m      1\u001B[0m \u001B[38;5;66;03m# complete df\u001B[39;00m\n\u001B[0;32m----> 2\u001B[0m snarl_df \u001B[38;5;241m=\u001B[39m \u001B[43mcreate_df\u001B[49m\u001B[43m(\u001B[49m\u001B[43mall_vcf\u001B[49m\u001B[43m)\u001B[49m\n\u001B[1;32m      3\u001B[0m snarl_df\n",
      "Cell \u001B[0;32mIn[264], line 5\u001B[0m, in \u001B[0;36mcreate_df\u001B[0;34m(which_vcf_list)\u001B[0m\n\u001B[1;32m      3\u001B[0m \u001B[38;5;28;01mfor\u001B[39;00m i \u001B[38;5;129;01min\u001B[39;00m \u001B[38;5;28mrange\u001B[39m(\u001B[38;5;28mlen\u001B[39m(chemins_finaux)):\n\u001B[1;32m      4\u001B[0m     df\u001B[38;5;241m.\u001B[39mloc[i, \u001B[38;5;124m'\u001B[39m\u001B[38;5;124msnarl\u001B[39m\u001B[38;5;124m'\u001B[39m] \u001B[38;5;241m=\u001B[39m chemins_finaux[i][\u001B[38;5;241m0\u001B[39m] \n\u001B[0;32m----> 5\u001B[0m     df\u001B[38;5;241m.\u001B[39mloc[i, \u001B[38;5;124m'\u001B[39m\u001B[38;5;124mtimes taken\u001B[39m\u001B[38;5;124m'\u001B[39m] \u001B[38;5;241m=\u001B[39m \u001B[38;5;28;43mint\u001B[39;49m\u001B[43m(\u001B[49m\u001B[43mchemins_finaux\u001B[49m\u001B[43m[\u001B[49m\u001B[43mi\u001B[49m\u001B[43m]\u001B[49m\u001B[43m[\u001B[49m\u001B[38;5;241;43m1\u001B[39;49m\u001B[43m]\u001B[49m\u001B[43m)\u001B[49m \n\u001B[1;32m      7\u001B[0m \u001B[38;5;66;03m# fill 'snarl index' column\u001B[39;00m\n\u001B[1;32m      8\u001B[0m \u001B[38;5;28;01mfor\u001B[39;00m i \u001B[38;5;129;01min\u001B[39;00m \u001B[38;5;28mrange\u001B[39m(\u001B[38;5;28mlen\u001B[39m(df[\u001B[38;5;124m'\u001B[39m\u001B[38;5;124msnarl index\u001B[39m\u001B[38;5;124m'\u001B[39m])):\n",
      "\u001B[0;31mTypeError\u001B[0m: int() argument must be a string, a bytes-like object or a real number, not 'list'"
     ]
    }
   ],
   "execution_count": 281
  },
  {
   "metadata": {},
   "cell_type": "code",
   "outputs": [],
   "execution_count": 59,
   "source": "# vcf_df = [create_vcf_df(\"/home/yboulkaid/Documents/sample_data/pgtest.data/calls/\"+i) for i in all_vcf]",
   "id": "f5968f4b006dba76"
  },
  {
   "metadata": {
    "ExecuteTime": {
     "end_time": "2024-06-18T13:45:01.911234Z",
     "start_time": "2024-06-18T13:45:01.756567Z"
    }
   },
   "cell_type": "code",
   "source": [
    "# group0 df\n",
    "g0_df = create_df(g0_vcf)\n",
    "g0_df"
   ],
   "id": "c1c5daf296b60d4a",
   "outputs": [
    {
     "data": {
      "text/plain": [
       "                            snarl times taken\n",
       "snarl index                                  \n",
       "1>4                         1>2>4          51\n",
       "1>4                        >1>3>4          69\n",
       "4>9                          >4>9           8\n",
       "4>9                    >4>5>6>8>9          59\n",
       "4>9                     4>5>7>8>9          53\n",
       "...                           ...         ...\n",
       "502>507      >502>503>505>506>507          28\n",
       "502>507       502>503>504>506>507          89\n",
       "507>512      >507>508>509>511>512           7\n",
       "507>512      >507>508>510>511>512          11\n",
       "507>512                   507>512         102\n",
       "\n",
       "[379 rows x 2 columns]"
      ],
      "text/html": [
       "<div>\n",
       "<style scoped>\n",
       "    .dataframe tbody tr th:only-of-type {\n",
       "        vertical-align: middle;\n",
       "    }\n",
       "\n",
       "    .dataframe tbody tr th {\n",
       "        vertical-align: top;\n",
       "    }\n",
       "\n",
       "    .dataframe thead th {\n",
       "        text-align: right;\n",
       "    }\n",
       "</style>\n",
       "<table border=\"1\" class=\"dataframe\">\n",
       "  <thead>\n",
       "    <tr style=\"text-align: right;\">\n",
       "      <th></th>\n",
       "      <th>snarl</th>\n",
       "      <th>times taken</th>\n",
       "    </tr>\n",
       "    <tr>\n",
       "      <th>snarl index</th>\n",
       "      <th></th>\n",
       "      <th></th>\n",
       "    </tr>\n",
       "  </thead>\n",
       "  <tbody>\n",
       "    <tr>\n",
       "      <th>1&gt;4</th>\n",
       "      <td>1&gt;2&gt;4</td>\n",
       "      <td>51</td>\n",
       "    </tr>\n",
       "    <tr>\n",
       "      <th>1&gt;4</th>\n",
       "      <td>&gt;1&gt;3&gt;4</td>\n",
       "      <td>69</td>\n",
       "    </tr>\n",
       "    <tr>\n",
       "      <th>4&gt;9</th>\n",
       "      <td>&gt;4&gt;9</td>\n",
       "      <td>8</td>\n",
       "    </tr>\n",
       "    <tr>\n",
       "      <th>4&gt;9</th>\n",
       "      <td>&gt;4&gt;5&gt;6&gt;8&gt;9</td>\n",
       "      <td>59</td>\n",
       "    </tr>\n",
       "    <tr>\n",
       "      <th>4&gt;9</th>\n",
       "      <td>4&gt;5&gt;7&gt;8&gt;9</td>\n",
       "      <td>53</td>\n",
       "    </tr>\n",
       "    <tr>\n",
       "      <th>...</th>\n",
       "      <td>...</td>\n",
       "      <td>...</td>\n",
       "    </tr>\n",
       "    <tr>\n",
       "      <th>502&gt;507</th>\n",
       "      <td>&gt;502&gt;503&gt;505&gt;506&gt;507</td>\n",
       "      <td>28</td>\n",
       "    </tr>\n",
       "    <tr>\n",
       "      <th>502&gt;507</th>\n",
       "      <td>502&gt;503&gt;504&gt;506&gt;507</td>\n",
       "      <td>89</td>\n",
       "    </tr>\n",
       "    <tr>\n",
       "      <th>507&gt;512</th>\n",
       "      <td>&gt;507&gt;508&gt;509&gt;511&gt;512</td>\n",
       "      <td>7</td>\n",
       "    </tr>\n",
       "    <tr>\n",
       "      <th>507&gt;512</th>\n",
       "      <td>&gt;507&gt;508&gt;510&gt;511&gt;512</td>\n",
       "      <td>11</td>\n",
       "    </tr>\n",
       "    <tr>\n",
       "      <th>507&gt;512</th>\n",
       "      <td>507&gt;512</td>\n",
       "      <td>102</td>\n",
       "    </tr>\n",
       "  </tbody>\n",
       "</table>\n",
       "<p>379 rows × 2 columns</p>\n",
       "</div>"
      ]
     },
     "execution_count": 279,
     "metadata": {},
     "output_type": "execute_result"
    }
   ],
   "execution_count": 279
  },
  {
   "metadata": {
    "ExecuteTime": {
     "end_time": "2024-06-18T12:41:20.067990Z",
     "start_time": "2024-06-18T12:41:19.901061Z"
    }
   },
   "cell_type": "code",
   "source": [
    "# group1 df\n",
    "g1_df = create_df(g1_vcf)\n",
    "g1_df"
   ],
   "id": "84a8161edbd60308",
   "outputs": [
    {
     "data": {
      "text/plain": [
       "                            snarl times taken\n",
       "snarl index                                  \n",
       "1>4                         1>2>4          51\n",
       "1>4                        >1>3>4          69\n",
       "4>9                          >4>9           8\n",
       "4>9                    >4>5>6>8>9          59\n",
       "4>9                     4>5>7>8>9          53\n",
       "...                           ...         ...\n",
       "502>507      >502>503>505>506>507          28\n",
       "502>507       502>503>504>506>507          89\n",
       "507>512      >507>508>509>511>512           7\n",
       "507>512      >507>508>510>511>512          11\n",
       "507>512                   507>512         102\n",
       "\n",
       "[379 rows x 2 columns]"
      ],
      "text/html": [
       "<div>\n",
       "<style scoped>\n",
       "    .dataframe tbody tr th:only-of-type {\n",
       "        vertical-align: middle;\n",
       "    }\n",
       "\n",
       "    .dataframe tbody tr th {\n",
       "        vertical-align: top;\n",
       "    }\n",
       "\n",
       "    .dataframe thead th {\n",
       "        text-align: right;\n",
       "    }\n",
       "</style>\n",
       "<table border=\"1\" class=\"dataframe\">\n",
       "  <thead>\n",
       "    <tr style=\"text-align: right;\">\n",
       "      <th></th>\n",
       "      <th>snarl</th>\n",
       "      <th>times taken</th>\n",
       "    </tr>\n",
       "    <tr>\n",
       "      <th>snarl index</th>\n",
       "      <th></th>\n",
       "      <th></th>\n",
       "    </tr>\n",
       "  </thead>\n",
       "  <tbody>\n",
       "    <tr>\n",
       "      <th>1&gt;4</th>\n",
       "      <td>1&gt;2&gt;4</td>\n",
       "      <td>51</td>\n",
       "    </tr>\n",
       "    <tr>\n",
       "      <th>1&gt;4</th>\n",
       "      <td>&gt;1&gt;3&gt;4</td>\n",
       "      <td>69</td>\n",
       "    </tr>\n",
       "    <tr>\n",
       "      <th>4&gt;9</th>\n",
       "      <td>&gt;4&gt;9</td>\n",
       "      <td>8</td>\n",
       "    </tr>\n",
       "    <tr>\n",
       "      <th>4&gt;9</th>\n",
       "      <td>&gt;4&gt;5&gt;6&gt;8&gt;9</td>\n",
       "      <td>59</td>\n",
       "    </tr>\n",
       "    <tr>\n",
       "      <th>4&gt;9</th>\n",
       "      <td>4&gt;5&gt;7&gt;8&gt;9</td>\n",
       "      <td>53</td>\n",
       "    </tr>\n",
       "    <tr>\n",
       "      <th>...</th>\n",
       "      <td>...</td>\n",
       "      <td>...</td>\n",
       "    </tr>\n",
       "    <tr>\n",
       "      <th>502&gt;507</th>\n",
       "      <td>&gt;502&gt;503&gt;505&gt;506&gt;507</td>\n",
       "      <td>28</td>\n",
       "    </tr>\n",
       "    <tr>\n",
       "      <th>502&gt;507</th>\n",
       "      <td>502&gt;503&gt;504&gt;506&gt;507</td>\n",
       "      <td>89</td>\n",
       "    </tr>\n",
       "    <tr>\n",
       "      <th>507&gt;512</th>\n",
       "      <td>&gt;507&gt;508&gt;509&gt;511&gt;512</td>\n",
       "      <td>7</td>\n",
       "    </tr>\n",
       "    <tr>\n",
       "      <th>507&gt;512</th>\n",
       "      <td>&gt;507&gt;508&gt;510&gt;511&gt;512</td>\n",
       "      <td>11</td>\n",
       "    </tr>\n",
       "    <tr>\n",
       "      <th>507&gt;512</th>\n",
       "      <td>507&gt;512</td>\n",
       "      <td>102</td>\n",
       "    </tr>\n",
       "  </tbody>\n",
       "</table>\n",
       "<p>379 rows × 2 columns</p>\n",
       "</div>"
      ]
     },
     "execution_count": 204,
     "metadata": {},
     "output_type": "execute_result"
    }
   ],
   "execution_count": 204
  },
  {
   "metadata": {},
   "cell_type": "markdown",
   "source": "## pvaleurs aaaaah",
   "id": "5cfdfca16eedd01f"
  },
  {
   "metadata": {
    "ExecuteTime": {
     "end_time": "2024-06-18T13:29:58.161619Z",
     "start_time": "2024-06-18T13:29:58.158376Z"
    }
   },
   "cell_type": "code",
   "source": [
    "#snarl_df.index.value_counts()['4>9']\n",
    "len(chemins_possibles)"
   ],
   "id": "69d17b1e1a66bc18",
   "outputs": [
    {
     "data": {
      "text/plain": [
       "60"
      ]
     },
     "execution_count": 263,
     "metadata": {},
     "output_type": "execute_result"
    }
   ],
   "execution_count": 263
  },
  {
   "metadata": {
    "ExecuteTime": {
     "end_time": "2024-06-18T13:25:26.612096Z",
     "start_time": "2024-06-18T13:25:26.607090Z"
    }
   },
   "cell_type": "code",
   "source": [
    "# mtn on utilise g0_df et g1_df pour créer des tables de contingences (en précisant pour quel snarl on veut créer la table)\n",
    "# old\n",
    "def table_contingence(which_snarl):\n",
    "    n = snarl_df.index.value_counts()[which_snarl]\n",
    "    print(n)\n",
    "    chem = []\n",
    "    for i in range(n):\n",
    "        chem.append(g0_df.loc[which_snarl]['snarl'].iloc[i])\n",
    "        print(chem)\n",
    "        #thing.append(g0_df.loc[which_snarl]['snarl'][i])\n",
    "        # corpus_df.loc['it'][1]\n",
    "    '''df2 = pd.DataFrame(columns=['g0', 'g1'], index=chem)\n",
    "    for i in range(len(chem)):\n",
    "        df2.at[chem[i], 'g1'] = g1_df.loc[which_snarl]['times taken'].iloc[i]\n",
    "        df2.at[chem[i], 'g0'] = g0_df.loc[which_snarl]['times taken'].iloc[i]\n",
    "    return df2'''\n",
    "    \n",
    "table_contingence('1>4')\n",
    "\n",
    "def chi2(table):\n",
    "    return chi2_contingency(table).pvalue"
   ],
   "id": "62a36584f68b56a2",
   "outputs": [
    {
     "name": "stdout",
     "output_type": "stream",
     "text": [
      "2\n",
      "['1>2>4']\n",
      "['1>2>4', '>1>3>4']\n"
     ]
    }
   ],
   "execution_count": 249
  },
  {
   "metadata": {
    "ExecuteTime": {
     "end_time": "2024-06-18T12:56:53.321869Z",
     "start_time": "2024-06-18T12:56:53.317688Z"
    }
   },
   "cell_type": "code",
   "source": [
    "# mtn on utilise g0_df et g1_df pour créer des tables de contingences (en précisant pour quel snarl on veut créer la table)\n",
    "# new and not yet improved\n",
    "\n",
    "def table_contingence(which_snarl):\n",
    "    '''chem = []\n",
    "    for i in '''\n",
    "    df2 = pd.DataFrame(columns=['g0', 'g1'])#, index=chem)\n",
    "    \n",
    "\n",
    "print(table_contingence('1>4'))\n",
    "\n",
    "def chi2(table):\n",
    "    return chi2_contingency(table).pvalue"
   ],
   "id": "ceb0f52356ae44d8",
   "outputs": [
    {
     "name": "stdout",
     "output_type": "stream",
     "text": [
      "Empty DataFrame\n",
      "Columns: [g0, g1]\n",
      "Index: []\n"
     ]
    }
   ],
   "execution_count": 237
  },
  {
   "metadata": {
    "ExecuteTime": {
     "end_time": "2024-06-18T12:56:27.472754Z",
     "start_time": "2024-06-18T12:56:27.438354Z"
    }
   },
   "cell_type": "code",
   "source": [
    "pval = []\n",
    "zero_dans_contingence_snarl = [] \n",
    "for i in snarl_df.index.unique():\n",
    "    #if 0 not in table_contingence(i).values:\n",
    "        #print(i)\n",
    "        #table = table_contingence(i)\n",
    "    pval.append([chi2(table_contingence(i)), i])\n",
    "        #print(i, 'ok')\n",
    "    #else:\n",
    "        #pval.append(-1)\n",
    "    #    zero_dans_contingence_snarl.append(i)\n",
    "print(zero_dans_contingence_snarl)"
   ],
   "id": "178821abd3bc518",
   "outputs": [
    {
     "ename": "ValueError",
     "evalue": "No data; `observed` has size 0.",
     "output_type": "error",
     "traceback": [
      "\u001B[0;31m---------------------------------------------------------------------------\u001B[0m",
      "\u001B[0;31mValueError\u001B[0m                                Traceback (most recent call last)",
      "Cell \u001B[0;32mIn[234], line 7\u001B[0m\n\u001B[1;32m      2\u001B[0m zero_dans_contingence_snarl \u001B[38;5;241m=\u001B[39m [] \n\u001B[1;32m      3\u001B[0m \u001B[38;5;28;01mfor\u001B[39;00m i \u001B[38;5;129;01min\u001B[39;00m snarl_df\u001B[38;5;241m.\u001B[39mindex\u001B[38;5;241m.\u001B[39munique():\n\u001B[1;32m      4\u001B[0m     \u001B[38;5;66;03m#if 0 not in table_contingence(i).values:\u001B[39;00m\n\u001B[1;32m      5\u001B[0m         \u001B[38;5;66;03m#print(i)\u001B[39;00m\n\u001B[1;32m      6\u001B[0m         \u001B[38;5;66;03m#table = table_contingence(i)\u001B[39;00m\n\u001B[0;32m----> 7\u001B[0m     pval\u001B[38;5;241m.\u001B[39mappend([\u001B[43mchi2\u001B[49m\u001B[43m(\u001B[49m\u001B[43mtable_contingence\u001B[49m\u001B[43m(\u001B[49m\u001B[43mi\u001B[49m\u001B[43m)\u001B[49m\u001B[43m)\u001B[49m, i])\n\u001B[1;32m      8\u001B[0m         \u001B[38;5;66;03m#print(i, 'ok')\u001B[39;00m\n\u001B[1;32m      9\u001B[0m     \u001B[38;5;66;03m#else:\u001B[39;00m\n\u001B[1;32m     10\u001B[0m         \u001B[38;5;66;03m#pval.append(-1)\u001B[39;00m\n\u001B[1;32m     11\u001B[0m     \u001B[38;5;66;03m#    zero_dans_contingence_snarl.append(i)\u001B[39;00m\n\u001B[1;32m     12\u001B[0m \u001B[38;5;28mprint\u001B[39m(zero_dans_contingence_snarl)\n",
      "Cell \u001B[0;32mIn[233], line 12\u001B[0m, in \u001B[0;36mchi2\u001B[0;34m(table)\u001B[0m\n\u001B[1;32m     11\u001B[0m \u001B[38;5;28;01mdef\u001B[39;00m \u001B[38;5;21mchi2\u001B[39m(table):\n\u001B[0;32m---> 12\u001B[0m     \u001B[38;5;28;01mreturn\u001B[39;00m \u001B[43mchi2_contingency\u001B[49m\u001B[43m(\u001B[49m\u001B[43mtable\u001B[49m\u001B[43m)\u001B[49m\u001B[38;5;241m.\u001B[39mpvalue\n",
      "File \u001B[0;32m~/PycharmProjects/premiers_tests/.venv/lib/python3.10/site-packages/scipy/stats/contingency.py:333\u001B[0m, in \u001B[0;36mchi2_contingency\u001B[0;34m(observed, correction, lambda_)\u001B[0m\n\u001B[1;32m    331\u001B[0m     \u001B[38;5;28;01mraise\u001B[39;00m \u001B[38;5;167;01mValueError\u001B[39;00m(\u001B[38;5;124m\"\u001B[39m\u001B[38;5;124mAll values in `observed` must be nonnegative.\u001B[39m\u001B[38;5;124m\"\u001B[39m)\n\u001B[1;32m    332\u001B[0m \u001B[38;5;28;01mif\u001B[39;00m observed\u001B[38;5;241m.\u001B[39msize \u001B[38;5;241m==\u001B[39m \u001B[38;5;241m0\u001B[39m:\n\u001B[0;32m--> 333\u001B[0m     \u001B[38;5;28;01mraise\u001B[39;00m \u001B[38;5;167;01mValueError\u001B[39;00m(\u001B[38;5;124m\"\u001B[39m\u001B[38;5;124mNo data; `observed` has size 0.\u001B[39m\u001B[38;5;124m\"\u001B[39m)\n\u001B[1;32m    335\u001B[0m expected \u001B[38;5;241m=\u001B[39m expected_freq(observed)\n\u001B[1;32m    336\u001B[0m \u001B[38;5;28;01mif\u001B[39;00m np\u001B[38;5;241m.\u001B[39many(expected \u001B[38;5;241m==\u001B[39m \u001B[38;5;241m0\u001B[39m):\n\u001B[1;32m    337\u001B[0m     \u001B[38;5;66;03m# Include one of the positions where expected is zero in\u001B[39;00m\n\u001B[1;32m    338\u001B[0m     \u001B[38;5;66;03m# the exception message.\u001B[39;00m\n",
      "\u001B[0;31mValueError\u001B[0m: No data; `observed` has size 0."
     ]
    }
   ],
   "execution_count": 234
  },
  {
   "metadata": {
    "ExecuteTime": {
     "end_time": "2024-06-18T07:31:40.226351Z",
     "start_time": "2024-06-18T07:31:40.220856Z"
    }
   },
   "cell_type": "code",
   "source": [
    "def create_pval_df(pval_list):\n",
    "    pval_df = pd.DataFrame(columns=['snarl index', 'p-valeur', 'moinslog10pvaleur', 'color'])\n",
    "    for i in range(len(pval_list)):\n",
    "        pval_df.loc[i, 'snarl index'] = pval_list[i][1]\n",
    "        pval_df.loc[i, \"p-valeur\"] = pval_list[i][0]\n",
    "        pval_df.loc[i, \"moinslog10pvaleur\"] = -np.log10(pval_list[i][0])\n",
    "    pval_df.set_index('snarl index', inplace=True, drop=True)\n",
    "    conditions = [\n",
    "        (pval_df['moinslog10pvaleur'] == 0.0001),\n",
    "        (pval_df['moinslog10pvaleur'] > 2),\n",
    "        (pval_df['moinslog10pvaleur'] < 2)]\n",
    "    choices = ['red', 'green', 'blue']\n",
    "    pval_df['color'] = np.select(conditions, choices, default='red')\n",
    "\n",
    "    return pval_df"
   ],
   "id": "1976d9a2599dfae8",
   "outputs": [],
   "execution_count": 44
  },
  {
   "metadata": {
    "ExecuteTime": {
     "end_time": "2024-06-18T07:31:41.040723Z",
     "start_time": "2024-06-18T07:31:40.912186Z"
    }
   },
   "cell_type": "code",
   "source": [
    "pv_df_test = create_pval_df(pval)\n",
    "#plt.hist(pval_df['p-valeur'])\n",
    "plt.hist(pv_df_test['p-valeur'])"
   ],
   "id": "22b317313195de23",
   "outputs": [
    {
     "data": {
      "text/plain": [
       "(array([11., 10.,  6.,  4.,  9.,  7.,  5.,  7.,  8., 24.]),\n",
       " array([8.12903173e-07, 1.00000732e-01, 2.00000650e-01, 3.00000569e-01,\n",
       "        4.00000488e-01, 5.00000406e-01, 6.00000325e-01, 7.00000244e-01,\n",
       "        8.00000163e-01, 9.00000081e-01, 1.00000000e+00]),\n",
       " <BarContainer object of 10 artists>)"
      ]
     },
     "execution_count": 45,
     "metadata": {},
     "output_type": "execute_result"
    },
    {
     "data": {
      "text/plain": [
       "<Figure size 640x480 with 1 Axes>"
      ],
      "image/png": "[encoded data removed]"
     },
     "metadata": {},
     "output_type": "display_data"
    }
   ],
   "execution_count": 45
  },
  {
   "metadata": {
    "ExecuteTime": {
     "end_time": "2024-06-18T07:31:41.805064Z",
     "start_time": "2024-06-18T07:31:41.728636Z"
    }
   },
   "cell_type": "code",
   "source": [
    "# la p-valeur est égale à 1 quand on passe (quasiment) exactement autant de fois par un chemin que par l'autre\n",
    "\n",
    "for i in range(len(pval)):\n",
    "    if pval[i][0] == 1:\n",
    "        print(table_contingence(pval[i][1]))"
   ],
   "id": "b328db52f8a8e64b",
   "outputs": [
    {
     "name": "stdout",
     "output_type": "stream",
     "text": [
      "           g0  g1\n",
      "19>21>22   30  31\n",
      ">19>20>22  30  29\n",
      "           g0  g1\n",
      "25>27>28   35  35\n",
      ">25>26>28  25  25\n",
      "           g0  g1\n",
      "31>32>34   31  32\n",
      ">31>33>34  29  28\n",
      "           g0  g1\n",
      "43>44>46   21  21\n",
      ">43>45>46  39  39\n",
      "                 g0  g1\n",
      "84>89            51  51\n",
      ">84>85>86>88>89   3   3\n",
      ">84>85>87>88>89   6   6\n",
      "              g0  g1\n",
      "116>118>119   30  30\n",
      ">116>117>119  30  30\n",
      "              g0  g1\n",
      "176>178       11  11\n",
      ">176>177>178  49  49\n",
      "              g0  g1\n",
      "181>182>184   52  51\n",
      ">181>183>184   8   9\n",
      "              g0  g1\n",
      "184>185>187   45  46\n",
      ">184>186>187  15  14\n",
      "              g0  g1\n",
      "195>197>198   45  46\n",
      ">195>196>198  15  14\n",
      "              g0  g1\n",
      "198>199>201   46  47\n",
      ">198>200>201  14  13\n",
      "              g0  g1\n",
      "239>240>242   46  46\n",
      ">239>241>242  14  14\n",
      "              g0  g1\n",
      "263>265>266   26  27\n",
      ">263>264>266  34  33\n",
      "              g0  g1\n",
      "269>270>272   53  52\n",
      ">269>271>272   7   8\n",
      "                                     g0  g1\n",
      "275>276>277>279>280>282>284>285>286   1   1\n",
      ">275>286                             48  46\n",
      "                      g0  g1\n",
      "288>293               49  47\n",
      ">288>289>291>292>293   6   6\n",
      "              g0  g1\n",
      "331>333>334   43  43\n",
      ">331>332>334  17  17\n",
      "              g0  g1\n",
      "334>335>337   51  51\n",
      ">334>336>337   9   9\n",
      "                                              g0  g1\n",
      "403>417                                       44  41\n",
      ">403>404>405>407>409>410>411>413>414>416>417   1   1\n",
      "              g0  g1\n",
      "441>443>444   49  50\n",
      ">441>442>444  11  10\n",
      "              g0  g1\n",
      "486>488>489   57  57\n",
      ">486>487>489   3   3\n",
      "              g0  g1\n",
      "489>490>492   36  35\n",
      ">489>491>492  24  25\n"
     ]
    }
   ],
   "execution_count": 46
  },
  {
   "metadata": {},
   "cell_type": "code",
   "outputs": [],
   "execution_count": null,
   "source": [
    "''' print(table_contingence(i))\n",
    "print(table_contingence(i).sum(axis = 0))\n",
    "print(contingence_pb[i])''' \n",
    "\n",
    "    \n",
    "'''print(len(snarl_index_somme_pas_ok))\n",
    "print(snarl_index_somme_pas_ok)\n",
    "for i in snarl_index_somme_pas_ok:\n",
    "    if i in zero_dans_contingence_snarl:\n",
    "        print(i)'''\n",
    "\n",
    "'''    print('--------------------')\n",
    "    print(contingence_pb[i])\n",
    "    print('####################')''';"
   ],
   "id": "c1f54ff0f76f802"
  },
  {
   "metadata": {
    "ExecuteTime": {
     "end_time": "2024-06-18T06:51:42.185993Z",
     "start_time": "2024-06-18T06:51:42.078888Z"
    }
   },
   "cell_type": "code",
   "source": [
    "# manhattan plot\n",
    "\n",
    "#fig = plt.figure(figsize=(14, 8)) \n",
    "#ax = fig.add_subplot(111)\n",
    "plt.scatter(range(len(pv_df_test)), pv_df_test['moinslog10pvaleur'], c=pv_df_test['color'])\n",
    "#ax.set_xlabel('snarl index')\n",
    "#ax.set_ylabel('moins log10 pvalue')\n"
   ],
   "id": "b8fbfacf02918012",
   "outputs": [
    {
     "data": {
      "text/plain": [
       "<matplotlib.collections.PathCollection at 0x7ccfc89d5300>"
      ]
     },
     "execution_count": 13,
     "metadata": {},
     "output_type": "execute_result"
    },
    {
     "data": {
      "text/plain": [
       "<Figure size 640x480 with 1 Axes>"
      ],
      "image/png": "[encoded data removed]"
     },
     "metadata": {},
     "output_type": "display_data"
    }
   ],
   "execution_count": 13
  },
  {
   "metadata": {
    "ExecuteTime": {
     "end_time": "2024-06-18T06:51:45.437503Z",
     "start_time": "2024-06-18T06:51:45.412168Z"
    }
   },
   "cell_type": "code",
   "source": [
    "# find the smallest pvalues and the associated snarls   \n",
    "\n",
    "for i in range(len(pv_df_test)):\n",
    "    if pv_df_test['moinslog10pvaleur'].iloc[i] > 2:\n",
    "    # if pval_df.index[i] == '446>449':\n",
    "        # print(pval_df['moinslog10pvaleur'].iloc[i])\n",
    "        print('##########', pv_df_test['moinslog10pvaleur'].iloc[i])\n",
    "        print(table_contingence(pv_df_test.index[i]))"
   ],
   "id": "85b4368062ad9b24",
   "outputs": [
    {
     "name": "stdout",
     "output_type": "stream",
     "text": [
      "########## 6.089961181235811\n",
      "                g0  g1\n",
      "79>80>81>83>84  15  43\n",
      ">79>84          45  17\n",
      "########## 2.624205309601664\n",
      "           g0  g1\n",
      "89>91>92   35  51\n",
      ">89>90>92  25   9\n",
      "########## 2.15176597063122\n",
      "              g0  g1\n",
      "170>171>173   56  44\n",
      ">170>172>173   4  16\n",
      "########## 3.1620872897202483\n",
      "              g0  g1\n",
      "242>243>245   47  28\n",
      ">242>244>245  13  32\n",
      "########## 4.743716244978902\n",
      "             g0  g1\n",
      "254>255>256  52  29\n",
      ">254>256      8  31\n",
      "########## 3.1902936329226557\n",
      "              g0  g1\n",
      "446>448>449   54  37\n",
      ">446>447>449   6  23\n"
     ]
    }
   ],
   "execution_count": 14
  },
  {
   "metadata": {
    "ExecuteTime": {
     "end_time": "2024-06-18T06:51:48.975997Z",
     "start_time": "2024-06-18T06:51:48.951219Z"
    }
   },
   "cell_type": "code",
   "source": [
    "# snarl untrue ? donne des meilleurs noms à tes variables \n",
    "\n",
    "snarl_untrue = ['198>201', '201>204', '427>438', '497>502']\n",
    "for i in range(len(pv_df_test.index)):\n",
    "    if pv_df_test.index[i] in snarl_untrue:\n",
    "        print('##############', pv_df_test.index[i], ';',  pv_df_test['moinslog10pvaleur'].iloc[i])  \n",
    "        print(table_contingence(pv_df_test.index[i]))\n"
   ],
   "id": "7200c200351c5f",
   "outputs": [
    {
     "name": "stdout",
     "output_type": "stream",
     "text": [
      "############## 198>201 ; -0.0\n",
      "              g0  g1\n",
      "198>199>201   46  47\n",
      ">198>200>201  14  13\n",
      "############## 201>204 ; 1.605206062014734\n",
      "              g0  g1\n",
      "201>203>204   30  43\n",
      ">201>202>204  30  17\n",
      "############## 427>438 ; 0.25056113047429746\n",
      "                                      g0  g1\n",
      "427>428>429>431>433>434>436>437>438   16   7\n",
      ">427>428>429>431>432>434>435>437>438  18  13\n",
      "############## 497>502 ; 1.2658205505845004\n",
      "                      g0  g1\n",
      "497>498>500>501>502    2   2\n",
      ">497>502              22  35\n",
      ">497>498>499>501>502  36  23\n"
     ]
    }
   ],
   "execution_count": 15
  },
  {
   "metadata": {
    "ExecuteTime": {
     "end_time": "2024-06-18T07:29:21.395123Z",
     "start_time": "2024-06-18T07:29:21.350301Z"
    }
   },
   "cell_type": "code",
   "source": [
    "# trafiquer les tables de contingences \n",
    "## on ne veut plus de 0 dans les tables\n",
    "## on veut pas changer les effectifs par colonnes \n",
    "\n",
    "contingence_pb = [table_contingence(i) for i in zero_dans_contingence_snarl]\n",
    "snarl_index_somme_pas_ok = []\n",
    "\n",
    "'''for i in snarl_df.index.unique():\n",
    "    if table_contingence(i).sum(axis = 0).iloc[0] != 60 or table_contingence(i).sum(axis = 0).iloc[1] != 60:\n",
    "        snarl_index_somme_pas_ok.append(i)'''\n",
    "for i in range(len(contingence_pb)):\n",
    "    contingence_pb[i] = contingence_pb[i].where(contingence_pb[i] != 0, contingence_pb[i]+1)\n",
    "    contingence_pb[i] = contingence_pb[i].where(contingence_pb[i] != contingence_pb[i].max().max(), contingence_pb[i]-1)\n",
    "''' print(table_contingence(i))\n",
    "print(table_contingence(i).sum(axis = 0))\n",
    "print(contingence_pb[i])''' \n",
    "\n",
    "    \n",
    "'''print(len(snarl_index_somme_pas_ok))\n",
    "print(snarl_index_somme_pas_ok)\n",
    "for i in snarl_index_somme_pas_ok:\n",
    "    if i in zero_dans_contingence_snarl:\n",
    "        print(i)'''\n",
    "\n",
    "'''    print('--------------------')\n",
    "    print(contingence_pb[i])\n",
    "    print('####################')''';"
   ],
   "id": "ea766e4e752d9784",
   "outputs": [],
   "execution_count": 41
  },
  {
   "metadata": {
    "ExecuteTime": {
     "end_time": "2024-06-18T07:27:10.099861Z",
     "start_time": "2024-06-18T07:27:10.094519Z"
    }
   },
   "cell_type": "code",
   "source": "contingence_pb[-5]",
   "id": "bfeb58e1653603ab",
   "outputs": [
    {
     "data": {
      "text/plain": [
       "                                                   g0 g1\n",
       "204>205>206>208>210>211>213>214>215>217>219>220...  6  6\n",
       ">204>205>206>208>209>211>213>214>215>217>219>22...  2  1"
      ],
      "text/html": [
       "<div>\n",
       "<style scoped>\n",
       "    .dataframe tbody tr th:only-of-type {\n",
       "        vertical-align: middle;\n",
       "    }\n",
       "\n",
       "    .dataframe tbody tr th {\n",
       "        vertical-align: top;\n",
       "    }\n",
       "\n",
       "    .dataframe thead th {\n",
       "        text-align: right;\n",
       "    }\n",
       "</style>\n",
       "<table border=\"1\" class=\"dataframe\">\n",
       "  <thead>\n",
       "    <tr style=\"text-align: right;\">\n",
       "      <th></th>\n",
       "      <th>g0</th>\n",
       "      <th>g1</th>\n",
       "    </tr>\n",
       "  </thead>\n",
       "  <tbody>\n",
       "    <tr>\n",
       "      <th>204&gt;205&gt;206&gt;208&gt;210&gt;211&gt;213&gt;214&gt;215&gt;217&gt;219&gt;220&gt;221&gt;223&gt;224&gt;226&gt;228&gt;229&gt;230&gt;232&gt;234&gt;235&gt;236&gt;238&gt;239</th>\n",
       "      <td>6</td>\n",
       "      <td>6</td>\n",
       "    </tr>\n",
       "    <tr>\n",
       "      <th>&gt;204&gt;205&gt;206&gt;208&gt;209&gt;211&gt;213&gt;214&gt;215&gt;217&gt;219&gt;220&gt;221&gt;223&gt;224&gt;226&gt;228&gt;229&gt;230&gt;232&gt;234&gt;235&gt;236&gt;238&gt;239</th>\n",
       "      <td>2</td>\n",
       "      <td>1</td>\n",
       "    </tr>\n",
       "  </tbody>\n",
       "</table>\n",
       "</div>"
      ]
     },
     "execution_count": 35,
     "metadata": {},
     "output_type": "execute_result"
    }
   ],
   "execution_count": 35
  },
  {
   "metadata": {},
   "cell_type": "code",
   "source": [
    "print(table_contingence('79>84'))\n",
    "print(table_contingence('60>71'))\n",
    "print(table_contingence('4>9'))\n",
    "vcf1_df"
   ],
   "id": "3aeb0859ee425101",
   "outputs": [],
   "execution_count": null
  },
  {
   "metadata": {
    "ExecuteTime": {
     "end_time": "2024-06-18T07:27:28.641462Z",
     "start_time": "2024-06-18T07:27:28.199194Z"
    }
   },
   "cell_type": "code",
   "source": [
    "# pval_pb = [(chi2(table_contingence(i)), i) for i in zero_dans_contingence_snarl]\n",
    "pval_pb = [[chi2(i), 0] for i in contingence_pb]\n",
    "for i in range(len(pval_pb)):\n",
    "    pval_pb[i][1] = zero_dans_contingence_snarl[i]\n",
    "pval_all = pval + pval_pb\n",
    "\n",
    "pval_all_df = create_pval_df(pval_all)\n",
    "for i in pval_all_df.index:\n",
    "    if i not in pv_df_test.index:\n",
    "        pval_all_df.loc[i, 'color'] = \"red\"\n",
    " \n",
    "fig, ax = plt.subplots(nrows=2, ncols=2, figsize=(14, 8))\n",
    "ax[0][0].hist(pv_df_test['p-valeur'])\n",
    "ax[0][0].set_title('legal pvalues')\n",
    "ax[0][1].hist(pval_all_df['p-valeur'])\n",
    "ax[0][1].set_title('all pvalues')\n",
    "\n",
    "ax[1][0].scatter(range(len(pv_df_test)), pv_df_test['moinslog10pvaleur'], c=pv_df_test['color'])\n",
    "ax[1][0].set_title('legal moins log10 pvalues')\n",
    "ax[1][1].scatter(range(len(pval_all_df)), pval_all_df['moinslog10pvaleur'], c=pval_all_df['color'])\n",
    "ax[1][1].set_title('all moins log10 pvalues')\n",
    "#plt.hist(pval_all)"
   ],
   "id": "decbb9159d9baa23",
   "outputs": [
    {
     "data": {
      "text/plain": [
       "Text(0.5, 1.0, 'all moins log10 pvalues')"
      ]
     },
     "execution_count": 36,
     "metadata": {},
     "output_type": "execute_result"
    },
    {
     "data": {
      "text/plain": [
       "<Figure size 1400x800 with 4 Axes>"
      ],
      "image/png": "[encoded data removed]"
     },
     "metadata": {},
     "output_type": "display_data"
    }
   ],
   "execution_count": 36
  },
  {
   "metadata": {
    "ExecuteTime": {
     "end_time": "2024-06-18T07:27:42.918219Z",
     "start_time": "2024-06-18T07:27:42.913925Z"
    }
   },
   "cell_type": "code",
   "source": [
    "# proof (pour moi même) that the two df are not identical \n",
    "# par contre trafiquer les tables de contingences n'a pas permis d'avoir de petites pvaleurs \n",
    "print(len(pv_df_test), len(pval_all_df))"
   ],
   "id": "c857dfec27bdf397",
   "outputs": [
    {
     "name": "stdout",
     "output_type": "stream",
     "text": [
      "91 100\n"
     ]
    }
   ],
   "execution_count": 37
  },
  {
   "metadata": {},
   "cell_type": "markdown",
   "source": "## la suite",
   "id": "f75a701ef101955e"
  },
  {
   "metadata": {},
   "cell_type": "code",
   "source": [
    " # cb de snarls avec n chemins possibles ?\n",
    "from itertools import groupby\n",
    "\n",
    "length_of_paths = []\n",
    "for i in list(snarl_df.index):\n",
    "    length_of_paths.append(list(snarl_df.index).count(i))\n",
    "    \n",
    "# occ = [[x,ind.count(x)] for x in set(ind)]\n",
    "\n",
    "taille_chem = list(set(length_of_paths))\n",
    "freq_taille = [len(list(group)) for key, group in groupby(sorted(length_of_paths))]\n",
    "\n",
    "print(taille_chem, freq_taille)"
   ],
   "id": "c7b0dfc4288b860d",
   "outputs": [],
   "execution_count": null
  },
  {
   "metadata": {},
   "cell_type": "markdown",
   "source": [
    " # 'Play' with bdsg\n",
    "##### am i playing with bdsg or is bdsg playing with me"
   ],
   "id": "e08d16e9ffb3ead7"
  },
  {
   "metadata": {},
   "cell_type": "code",
   "source": [
    "from bdsg.bdsg import HashGraph\n",
    "\n",
    "gr = HashGraph()\n",
    "seq = [\"CGA\", \"TTGG\", \"CCGT\", \"C\", \"GT\", \"GATAA\", \"CGG\", \"ACA\", \"GCCG\", \"ATATAAC\"]\n",
    "n = []\n",
    "for s in seq:\n",
    "    n.append(gr.create_handle(s))\n",
    "\n",
    "gr.create_edge(n[0], n[1])\n",
    "gr.create_edge(n[1], n[2])\n",
    "gr.create_edge(n[2], n[3])\n",
    "gr.create_edge(n[2], n[4])\n",
    "gr.create_edge(n[3], n[5])\n",
    "gr.create_edge(n[5], n[6])\n",
    "# Connect the end of n5 to the start of n8\n",
    "gr.create_edge(n[5], n[8])\n",
    "gr.create_edge(n[6], n[7])\n",
    "gr.create_edge(n[6], n[8])\n",
    "gr.create_edge(n[7], n[9])\n",
    "gr.create_edge(n[8], n[9])\n",
    "# Connect the end of n8 back around to the start of n5\n",
    "gr.create_edge(n[8], n[5])\n",
    "\n",
    "def next_node_list(handle):\n",
    "    lis = []\n",
    "    gr.follow_edges(handle, False, lambda y: lis.append(y))\n",
    "    return lis\n",
    "\n",
    "print(n)\n",
    "\n",
    "print(f'n0: {gr.get_sequence(n[0])}')\n",
    "next_node = next_node_list(n[0])[0]\n",
    "print(f'n1: {gr.get_sequence(next_node)}')\n",
    "next_node = next_node_list(next_node)[0]\n",
    "print(f'n2: {gr.get_sequence(next_node)}')\n",
    "\n",
    "path = gr.create_path_handle(\"path\")\n",
    "gr.append_step(path, n[0])\n",
    "gr.append_step(path, n[1])\n",
    "gr.append_step(path, n[2])\n",
    "gr.append_step(path, n[4])\n",
    "gr.append_step(path, n[5])\n",
    "gr.append_step(path, n[6])\n",
    "gr.append_step(path, n[7])\n",
    "gr.append_step(path, n[9])"
   ],
   "id": "9d75cc4da39100ec",
   "outputs": [],
   "execution_count": null
  },
  {
   "metadata": {},
   "cell_type": "code",
   "source": [
    "from bdsg.bdsg import PackedGraph\n",
    "brca2 = PackedGraph()\n",
    "brca2.deserialize(\"/home/yboulkaid/Documents/sample_data/pgtest.data/pg.pg\")\n",
    "#brca2.deserialize(\"/home/yboulkaid/Téléchargements/cactus-brca2.pg\")\n",
    "\n",
    "path_handle = []\n",
    "handles = []\n",
    "brca2.for_each_path_handle(lambda y: path_handle.append(y) or True)\n",
    "brca2.for_each_step_in_path(path_handle[0],\n",
    "    lambda y: handles.append(brca2.get_handle_of_step(y)) or True)\n",
    "sequence = \"\"\n",
    "for handle in handles:\n",
    "    sequence += brca2.get_sequence(handle)\n",
    "print(sequence[0:10])\n",
    "print(len(sequence))\n"
   ],
   "id": "d06c1ab3e53d0c7b",
   "outputs": [],
   "execution_count": null
  },
  {
   "metadata": {},
   "cell_type": "code",
   "source": [
    "type(gr)\n",
    "\n",
    "# CACGTCCGAGAATCGG\n",
    "# CACGTCCGAG"
   ],
   "id": "ab7e8f3279144fdc",
   "outputs": [],
   "execution_count": null
  },
  {
   "metadata": {},
   "cell_type": "code",
   "source": [
    "from bdsg.handlegraph import  HandleGraph\n",
    "###########################################\n",
    "### HOW TO ACCESS THE SNARL TREE (XIAN) ###\n",
    "###########################################\n",
    "\n",
    "# load the snarl tree\n",
    "stree = bdsg.bdsg.SnarlDistanceIndex()\n",
    "stree.deserialize(\"pg.dist\")\n",
    "# Note: make the pg.dist from the pg.pg using: vg index -j pg.dist pg.pg\n",
    "\n",
    "# load the graph\n",
    "pg = bdsg.bdsg.PackedGraph()\n",
    "pg.deserialize(\"pg.pg\")\n",
    "\n",
    "## To practice let's save all the nodes in the snarl tree in a list\n",
    "stnodes = []\n",
    "# find the object pointing to the root of the snarl tree\n",
    "root = distance_index.get_root()\n",
    "# the function we want to run on each child of a snarl tree node\n",
    "def save_snarl_tree_node(stnode):\n",
    "    # FILL\n",
    "    #   here for example, save the input in the list and iterate on its potential children\n",
    "    # if the function returns True, the iteration will continue (which is what we want in this case)\n",
    "    return(True)\n",
    "# run that function, starting from the rood node of the tree\n",
    "stree.for_each_child(root, save_snarl_tree_node)\n",
    "# note: for_each_child can only be run on elements that have children (i.e. chains and snarls), not nodes or sentinels.\n",
    "\n",
    "## Understanding elements of the snarl tree\n",
    "# get one of the snarl tree nodes saved earlier\n",
    "stn = stnodes[3]\n",
    "# print it's \"string\" summary\n",
    "stree.net_handle_as_string(stn)\n",
    "# check which type it is\n",
    "stree.is_chain(stn)\n",
    "stree.is_snarl(stn)\n",
    "stree.is_sentinel(stn)\n",
    "stree.is_node(stn)\n",
    "\n",
    "## Manipulating a snarl\n",
    "# assuming we have a snarl, get the boundary nodes\n",
    "stn_start = stree.get_bound(stn, False, True)\n",
    "stn_end = stree.get_bound(stn, True, True)\n",
    "# get the actual node, not the sentinel (~fake boundary nodes?)\n",
    "stn_start = stree.get_node_from_sentinel(stn_start)\n",
    "stn_end = stree.get_node_from_sentinel(stn_end)\n",
    "stn_end = stree.flip(stn_end) # flip the end handle (I think, to be confirmed)\n",
    "# get a node id\n",
    "stree.node_id(stn_start)\n",
    "# get a handle/object of that node in the graph\n",
    "stn_start_pg = stree.get_handle(stn_start, pg)\n",
    "stn_end_pg = stree.get_handle(stn_end, pg)\n",
    "# get the ID of an element in the graph, here a node\n",
    "pg.get_id(stn_start_pg)\n",
    "# test if there is an edge between two nodes in the graph\n",
    "pg.has_edge(stn_start_pg, stn_end_pg)\n"
   ],
   "id": "f69719a46a41b1ee",
   "outputs": [],
   "execution_count": null
  },
  {
   "metadata": {},
   "cell_type": "code",
   "source": [
    "print(ngraph)\n",
    "print(distance_index.net_handle_as_string(ngraph['n'][0]))"
   ],
   "id": "6a0b1ee6d5c138a4",
   "outputs": [],
   "execution_count": null
  },
  {
   "metadata": {},
   "cell_type": "code",
   "source": "ngraph['n']",
   "id": "2541def03f6931e",
   "outputs": [],
   "execution_count": null
  },
  {
   "metadata": {},
   "cell_type": "code",
   "source": "distance_index.deserialize(\"/home/yboulkaid/Documents/sample_data/pgtest.data/pg.dist\")",
   "id": "2ca5a6a911f6fda8",
   "outputs": [],
   "execution_count": null
  },
  {
   "metadata": {},
   "cell_type": "code",
   "source": [
    "'''get parent \n",
    "get child \n",
    "get bound \n",
    "get root'''"
   ],
   "id": "dc377e78093607ff",
   "outputs": [],
   "execution_count": null
  },
  {
   "metadata": {},
   "cell_type": "code",
   "source": "",
   "id": "801b0b3e04d5210b",
   "outputs": [],
   "execution_count": null
  }
 ],
 "metadata": {
  "kernelspec": {
   "display_name": "Python 3",
   "language": "python",
   "name": "python3"
  },
  "language_info": {
   "codemirror_mode": {
    "name": "ipython",
    "version": 2
   },
   "file_extension": ".py",
   "mimetype": "text/x-python",
   "name": "python",
   "nbconvert_exporter": "python",
   "pygments_lexer": "ipython2",
   "version": "2.7.6"
  }
 },
 "nbformat": 4,
 "nbformat_minor": 5
}
