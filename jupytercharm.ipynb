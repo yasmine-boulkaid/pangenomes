{
 "cells": [
  {
   "metadata": {
    "ExecuteTime": {
     "end_time": "2024-06-20T09:52:46.934120Z",
     "start_time": "2024-06-20T09:52:45.977006Z"
    }
   },
   "cell_type": "code",
   "source": [
    "import numpy as np\n",
    "import io\n",
    "import os\n",
    "import pandas as pd\n",
    "from scipy.stats import chi2_contingency\n",
    "from scipy.stats import hypergeom\n",
    "from scipy.stats import fisher_exact\n",
    "import bdsg\n",
    "import copy\n",
    "import re \n",
    "import matplotlib.pyplot as plt"
   ],
   "id": "initial_id",
   "outputs": [],
   "execution_count": 1
  },
  {
   "metadata": {},
   "cell_type": "markdown",
   "source": "# Tests",
   "id": "221a95ac74c3705f"
  },
  {
   "metadata": {},
   "cell_type": "code",
   "source": [
    "### test exact fisher ###\n",
    "table = np.array([[6, 2], [1, 4]])\n",
    "M = table.sum()\n",
    "n = table[0].sum()\n",
    "N = table[:, 0].sum()\n",
    "start, end = hypergeom.support(M, n, N)\n",
    "hypergeom.pmf(np.arange(start, end + 1), M, n, N)\n",
    "np.array([0.01631702, 0.16317016, 0.40792541, 0.32634033, 0.08158508, 0.004662])\n",
    "res = fisher_exact(table, alternative='two-sided')\n",
    "print(\"fisher : \", res.pvalue)"
   ],
   "id": "bb365a7db4184e1f",
   "outputs": [],
   "execution_count": null
  },
  {
   "metadata": {},
   "cell_type": "markdown",
   "source": [
    "# From VCF file\n",
    "## read vcf, create data frames"
   ],
   "id": "9b16a4c079a427d1"
  },
  {
   "metadata": {},
   "cell_type": "code",
   "source": [
    "# on va essayer de faire un giga tableau qui recense tous les chemins possibles -> OK (pour un éch mais normalement c'est les mêmes chemins possibles)\n",
    "# une fois qu'on aura fait ce giga tableau, on va essayer de le transformer en giga matrice qui compte pour 1 éch les chemins pris -> OK\n",
    "# une fois que ce sera fait on pourra transformer la giga matrice en giga table de contingence (?) qui recense la même chose mais pour tous les échantillons -> OK (dataframe)"
   ],
   "id": "b14fc2293a3cca30",
   "outputs": [],
   "execution_count": null
  },
  {
   "metadata": {},
   "cell_type": "code",
   "source": "# fonctions annexes pour créer le df qui contient les infos après avoir parse tous les vcf",
   "id": "9020d532723574b8",
   "outputs": [],
   "execution_count": null
  },
  {
   "metadata": {
    "ExecuteTime": {
     "end_time": "2024-06-20T09:53:21.761634Z",
     "start_time": "2024-06-20T09:53:21.721478Z"
    }
   },
   "cell_type": "code",
   "source": [
    "# read ONE vcf file\n",
    "\n",
    "def create_vcf_df(path):\n",
    "    with open(path, 'r') as f:\n",
    "        lines = [l for l in f if not l.startswith('##')]\n",
    "    return pd.read_csv(\n",
    "        io.StringIO(''.join(lines)),\n",
    "        dtype={'#CHROM': str, 'POS': int, 'ID': str, 'REF': str, 'ALT': str,\n",
    "               'QUAL': str, 'FILTER': str, 'INFO': str},\n",
    "        sep='\\t'\n",
    "    ).rename(columns={'#CHROM': 'CHROM'})\n",
    "\n",
    "# verification de la fonction read_vcf \n",
    "vcf1_df = create_vcf_df(\"/home/yboulkaid/Documents/sample_data/pgtest.data/calls/samp_g0_0.vcf\")\n",
    "vcf1_df"
   ],
   "id": "6ab0490ec5faa08e",
   "outputs": [
    {
     "data": {
      "text/plain": [
       "   CHROM    POS        ID                                                REF  \\\n",
       "0    ref    450      >1>4                                                  T   \n",
       "1    ref    578      >4>9  TTTGCGGGCCGTCAAGATGAACTGGTGCCTGTAGGATTATGTCCTC...   \n",
       "2    ref   1118     >9>12                                                  A   \n",
       "3    ref   1340    >12>14  GATCGGACTTCTTAACGGGTTCCTCACGTAGCGATCTCTACGGGAA...   \n",
       "4    ref   1529    >14>19                                                  C   \n",
       "..   ...    ...       ...                                                ...   \n",
       "95   ref  27003  >489>492                                                  C   \n",
       "96   ref  27134  >492>497                                                  A   \n",
       "97   ref  27275  >497>502  TGCAATAGTTTGCTCGTGGTCAGTATTTTCGGTATAAAACAGAGTT...   \n",
       "98   ref  27745  >502>507  CGGACATGTAGCAGGACTCCTTATAGTTAATGTTCACTATTTAAAG...   \n",
       "99   ref  28436  >507>512                                                  G   \n",
       "\n",
       "                                                  ALT     QUAL FILTER  \\\n",
       "0                                                   G  133.927   PASS   \n",
       "1   TTTGCGGGCCGTCAAGATGAACTGGTGCCTGTAGGATTATGTCCTC...  14.6171   PASS   \n",
       "2                                                   G  177.783   PASS   \n",
       "3                                                   G  116.981   PASS   \n",
       "4   CCCGATCTATGTCGAGGCTTTCGGGCAGGGCCGCTATTAACATCGT...    175.5   PASS   \n",
       "..                                                ...      ...    ...   \n",
       "95                                                  T  411.605   PASS   \n",
       "96  ATACACTAGACGCCCGGGATGTACATATCGTGACTCGTTCCTAGTC...  145.789   PASS   \n",
       "97  T,TGCAATAGTTTGCTCGTGGTCAGTATTTTCGGTATAAAACAGAG...  371.786   PASS   \n",
       "98  CGGACATGTAGCAGGACTCCTTATAGTTAATGTTCACTATTTAAAG...  122.081   PASS   \n",
       "99  GATCTCGTCTGACATCACTTGAATTCTTATATTAGTTCTAAACTTC...  128.002   PASS   \n",
       "\n",
       "                                                 INFO  \\\n",
       "0                              AT=>1>2>4,>1>3>4;DP=46   \n",
       "1                      AT=>4>5>7>8>9,>4>5>6>8>9;DP=50   \n",
       "2                          AT=>9>11>12,>9>10>12;DP=61   \n",
       "3                           AT=>12>13>14,>12>14;DP=47   \n",
       "4     AT=>14>19,>14>15>17>18>19,>14>15>16>18>19;DP=60   \n",
       "..                                                ...   \n",
       "95                 AT=>489>490>492,>489>491>492;DP=43   \n",
       "96  AT=>492>497,>492>493>495>496>497,>492>493>494>...   \n",
       "97  AT=>497>498>500>501>502,>497>502,>497>498>499>...   \n",
       "98  AT=>502>503>504>506>507,>502>503>505>506>507,>...   \n",
       "99  AT=>507>512,>507>508>509>511>512,>507>508>510>...   \n",
       "\n",
       "                      FORMAT  \\\n",
       "0   GT:DP:AD:GL:GQ:GP:XD:MAD   \n",
       "1   GT:DP:AD:GL:GQ:GP:XD:MAD   \n",
       "2   GT:DP:AD:GL:GQ:GP:XD:MAD   \n",
       "3   GT:DP:AD:GL:GQ:GP:XD:MAD   \n",
       "4   GT:DP:AD:GL:GQ:GP:XD:MAD   \n",
       "..                       ...   \n",
       "95  GT:DP:AD:GL:GQ:GP:XD:MAD   \n",
       "96  GT:DP:AD:GL:GQ:GP:XD:MAD   \n",
       "97  GT:DP:AD:GL:GQ:GP:XD:MAD   \n",
       "98  GT:DP:AD:GL:GQ:GP:XD:MAD   \n",
       "99  GT:DP:AD:GL:GQ:GP:XD:MAD   \n",
       "\n",
       "                                               SAMPLE  \n",
       "0   0/0:46:46,0:-2.378747,-15.294357,-107.194421:1...  \n",
       "1   1/0:50:25,25:-3.306431,-2.422690,-3.306431:16:...  \n",
       "2   0/0:61:61,0:-2.701171,-20.002352,-141.869830:1...  \n",
       "3   0/0:47:46,1:-2.770745,-13.991746,-90.540504:11...  \n",
       "4   0/0:60:60,0,0:-2.835631,-19.908524,-19.908524,...  \n",
       "..                                                ...  \n",
       "95  1/0:43:20,23:-43.061833,-2.378411,-35.907321:2...  \n",
       "96  0/0:50:50,0,0:-2.439843,-16.541658,-16.541658,...  \n",
       "97  1/2:52:2,24,27:-39.603567,-3.504039,-35.913027...  \n",
       "98  0/0:42:42,0,0:-2.420888,-14.151905,-14.151905,...  \n",
       "99  0/0:44:44,0,0:-2.374808,-14.697901,-14.697901,...  \n",
       "\n",
       "[100 rows x 10 columns]"
      ],
      "text/html": [
       "<div>\n",
       "<style scoped>\n",
       "    .dataframe tbody tr th:only-of-type {\n",
       "        vertical-align: middle;\n",
       "    }\n",
       "\n",
       "    .dataframe tbody tr th {\n",
       "        vertical-align: top;\n",
       "    }\n",
       "\n",
       "    .dataframe thead th {\n",
       "        text-align: right;\n",
       "    }\n",
       "</style>\n",
       "<table border=\"1\" class=\"dataframe\">\n",
       "  <thead>\n",
       "    <tr style=\"text-align: right;\">\n",
       "      <th></th>\n",
       "      <th>CHROM</th>\n",
       "      <th>POS</th>\n",
       "      <th>ID</th>\n",
       "      <th>REF</th>\n",
       "      <th>ALT</th>\n",
       "      <th>QUAL</th>\n",
       "      <th>FILTER</th>\n",
       "      <th>INFO</th>\n",
       "      <th>FORMAT</th>\n",
       "      <th>SAMPLE</th>\n",
       "    </tr>\n",
       "  </thead>\n",
       "  <tbody>\n",
       "    <tr>\n",
       "      <th>0</th>\n",
       "      <td>ref</td>\n",
       "      <td>450</td>\n",
       "      <td>&gt;1&gt;4</td>\n",
       "      <td>T</td>\n",
       "      <td>G</td>\n",
       "      <td>133.927</td>\n",
       "      <td>PASS</td>\n",
       "      <td>AT=&gt;1&gt;2&gt;4,&gt;1&gt;3&gt;4;DP=46</td>\n",
       "      <td>GT:DP:AD:GL:GQ:GP:XD:MAD</td>\n",
       "      <td>0/0:46:46,0:-2.378747,-15.294357,-107.194421:1...</td>\n",
       "    </tr>\n",
       "    <tr>\n",
       "      <th>1</th>\n",
       "      <td>ref</td>\n",
       "      <td>578</td>\n",
       "      <td>&gt;4&gt;9</td>\n",
       "      <td>TTTGCGGGCCGTCAAGATGAACTGGTGCCTGTAGGATTATGTCCTC...</td>\n",
       "      <td>TTTGCGGGCCGTCAAGATGAACTGGTGCCTGTAGGATTATGTCCTC...</td>\n",
       "      <td>14.6171</td>\n",
       "      <td>PASS</td>\n",
       "      <td>AT=&gt;4&gt;5&gt;7&gt;8&gt;9,&gt;4&gt;5&gt;6&gt;8&gt;9;DP=50</td>\n",
       "      <td>GT:DP:AD:GL:GQ:GP:XD:MAD</td>\n",
       "      <td>1/0:50:25,25:-3.306431,-2.422690,-3.306431:16:...</td>\n",
       "    </tr>\n",
       "    <tr>\n",
       "      <th>2</th>\n",
       "      <td>ref</td>\n",
       "      <td>1118</td>\n",
       "      <td>&gt;9&gt;12</td>\n",
       "      <td>A</td>\n",
       "      <td>G</td>\n",
       "      <td>177.783</td>\n",
       "      <td>PASS</td>\n",
       "      <td>AT=&gt;9&gt;11&gt;12,&gt;9&gt;10&gt;12;DP=61</td>\n",
       "      <td>GT:DP:AD:GL:GQ:GP:XD:MAD</td>\n",
       "      <td>0/0:61:61,0:-2.701171,-20.002352,-141.869830:1...</td>\n",
       "    </tr>\n",
       "    <tr>\n",
       "      <th>3</th>\n",
       "      <td>ref</td>\n",
       "      <td>1340</td>\n",
       "      <td>&gt;12&gt;14</td>\n",
       "      <td>GATCGGACTTCTTAACGGGTTCCTCACGTAGCGATCTCTACGGGAA...</td>\n",
       "      <td>G</td>\n",
       "      <td>116.981</td>\n",
       "      <td>PASS</td>\n",
       "      <td>AT=&gt;12&gt;13&gt;14,&gt;12&gt;14;DP=47</td>\n",
       "      <td>GT:DP:AD:GL:GQ:GP:XD:MAD</td>\n",
       "      <td>0/0:47:46,1:-2.770745,-13.991746,-90.540504:11...</td>\n",
       "    </tr>\n",
       "    <tr>\n",
       "      <th>4</th>\n",
       "      <td>ref</td>\n",
       "      <td>1529</td>\n",
       "      <td>&gt;14&gt;19</td>\n",
       "      <td>C</td>\n",
       "      <td>CCCGATCTATGTCGAGGCTTTCGGGCAGGGCCGCTATTAACATCGT...</td>\n",
       "      <td>175.5</td>\n",
       "      <td>PASS</td>\n",
       "      <td>AT=&gt;14&gt;19,&gt;14&gt;15&gt;17&gt;18&gt;19,&gt;14&gt;15&gt;16&gt;18&gt;19;DP=60</td>\n",
       "      <td>GT:DP:AD:GL:GQ:GP:XD:MAD</td>\n",
       "      <td>0/0:60:60,0,0:-2.835631,-19.908524,-19.908524,...</td>\n",
       "    </tr>\n",
       "    <tr>\n",
       "      <th>...</th>\n",
       "      <td>...</td>\n",
       "      <td>...</td>\n",
       "      <td>...</td>\n",
       "      <td>...</td>\n",
       "      <td>...</td>\n",
       "      <td>...</td>\n",
       "      <td>...</td>\n",
       "      <td>...</td>\n",
       "      <td>...</td>\n",
       "      <td>...</td>\n",
       "    </tr>\n",
       "    <tr>\n",
       "      <th>95</th>\n",
       "      <td>ref</td>\n",
       "      <td>27003</td>\n",
       "      <td>&gt;489&gt;492</td>\n",
       "      <td>C</td>\n",
       "      <td>T</td>\n",
       "      <td>411.605</td>\n",
       "      <td>PASS</td>\n",
       "      <td>AT=&gt;489&gt;490&gt;492,&gt;489&gt;491&gt;492;DP=43</td>\n",
       "      <td>GT:DP:AD:GL:GQ:GP:XD:MAD</td>\n",
       "      <td>1/0:43:20,23:-43.061833,-2.378411,-35.907321:2...</td>\n",
       "    </tr>\n",
       "    <tr>\n",
       "      <th>96</th>\n",
       "      <td>ref</td>\n",
       "      <td>27134</td>\n",
       "      <td>&gt;492&gt;497</td>\n",
       "      <td>A</td>\n",
       "      <td>ATACACTAGACGCCCGGGATGTACATATCGTGACTCGTTCCTAGTC...</td>\n",
       "      <td>145.789</td>\n",
       "      <td>PASS</td>\n",
       "      <td>AT=&gt;492&gt;497,&gt;492&gt;493&gt;495&gt;496&gt;497,&gt;492&gt;493&gt;494&gt;...</td>\n",
       "      <td>GT:DP:AD:GL:GQ:GP:XD:MAD</td>\n",
       "      <td>0/0:50:50,0,0:-2.439843,-16.541658,-16.541658,...</td>\n",
       "    </tr>\n",
       "    <tr>\n",
       "      <th>97</th>\n",
       "      <td>ref</td>\n",
       "      <td>27275</td>\n",
       "      <td>&gt;497&gt;502</td>\n",
       "      <td>TGCAATAGTTTGCTCGTGGTCAGTATTTTCGGTATAAAACAGAGTT...</td>\n",
       "      <td>T,TGCAATAGTTTGCTCGTGGTCAGTATTTTCGGTATAAAACAGAG...</td>\n",
       "      <td>371.786</td>\n",
       "      <td>PASS</td>\n",
       "      <td>AT=&gt;497&gt;498&gt;500&gt;501&gt;502,&gt;497&gt;502,&gt;497&gt;498&gt;499&gt;...</td>\n",
       "      <td>GT:DP:AD:GL:GQ:GP:XD:MAD</td>\n",
       "      <td>1/2:52:2,24,27:-39.603567,-3.504039,-35.913027...</td>\n",
       "    </tr>\n",
       "    <tr>\n",
       "      <th>98</th>\n",
       "      <td>ref</td>\n",
       "      <td>27745</td>\n",
       "      <td>&gt;502&gt;507</td>\n",
       "      <td>CGGACATGTAGCAGGACTCCTTATAGTTAATGTTCACTATTTAAAG...</td>\n",
       "      <td>CGGACATGTAGCAGGACTCCTTATAGTTAATGTTCACTATTTAAAG...</td>\n",
       "      <td>122.081</td>\n",
       "      <td>PASS</td>\n",
       "      <td>AT=&gt;502&gt;503&gt;504&gt;506&gt;507,&gt;502&gt;503&gt;505&gt;506&gt;507,&gt;...</td>\n",
       "      <td>GT:DP:AD:GL:GQ:GP:XD:MAD</td>\n",
       "      <td>0/0:42:42,0,0:-2.420888,-14.151905,-14.151905,...</td>\n",
       "    </tr>\n",
       "    <tr>\n",
       "      <th>99</th>\n",
       "      <td>ref</td>\n",
       "      <td>28436</td>\n",
       "      <td>&gt;507&gt;512</td>\n",
       "      <td>G</td>\n",
       "      <td>GATCTCGTCTGACATCACTTGAATTCTTATATTAGTTCTAAACTTC...</td>\n",
       "      <td>128.002</td>\n",
       "      <td>PASS</td>\n",
       "      <td>AT=&gt;507&gt;512,&gt;507&gt;508&gt;509&gt;511&gt;512,&gt;507&gt;508&gt;510&gt;...</td>\n",
       "      <td>GT:DP:AD:GL:GQ:GP:XD:MAD</td>\n",
       "      <td>0/0:44:44,0,0:-2.374808,-14.697901,-14.697901,...</td>\n",
       "    </tr>\n",
       "  </tbody>\n",
       "</table>\n",
       "<p>100 rows × 10 columns</p>\n",
       "</div>"
      ]
     },
     "execution_count": 2,
     "metadata": {},
     "output_type": "execute_result"
    }
   ],
   "execution_count": 2
  },
  {
   "metadata": {
    "ExecuteTime": {
     "end_time": "2024-06-20T09:53:24.489682Z",
     "start_time": "2024-06-20T09:53:24.200088Z"
    }
   },
   "cell_type": "code",
   "source": [
    "# read all vcf files and store them in a list\n",
    "\n",
    "all_vcf = os.listdir(\"/home/yboulkaid/Documents/sample_data/pgtest.data/calls/\")\n",
    "g0_vcf =  []\n",
    "g1_vcf = []\n",
    "for i in all_vcf:\n",
    "    if 'g0' in i:\n",
    "        g0_vcf.append(i)\n",
    "    elif 'g1' in i:\n",
    "        g1_vcf.append(i)\n",
    "all_vcf_df = [create_vcf_df(\"/home/yboulkaid/Documents/sample_data/pgtest.data/calls/\"+i) for i in all_vcf]\n",
    "g0_vcf_df = [create_vcf_df(\"/home/yboulkaid/Documents/sample_data/pgtest.data/calls/\"+i) for i in g0_vcf]\n",
    "g1_vcf_df = [create_vcf_df(\"/home/yboulkaid/Documents/sample_data/pgtest.data/calls/\"+i) for i in g1_vcf]"
   ],
   "id": "53c6135da34640b2",
   "outputs": [],
   "execution_count": 3
  },
  {
   "metadata": {
    "ExecuteTime": {
     "end_time": "2024-06-20T09:53:39.194429Z",
     "start_time": "2024-06-20T09:53:39.185641Z"
    }
   },
   "cell_type": "code",
   "source": [
    "def chemins(which_vcf_df):    \n",
    "    chemins_possibles = []\n",
    "    for i in range(len(which_vcf_df[\"INFO\"])):\n",
    "        text = which_vcf_df[\"INFO\"][i]\n",
    "        m = re.search('AT=>(.+?);DP', text)\n",
    "        if m:\n",
    "            found = m.group(1)\n",
    "        chemins_possibles.append(found)\n",
    "        \n",
    "    for i in range(len(chemins_possibles)):\n",
    "        chemins_possibles[i] = chemins_possibles[i].split(',')\n",
    "        \n",
    "    ########################################################################\n",
    "    chemins_pris = []\n",
    "    for i in which_vcf_df[\"SAMPLE\"]:\n",
    "        found = i[0:3]\n",
    "        chemins_pris.append(found)\n",
    "    \n",
    "    for i in range(len(chemins_pris)):\n",
    "        chemins_pris[i] = chemins_pris[i].split('/')\n",
    "        for j in range(len(chemins_pris[i])):\n",
    "            chemins_pris[i][j] = int(chemins_pris[i][j])\n",
    "            \n",
    "    ########################################################################\n",
    "    chemins_combines = copy.deepcopy(chemins_pris)\n",
    "    \n",
    "    for i in range(len(chemins_pris)):\n",
    "        chemins_combines[i][0] = chemins_possibles[i][chemins_pris[i][0]]\n",
    "        chemins_combines[i][1] = chemins_possibles[i][chemins_pris[i][1]]\n",
    "        \n",
    "    ''' cas simple pour comprendre\n",
    "    print(chemins_pris[0])\n",
    "    chemins_pris[0][0] = chemins_possibles[0][chemins_pris[0][0]]\n",
    "    chemins_pris[0][1] = chemins_possibles[0][chemins_pris[0][1]]\n",
    "    print(chemins_pris[0])'''\n",
    "    \n",
    "    chemins_possibles = sum(chemins_possibles, [])\n",
    "    chemins_pris = sum(chemins_pris, [])\n",
    "    chemins_combines = sum(chemins_combines, [])\n",
    "    \n",
    "    return chemins_possibles, chemins_pris, chemins_combines"
   ],
   "id": "6f1297b77b958959",
   "outputs": [],
   "execution_count": 4
  },
  {
   "metadata": {
    "ExecuteTime": {
     "end_time": "2024-06-20T09:53:42.357249Z",
     "start_time": "2024-06-20T09:53:42.344244Z"
    }
   },
   "cell_type": "code",
   "source": [
    "chemins_possibles1, chemins_pris1, chemins_combines1 = chemins(vcf1_df)\n",
    "print('========== possibles ==========')\n",
    "print(chemins_possibles1[0:5])\n",
    "print('============ pris =============')\n",
    "print(chemins_pris1[0:5])\n",
    "print('========== combinés ===========')\n",
    "print(chemins_combines1[0:5])"
   ],
   "id": "ada6cdb956d0b3b0",
   "outputs": [
    {
     "name": "stdout",
     "output_type": "stream",
     "text": [
      "========== possibles ==========\n",
      "['1>2>4', '>1>3>4', '4>5>7>8>9', '>4>5>6>8>9', '9>11>12']\n",
      "============ pris =============\n",
      "[0, 0, 1, 0, 0]\n",
      "========== combinés ===========\n",
      "['1>2>4', '1>2>4', '>4>5>6>8>9', '4>5>7>8>9', '9>11>12']\n"
     ]
    }
   ],
   "execution_count": 5
  },
  {
   "metadata": {},
   "cell_type": "code",
   "source": [
    "'''def chemins(vcf_df):\n",
    "    chemins_possibles = []\n",
    "    for i in range(len(vcf_df[\"INFO\"])):\n",
    "        text = vcf_df[\"INFO\"][i]\n",
    "        m = re.search('AT=>(.+?);DP', text)\n",
    "        if m:\n",
    "            found = m.group(1)\n",
    "        chemins_possibles.append(found)\n",
    "        \n",
    "    for i in range(len(chemins_possibles)):\n",
    "        chemins_possibles[i] = chemins_possibles[i].split(',')\n",
    "        \n",
    "    ########################################################################\n",
    "    chemins_pris = []\n",
    "    for i in vcf_df[\"SAMPLE\"]:\n",
    "        found = i[0:3]\n",
    "        chemins_pris.append(found)\n",
    "    \n",
    "    for i in range(len(chemins_pris)):\n",
    "        chemins_pris[i] = chemins_pris[i].split('/')\n",
    "        for j in range(len(chemins_pris[i])):\n",
    "            chemins_pris[i][j] = int(chemins_pris[i][j])\n",
    "            \n",
    "    ########################################################################\n",
    "    chemins_combines = copy.deepcopy(chemins_pris)\n",
    "    \n",
    "    for i in range(len(chemins_pris)):\n",
    "        chemins_combines[i][0] = chemins_possibles[i][chemins_pris[i][0]]\n",
    "        chemins_combines[i][1] = chemins_possibles[i][chemins_pris[i][1]]\n",
    "        \n",
    "    chemins_possibles = sum(chemins_possibles, [])\n",
    "    chemins_pris = sum(chemins_pris, [])\n",
    "    chemins_combines = sum(chemins_combines, [])\n",
    "    #chemins_finaux = [[i,chemins_combines.count(i)] for i in set(chemins_combines)]\n",
    "    \n",
    "    return chemins_possibles, chemins_pris, chemins_combines, chemins_finaux\n",
    "\n",
    "path = \"/home/yboulkaid/Documents/sample_data/pgtest.data/calls/\"\n",
    "all_vcf_df = [create_vcf_df(path+i) for i in all_vcf]\n",
    "\n",
    "chemins_possibles = [chemins(i)[0] for i in all_vcf_df]\n",
    "# chemins_possibles = sum(chemins_possibles, [])\n",
    "# chemins_possibles = list(set(chemins_possibles))\n",
    "chemins_pris = [chemins(i)[1] for i in all_vcf_df]\n",
    "chemins_combines = [chemins(i)[2] for i in all_vcf_df]\n",
    "chemins_finaux = [chemins(i)[3] for i in all_vcf_df]\n",
    "\n",
    "''''''chemins_combines = sum(chemins_combines, [])\n",
    "chemins_finaux = [[i,chemins_combines.count(i)] for i in set(chemins_combines)]''' '''''';"
   ],
   "id": "8fe42a4f4d3b69d1",
   "outputs": [],
   "execution_count": null
  },
  {
   "metadata": {
    "ExecuteTime": {
     "end_time": "2024-06-20T09:53:52.296226Z",
     "start_time": "2024-06-20T09:53:52.283810Z"
    }
   },
   "cell_type": "code",
   "source": [
    "vcf2_df = create_vcf_df(\"/home/yboulkaid/Documents/sample_data/pgtest.data/calls/samp_g0_1.vcf\")\n",
    "vcf3_df = create_vcf_df(\"/home/yboulkaid/Documents/sample_data/pgtest.data/calls/samp_g1_1.vcf\")\n",
    "\n",
    "def chemins_finaux(vcf_df_list):\n",
    "    chemins_finaux = []\n",
    "    for i in range(len(vcf_df_list)):\n",
    "        chemins_aux = []\n",
    "        chemins_possibles, chemins_pris, chemins_combines = chemins(vcf_df_list[i])\n",
    "        for j in set(chemins_combines):\n",
    "            chemins_aux.append([j,chemins_combines.count(j)])\n",
    "        chemins_finaux.append(chemins_aux)\n",
    "    return chemins_finaux"
   ],
   "id": "c06655f1219f25d9",
   "outputs": [],
   "execution_count": 7
  },
  {
   "metadata": {
    "ExecuteTime": {
     "end_time": "2024-06-20T09:53:56.046571Z",
     "start_time": "2024-06-20T09:53:56.039571Z"
    }
   },
   "cell_type": "code",
   "source": [
    "def create_df(which_vcf_list):\n",
    "    # chem_fin = chemins_finaux(which_vcf_list)\n",
    "    df = pd.DataFrame(columns=['snarl index', 'snarl', 'times taken','index provisoire'])\n",
    "    # df['times taken'] = 0 # je sais vraiment pas pourquoi ça marche plus ce machin \n",
    "    #df = df.assign(times_taken = 0)\n",
    "\n",
    "    chemins_possibles = [chemins(i)[0] for i in all_vcf_df]\n",
    "    chemins_possibles = sum(chemins_possibles, [])\n",
    "    chemins_possibles = list(set(chemins_possibles))\n",
    "    for i in range(len(chemins_possibles)):\n",
    "        df.loc[i, 'times taken'] = 0\n",
    "\n",
    "    df['snarl'] = chemins_possibles\n",
    "    \n",
    "    for i in which_vcf_list:\n",
    "        chemins_combines = chemins(i)[2]\n",
    "        combine_count = list((x,chemins_combines.count(x)) for x in set(chemins_combines))\n",
    "        for j in range(len(combine_count)):\n",
    "            for k in range(len(df['snarl'])):\n",
    "                if combine_count[j][0] == str(df['snarl'][k]):\n",
    "                    df.loc[k, \"times taken\"] += combine_count[j][1]\n",
    "    \n",
    "    # fill 'snarl index' column\n",
    "    for i in range(len(df['snarl index'])):\n",
    "        if df['snarl'][i][0] == '>':\n",
    "            S = re.search('>(.+?)>', df['snarl'][i])\n",
    "            if S:\n",
    "                s = S.group(1)\n",
    "            E = re.search('.+>(.*)', df['snarl'][i])\n",
    "            if E:\n",
    "                e = E.group(1)\n",
    "            df.loc[i, \"snarl index\"] = s + '>' + e  \n",
    "            df.loc[i, \"index provisoire\"] = int(s)\n",
    "        else:\n",
    "            S = re.search('(.+?)>', df['snarl'][i])\n",
    "            if S:\n",
    "                s = S.group(1)\n",
    "            E = re.search('.+>(.*)', df['snarl'][i])\n",
    "            if E:\n",
    "                e = E.group(1)\n",
    "            df.loc[i, \"snarl index\"] = s + '>' + e\n",
    "            df.loc[i, \"index provisoire\"] = int(s)\n",
    "    \n",
    "    #df.set_index('snarl index', inplace=True, drop=True)\n",
    "    df.set_index('index provisoire', inplace=True, drop=True)\n",
    "    df.sort_index(inplace=True)\n",
    "    df.reset_index()\n",
    "    df.set_index('snarl index', inplace=True, drop=True)\n",
    "    return df"
   ],
   "id": "1857b24902d56af8",
   "outputs": [],
   "execution_count": 8
  },
  {
   "metadata": {
    "ExecuteTime": {
     "end_time": "2024-06-20T09:54:14.243277Z",
     "start_time": "2024-06-20T09:53:58.679608Z"
    }
   },
   "cell_type": "code",
   "source": [
    "snarl_df = create_df(all_vcf_df)\n",
    "snarl_df"
   ],
   "id": "c8bbcd17f0adc08c",
   "outputs": [
    {
     "data": {
      "text/plain": [
       "                            snarl times taken\n",
       "snarl index                                  \n",
       "1>4                        >1>3>4          69\n",
       "1>4                         1>2>4          51\n",
       "4>9                    >4>5>6>8>9          59\n",
       "4>9                     4>5>7>8>9          53\n",
       "4>9                          >4>9           8\n",
       "...                           ...         ...\n",
       "502>507                  >502>507           3\n",
       "502>507       502>503>504>506>507          89\n",
       "507>512                   507>512         102\n",
       "507>512      >507>508>510>511>512          11\n",
       "507>512      >507>508>509>511>512           7\n",
       "\n",
       "[413 rows x 2 columns]"
      ],
      "text/html": [
       "<div>\n",
       "<style scoped>\n",
       "    .dataframe tbody tr th:only-of-type {\n",
       "        vertical-align: middle;\n",
       "    }\n",
       "\n",
       "    .dataframe tbody tr th {\n",
       "        vertical-align: top;\n",
       "    }\n",
       "\n",
       "    .dataframe thead th {\n",
       "        text-align: right;\n",
       "    }\n",
       "</style>\n",
       "<table border=\"1\" class=\"dataframe\">\n",
       "  <thead>\n",
       "    <tr style=\"text-align: right;\">\n",
       "      <th></th>\n",
       "      <th>snarl</th>\n",
       "      <th>times taken</th>\n",
       "    </tr>\n",
       "    <tr>\n",
       "      <th>snarl index</th>\n",
       "      <th></th>\n",
       "      <th></th>\n",
       "    </tr>\n",
       "  </thead>\n",
       "  <tbody>\n",
       "    <tr>\n",
       "      <th>1&gt;4</th>\n",
       "      <td>&gt;1&gt;3&gt;4</td>\n",
       "      <td>69</td>\n",
       "    </tr>\n",
       "    <tr>\n",
       "      <th>1&gt;4</th>\n",
       "      <td>1&gt;2&gt;4</td>\n",
       "      <td>51</td>\n",
       "    </tr>\n",
       "    <tr>\n",
       "      <th>4&gt;9</th>\n",
       "      <td>&gt;4&gt;5&gt;6&gt;8&gt;9</td>\n",
       "      <td>59</td>\n",
       "    </tr>\n",
       "    <tr>\n",
       "      <th>4&gt;9</th>\n",
       "      <td>4&gt;5&gt;7&gt;8&gt;9</td>\n",
       "      <td>53</td>\n",
       "    </tr>\n",
       "    <tr>\n",
       "      <th>4&gt;9</th>\n",
       "      <td>&gt;4&gt;9</td>\n",
       "      <td>8</td>\n",
       "    </tr>\n",
       "    <tr>\n",
       "      <th>...</th>\n",
       "      <td>...</td>\n",
       "      <td>...</td>\n",
       "    </tr>\n",
       "    <tr>\n",
       "      <th>502&gt;507</th>\n",
       "      <td>&gt;502&gt;507</td>\n",
       "      <td>3</td>\n",
       "    </tr>\n",
       "    <tr>\n",
       "      <th>502&gt;507</th>\n",
       "      <td>502&gt;503&gt;504&gt;506&gt;507</td>\n",
       "      <td>89</td>\n",
       "    </tr>\n",
       "    <tr>\n",
       "      <th>507&gt;512</th>\n",
       "      <td>507&gt;512</td>\n",
       "      <td>102</td>\n",
       "    </tr>\n",
       "    <tr>\n",
       "      <th>507&gt;512</th>\n",
       "      <td>&gt;507&gt;508&gt;510&gt;511&gt;512</td>\n",
       "      <td>11</td>\n",
       "    </tr>\n",
       "    <tr>\n",
       "      <th>507&gt;512</th>\n",
       "      <td>&gt;507&gt;508&gt;509&gt;511&gt;512</td>\n",
       "      <td>7</td>\n",
       "    </tr>\n",
       "  </tbody>\n",
       "</table>\n",
       "<p>413 rows × 2 columns</p>\n",
       "</div>"
      ]
     },
     "execution_count": 9,
     "metadata": {},
     "output_type": "execute_result"
    }
   ],
   "execution_count": 9
  },
  {
   "metadata": {
    "ExecuteTime": {
     "end_time": "2024-06-20T09:54:22.127639Z",
     "start_time": "2024-06-20T09:54:14.244434Z"
    }
   },
   "cell_type": "code",
   "source": [
    "# group0 df\n",
    "g0_df = create_df(g0_vcf_df)\n",
    "g0_df"
   ],
   "id": "c1c5daf296b60d4a",
   "outputs": [
    {
     "data": {
      "text/plain": [
       "                            snarl times taken\n",
       "snarl index                                  \n",
       "1>4                        >1>3>4          33\n",
       "1>4                         1>2>4          27\n",
       "4>9                    >4>5>6>8>9          32\n",
       "4>9                     4>5>7>8>9          23\n",
       "4>9                          >4>9           5\n",
       "...                           ...         ...\n",
       "502>507                  >502>507           1\n",
       "502>507       502>503>504>506>507          45\n",
       "507>512                   507>512          52\n",
       "507>512      >507>508>510>511>512           6\n",
       "507>512      >507>508>509>511>512           2\n",
       "\n",
       "[413 rows x 2 columns]"
      ],
      "text/html": [
       "<div>\n",
       "<style scoped>\n",
       "    .dataframe tbody tr th:only-of-type {\n",
       "        vertical-align: middle;\n",
       "    }\n",
       "\n",
       "    .dataframe tbody tr th {\n",
       "        vertical-align: top;\n",
       "    }\n",
       "\n",
       "    .dataframe thead th {\n",
       "        text-align: right;\n",
       "    }\n",
       "</style>\n",
       "<table border=\"1\" class=\"dataframe\">\n",
       "  <thead>\n",
       "    <tr style=\"text-align: right;\">\n",
       "      <th></th>\n",
       "      <th>snarl</th>\n",
       "      <th>times taken</th>\n",
       "    </tr>\n",
       "    <tr>\n",
       "      <th>snarl index</th>\n",
       "      <th></th>\n",
       "      <th></th>\n",
       "    </tr>\n",
       "  </thead>\n",
       "  <tbody>\n",
       "    <tr>\n",
       "      <th>1&gt;4</th>\n",
       "      <td>&gt;1&gt;3&gt;4</td>\n",
       "      <td>33</td>\n",
       "    </tr>\n",
       "    <tr>\n",
       "      <th>1&gt;4</th>\n",
       "      <td>1&gt;2&gt;4</td>\n",
       "      <td>27</td>\n",
       "    </tr>\n",
       "    <tr>\n",
       "      <th>4&gt;9</th>\n",
       "      <td>&gt;4&gt;5&gt;6&gt;8&gt;9</td>\n",
       "      <td>32</td>\n",
       "    </tr>\n",
       "    <tr>\n",
       "      <th>4&gt;9</th>\n",
       "      <td>4&gt;5&gt;7&gt;8&gt;9</td>\n",
       "      <td>23</td>\n",
       "    </tr>\n",
       "    <tr>\n",
       "      <th>4&gt;9</th>\n",
       "      <td>&gt;4&gt;9</td>\n",
       "      <td>5</td>\n",
       "    </tr>\n",
       "    <tr>\n",
       "      <th>...</th>\n",
       "      <td>...</td>\n",
       "      <td>...</td>\n",
       "    </tr>\n",
       "    <tr>\n",
       "      <th>502&gt;507</th>\n",
       "      <td>&gt;502&gt;507</td>\n",
       "      <td>1</td>\n",
       "    </tr>\n",
       "    <tr>\n",
       "      <th>502&gt;507</th>\n",
       "      <td>502&gt;503&gt;504&gt;506&gt;507</td>\n",
       "      <td>45</td>\n",
       "    </tr>\n",
       "    <tr>\n",
       "      <th>507&gt;512</th>\n",
       "      <td>507&gt;512</td>\n",
       "      <td>52</td>\n",
       "    </tr>\n",
       "    <tr>\n",
       "      <th>507&gt;512</th>\n",
       "      <td>&gt;507&gt;508&gt;510&gt;511&gt;512</td>\n",
       "      <td>6</td>\n",
       "    </tr>\n",
       "    <tr>\n",
       "      <th>507&gt;512</th>\n",
       "      <td>&gt;507&gt;508&gt;509&gt;511&gt;512</td>\n",
       "      <td>2</td>\n",
       "    </tr>\n",
       "  </tbody>\n",
       "</table>\n",
       "<p>413 rows × 2 columns</p>\n",
       "</div>"
      ]
     },
     "execution_count": 10,
     "metadata": {},
     "output_type": "execute_result"
    }
   ],
   "execution_count": 10
  },
  {
   "metadata": {
    "ExecuteTime": {
     "end_time": "2024-06-20T09:54:29.800187Z",
     "start_time": "2024-06-20T09:54:22.128728Z"
    }
   },
   "cell_type": "code",
   "source": [
    "# group1 df\n",
    "g1_df = create_df(g1_vcf_df)\n",
    "g1_df"
   ],
   "id": "84a8161edbd60308",
   "outputs": [
    {
     "data": {
      "text/plain": [
       "                            snarl times taken\n",
       "snarl index                                  \n",
       "1>4                        >1>3>4          36\n",
       "1>4                         1>2>4          24\n",
       "4>9                    >4>5>6>8>9          27\n",
       "4>9                     4>5>7>8>9          30\n",
       "4>9                          >4>9           3\n",
       "...                           ...         ...\n",
       "502>507                  >502>507           2\n",
       "502>507       502>503>504>506>507          44\n",
       "507>512                   507>512          50\n",
       "507>512      >507>508>510>511>512           5\n",
       "507>512      >507>508>509>511>512           5\n",
       "\n",
       "[413 rows x 2 columns]"
      ],
      "text/html": [
       "<div>\n",
       "<style scoped>\n",
       "    .dataframe tbody tr th:only-of-type {\n",
       "        vertical-align: middle;\n",
       "    }\n",
       "\n",
       "    .dataframe tbody tr th {\n",
       "        vertical-align: top;\n",
       "    }\n",
       "\n",
       "    .dataframe thead th {\n",
       "        text-align: right;\n",
       "    }\n",
       "</style>\n",
       "<table border=\"1\" class=\"dataframe\">\n",
       "  <thead>\n",
       "    <tr style=\"text-align: right;\">\n",
       "      <th></th>\n",
       "      <th>snarl</th>\n",
       "      <th>times taken</th>\n",
       "    </tr>\n",
       "    <tr>\n",
       "      <th>snarl index</th>\n",
       "      <th></th>\n",
       "      <th></th>\n",
       "    </tr>\n",
       "  </thead>\n",
       "  <tbody>\n",
       "    <tr>\n",
       "      <th>1&gt;4</th>\n",
       "      <td>&gt;1&gt;3&gt;4</td>\n",
       "      <td>36</td>\n",
       "    </tr>\n",
       "    <tr>\n",
       "      <th>1&gt;4</th>\n",
       "      <td>1&gt;2&gt;4</td>\n",
       "      <td>24</td>\n",
       "    </tr>\n",
       "    <tr>\n",
       "      <th>4&gt;9</th>\n",
       "      <td>&gt;4&gt;5&gt;6&gt;8&gt;9</td>\n",
       "      <td>27</td>\n",
       "    </tr>\n",
       "    <tr>\n",
       "      <th>4&gt;9</th>\n",
       "      <td>4&gt;5&gt;7&gt;8&gt;9</td>\n",
       "      <td>30</td>\n",
       "    </tr>\n",
       "    <tr>\n",
       "      <th>4&gt;9</th>\n",
       "      <td>&gt;4&gt;9</td>\n",
       "      <td>3</td>\n",
       "    </tr>\n",
       "    <tr>\n",
       "      <th>...</th>\n",
       "      <td>...</td>\n",
       "      <td>...</td>\n",
       "    </tr>\n",
       "    <tr>\n",
       "      <th>502&gt;507</th>\n",
       "      <td>&gt;502&gt;507</td>\n",
       "      <td>2</td>\n",
       "    </tr>\n",
       "    <tr>\n",
       "      <th>502&gt;507</th>\n",
       "      <td>502&gt;503&gt;504&gt;506&gt;507</td>\n",
       "      <td>44</td>\n",
       "    </tr>\n",
       "    <tr>\n",
       "      <th>507&gt;512</th>\n",
       "      <td>507&gt;512</td>\n",
       "      <td>50</td>\n",
       "    </tr>\n",
       "    <tr>\n",
       "      <th>507&gt;512</th>\n",
       "      <td>&gt;507&gt;508&gt;510&gt;511&gt;512</td>\n",
       "      <td>5</td>\n",
       "    </tr>\n",
       "    <tr>\n",
       "      <th>507&gt;512</th>\n",
       "      <td>&gt;507&gt;508&gt;509&gt;511&gt;512</td>\n",
       "      <td>5</td>\n",
       "    </tr>\n",
       "  </tbody>\n",
       "</table>\n",
       "<p>413 rows × 2 columns</p>\n",
       "</div>"
      ]
     },
     "execution_count": 11,
     "metadata": {},
     "output_type": "execute_result"
    }
   ],
   "execution_count": 11
  },
  {
   "metadata": {},
   "cell_type": "markdown",
   "source": "## pvaleurs aaaaah",
   "id": "5cfdfca16eedd01f"
  },
  {
   "metadata": {
    "ExecuteTime": {
     "end_time": "2024-06-20T09:54:34.824707Z",
     "start_time": "2024-06-20T09:54:34.815813Z"
    }
   },
   "cell_type": "code",
   "source": [
    "# mtn on utilise g0_df et g1_df pour créer des tables de contingences (en précisant pour quel snarl on veut créer la table)\n",
    "# old\n",
    "def table_contingence(which_snarl):\n",
    "    n = snarl_df.index.value_counts()[which_snarl]\n",
    "    chem = []\n",
    "    for i in range(n):\n",
    "        chem.append(g0_df.loc[which_snarl]['snarl'].iloc[i])\n",
    "        #thing.append(g0_df.loc[which_snarl]['snarl'][i])\n",
    "        # corpus_df.loc['it'][1]\n",
    "    df2 = pd.DataFrame(columns=['g0', 'g1'], index=chem)\n",
    "    for i in range(len(chem)):\n",
    "        df2.at[chem[i], 'g1'] = g1_df.loc[which_snarl]['times taken'].iloc[i]\n",
    "        df2.at[chem[i], 'g0'] = g0_df.loc[which_snarl]['times taken'].iloc[i]\n",
    "    return df2\n",
    "    \n",
    "def chi2(table):\n",
    "    return chi2_contingency(table).pvalue"
   ],
   "id": "62a36584f68b56a2",
   "outputs": [
    {
     "name": "stdout",
     "output_type": "stream",
     "text": [
      "                      g0  g1\n",
      "187>192               15  20\n",
      ">187>188>189>191>192  30  33\n",
      ">187>188>190>191>192  15   7\n"
     ]
    }
   ],
   "execution_count": 12
  },
  {
   "metadata": {
    "ExecuteTime": {
     "end_time": "2024-06-20T11:25:23.386280Z",
     "start_time": "2024-06-20T11:25:22.671571Z"
    }
   },
   "cell_type": "code",
   "source": [
    "pval_list = []\n",
    "zero_dans_contingence_snarl = [] \n",
    "for i in snarl_df.index.unique():\n",
    "    if 0 not in table_contingence(i).values:\n",
    "        table = table_contingence(i)\n",
    "        pval_list.append([chi2(table_contingence(i)), i])\n",
    "        #print(i, 'ok')\n",
    "    #else:\n",
    "        #pval_list.append([-1, i])\n",
    "        zero_dans_contingence_snarl.append(i)\n",
    "print(zero_dans_contingence_snarl)"
   ],
   "id": "178821abd3bc518",
   "outputs": [
    {
     "name": "stdout",
     "output_type": "stream",
     "text": [
      "['1>4', '4>9', '9>12', '12>14', '14>19', '19>22', '22>25', '25>28', '28>31', '31>34', '34>39', '39>41', '41>43', '43>46', '60>71', '71>74', '74>77', '77>79', '84>89', '89>92', '92>95', '95>100', '100>103', '103>111', '116>119', '119>122', '122>125', '125>128', '128>133', '133>136', '147>152', '154>156', '156>159', '170>173', '173>176', '176>178', '178>181', '181>184', '184>187', '187>192', '192>195', '195>198', '198>201', '201>204', '239>242', '242>245', '245>248', '248>251', '251>254', '254>256', '256>261', '261>263', '263>266', '266>269', '269>272', '272>275', '286>288', '288>293', '307>310', '310>313', '313>315', '329>331', '331>334', '334>337', '417>422', '422>425', '425>427', '438>441', '441>444', '444>446', '446>449', '449>452', '466>471', '471>473', '473>475', '475>478', '478>481', '481>486', '486>489', '489>492', '497>502', '502>507', '507>512']\n"
     ]
    },
    {
     "data": {
      "text/plain": [
       "[[0.7118840491360903, '1>4'],\n",
       " [0.3968771239267448, '4>9'],\n",
       " [0.741181505873604, '9>12'],\n",
       " [0.18033370835010026, '12>14'],\n",
       " [0.10251175769346065, '14>19'],\n",
       " [1.0, '19>22'],\n",
       " [0.8531003889790089, '22>25'],\n",
       " [1.0, '25>28'],\n",
       " [0.11624767903616041, '28>31'],\n",
       " [1.0, '31>34'],\n",
       " [0.19453029780470724, '34>39'],\n",
       " [0.8394613647737761, '39>41'],\n",
       " [0.7118840491360903, '41>43'],\n",
       " [1.0, '43>46'],\n",
       " [0.37487912593806544, '60>71'],\n",
       " [0.7143930376343262, '71>74'],\n",
       " [0.4217699740857601, '74>77'],\n",
       " [0.3685874790746645, '77>79'],\n",
       " [1.0, '84>89'],\n",
       " [0.002375716917978659, '89>92'],\n",
       " [0.3602408127769451, '92>95'],\n",
       " [0.24540840856438512, '95>100'],\n",
       " [0.676602048655645, '100>103'],\n",
       " [0.18306324990817355, '103>111'],\n",
       " [1.0, '116>119'],\n",
       " [0.13142802183483807, '119>122'],\n",
       " [0.19721277472613388, '122>125'],\n",
       " [0.5612758361345777, '125>128'],\n",
       " [0.5922600162958929, '128>133'],\n",
       " [0.5269170163810348, '133>136'],\n",
       " [0.23923641537497314, '147>152'],\n",
       " [0.45754943260865666, '154>156'],\n",
       " [0.8531003889790089, '156>159'],\n",
       " [0.007050729110422747, '170>173'],\n",
       " [0.5062075378065074, '173>176'],\n",
       " [1.0, '176>178'],\n",
       " [0.06785094172073415, '178>181'],\n",
       " [1.0, '181>184'],\n",
       " [1.0, '184>187'],\n",
       " [0.15211524066637977, '187>192'],\n",
       " [0.6005753106197613, '192>195'],\n",
       " [1.0, '195>198'],\n",
       " [1.0, '198>201'],\n",
       " [0.024819551993782357, '201>204'],\n",
       " [1.0, '239>242'],\n",
       " [0.000688513896645079, '242>245'],\n",
       " [0.741181505873604, '245>248'],\n",
       " [0.435622158851672, '248>251'],\n",
       " [0.5560451507186568, '251>254'],\n",
       " [1.8041961636392893e-05, '254>256'],\n",
       " [0.028406528504898318, '256>261'],\n",
       " [0.5269170163810348, '261>263'],\n",
       " [1.0, '263>266'],\n",
       " [0.29184054514378543, '266>269'],\n",
       " [1.0, '269>272'],\n",
       " [0.4359850831494817, '272>275'],\n",
       " [0.20115248605459507, '286>288'],\n",
       " [0.8290291181804004, '288>293'],\n",
       " [0.8521789268968154, '307>310'],\n",
       " [0.6697565058471574, '310>313'],\n",
       " [0.4646500810759665, '313>315'],\n",
       " [0.2727213997532298, '329>331'],\n",
       " [1.0, '331>334'],\n",
       " [1.0, '334>337'],\n",
       " [0.3189065573239704, '417>422'],\n",
       " [0.34355264979210676, '422>425'],\n",
       " [0.435622158851672, '425>427'],\n",
       " [0.19492445251365376, '438>441'],\n",
       " [1.0, '441>444'],\n",
       " [0.8291179837454193, '444>446'],\n",
       " [0.0006452178402019399, '446>449'],\n",
       " [0.2578990352923363, '449>452'],\n",
       " [0.8979613918154304, '466>471'],\n",
       " [0.22067136191984324, '471>473'],\n",
       " [0.09353251268909288, '473>475'],\n",
       " [0.429120173485369, '475>478'],\n",
       " [0.2727213997532298, '478>481'],\n",
       " [0.4222509858801837, '481>486'],\n",
       " [1.0, '486>489'],\n",
       " [1.0, '489>492'],\n",
       " [0.05422248901160142, '497>502'],\n",
       " [0.8417395427910674, '502>507'],\n",
       " [0.49266811249428344, '507>512']]"
      ]
     },
     "execution_count": 78,
     "metadata": {},
     "output_type": "execute_result"
    }
   ],
   "execution_count": 78
  },
  {
   "metadata": {},
   "cell_type": "code",
   "source": "print(pval_list[5][1])",
   "id": "259568e896edc0d9",
   "outputs": [],
   "execution_count": null
  },
  {
   "metadata": {
    "ExecuteTime": {
     "end_time": "2024-06-20T11:18:49.813249Z",
     "start_time": "2024-06-20T11:18:49.808991Z"
    }
   },
   "cell_type": "code",
   "source": [
    "def create_pval_df(which_pval_list):\n",
    "    pval_df = pd.DataFrame(columns=['snarl index', 'p-valeur', 'moinslog10pvaleur', 'color'])\n",
    "    for i in range(len(which_pval_list)):\n",
    "        pval_df.loc[i, 'snarl index'] = which_pval_list[i][1]\n",
    "        pval_df.loc[i, \"p-valeur\"] = which_pval_list[i][0]\n",
    "        if which_pval_list[i][0] != -1:\n",
    "            pval_df.loc[i, \"moinslog10pvaleur\"] = -np.log10(which_pval_list[i][0])\n",
    "        else: \n",
    "            print('not ok')\n",
    "    pval_df.set_index('snarl index', inplace=True, drop=True)\n",
    "    conditions = [\n",
    "        (pval_df['moinslog10pvaleur'] == 0.0001),\n",
    "        (pval_df['moinslog10pvaleur'] > 2),\n",
    "        (pval_df['moinslog10pvaleur'] < 2)]\n",
    "    choices = ['red', 'green', 'blue']\n",
    "    pval_df['color'] = np.select(conditions, choices, default='red')\n",
    "    return pval_df"
   ],
   "id": "1976d9a2599dfae8",
   "outputs": [],
   "execution_count": 66
  },
  {
   "metadata": {
    "ExecuteTime": {
     "end_time": "2024-06-20T11:18:50.492793Z",
     "start_time": "2024-06-20T11:18:50.364247Z"
    }
   },
   "cell_type": "code",
   "source": [
    "#print(len(pval_list), type(pval_list[14]), pval_list[14], pval_list[13])\n",
    "pval_df = create_pval_df(pval_list)\n",
    "pval_df.head()\n",
    "#plt.hist(pval_df['p-valeur'])\n",
    "plt.hist(pval_df['p-valeur'])"
   ],
   "id": "22b317313195de23",
   "outputs": [
    {
     "data": {
      "text/plain": [
       "(array([10.,  9.,  8.,  6.,  9.,  6.,  3.,  5.,  8., 19.]),\n",
       " array([1.80419616e-05, 1.00016238e-01, 2.00014434e-01, 3.00012629e-01,\n",
       "        4.00010825e-01, 5.00009021e-01, 6.00007217e-01, 7.00005413e-01,\n",
       "        8.00003608e-01, 9.00001804e-01, 1.00000000e+00]),\n",
       " <BarContainer object of 10 artists>)"
      ]
     },
     "execution_count": 67,
     "metadata": {},
     "output_type": "execute_result"
    },
    {
     "data": {
      "text/plain": [
       "<Figure size 640x480 with 1 Axes>"
      ],
      "image/png": "[encoded data removed]"
     },
     "metadata": {},
     "output_type": "display_data"
    }
   ],
   "execution_count": 67
  },
  {
   "metadata": {
    "ExecuteTime": {
     "end_time": "2024-06-20T11:19:04.671909Z",
     "start_time": "2024-06-20T11:19:04.610540Z"
    }
   },
   "cell_type": "code",
   "source": [
    "# la p-valeur est égale à 1 quand on passe (quasiment) exactement autant de fois par un chemin que par l'autre\n",
    "for i in range(len(pval_list)):\n",
    "    if pval_list[i][0] == 1:\n",
    "        print(table_contingence(pval_list[i][1]))"
   ],
   "id": "b328db52f8a8e64b",
   "outputs": [
    {
     "name": "stdout",
     "output_type": "stream",
     "text": [
      "           g0  g1\n",
      "19>21>22   30  31\n",
      ">19>20>22  30  29\n",
      "           g0  g1\n",
      "25>27>28   35  35\n",
      ">25>26>28  25  25\n",
      "           g0  g1\n",
      "31>32>34   31  32\n",
      ">31>33>34  29  28\n",
      "           g0  g1\n",
      "43>44>46   21  21\n",
      ">43>45>46  39  39\n",
      "                 g0  g1\n",
      ">84>85>87>88>89   6   6\n",
      ">84>85>86>88>89   3   3\n",
      "84>89            51  51\n",
      "              g0  g1\n",
      ">116>117>119  30  30\n",
      "116>118>119   30  30\n",
      "              g0  g1\n",
      ">176>177>178  49  49\n",
      "176>178       11  11\n",
      "              g0  g1\n",
      ">181>183>184   8   9\n",
      "181>182>184   52  51\n",
      "              g0  g1\n",
      "184>185>187   45  46\n",
      ">184>186>187  15  14\n",
      "              g0  g1\n",
      ">195>196>198  15  14\n",
      "195>197>198   45  46\n",
      "              g0  g1\n",
      "198>199>201   46  47\n",
      ">198>200>201  14  13\n",
      "              g0  g1\n",
      "239>240>242   46  46\n",
      ">239>241>242  14  14\n",
      "              g0  g1\n",
      "263>265>266   26  27\n",
      ">263>264>266  34  33\n",
      "              g0  g1\n",
      ">269>271>272   7   8\n",
      "269>270>272   53  52\n",
      "              g0  g1\n",
      "331>333>334   43  43\n",
      ">331>332>334  17  17\n",
      "              g0  g1\n",
      "334>335>337   51  51\n",
      ">334>336>337   9   9\n",
      "              g0  g1\n",
      ">441>442>444  11  10\n",
      "441>443>444   49  50\n",
      "              g0  g1\n",
      "486>488>489   57  57\n",
      ">486>487>489   3   3\n",
      "              g0  g1\n",
      "489>490>492   36  35\n",
      ">489>491>492  24  25\n"
     ]
    }
   ],
   "execution_count": 68
  },
  {
   "metadata": {
    "ExecuteTime": {
     "end_time": "2024-06-20T11:44:33.078132Z",
     "start_time": "2024-06-20T11:44:33.075418Z"
    }
   },
   "cell_type": "code",
   "source": [
    "'''print(table_contingence(i))\n",
    "print(table_contingence(i).sum(axis = 0))\n",
    "print(contingence_pb[i]) \n",
    "\n",
    "\n",
    "print(len(snarl_index_somme_pas_ok))\n",
    "print(snarl_index_somme_pas_ok)\n",
    "for i in snarl_index_somme_pas_ok:\n",
    "    if i in zero_dans_contingence_snarl:\n",
    "        print(i)\n",
    "\n",
    "print('--------------------')\n",
    "print(contingence_pb[i])\n",
    "print('####################')''';"
   ],
   "id": "c1f54ff0f76f802",
   "outputs": [],
   "execution_count": 84
  },
  {
   "metadata": {
    "ExecuteTime": {
     "end_time": "2024-06-20T11:31:18.401999Z",
     "start_time": "2024-06-20T11:31:18.392733Z"
    }
   },
   "cell_type": "code",
   "source": [
    "big_pv = [(-np.log10(pval_list[i][0]), pval_list[i][1]) for i in range(len(pval_list)) if -np.log10(pval_list[i][0]) > 2]\n",
    "print(big_pv)\n",
    "table_contingence('79>84')"
   ],
   "id": "61836e0589761aef",
   "outputs": [
    {
     "name": "stdout",
     "output_type": "stream",
     "text": [
      "[(2.624205309601664, '89>92'), (2.15176597063122, '170>173'), (3.1620872897202483, '242>245'), (4.743716244978902, '254>256'), (3.1902936329226557, '446>449')]\n"
     ]
    },
    {
     "data": {
      "text/plain": [
       "                 g0  g1\n",
       ">79>80>82>83>84   0   0\n",
       ">79>84           45  17\n",
       "79>80>81>83>84   15  43"
      ],
      "text/html": [
       "<div>\n",
       "<style scoped>\n",
       "    .dataframe tbody tr th:only-of-type {\n",
       "        vertical-align: middle;\n",
       "    }\n",
       "\n",
       "    .dataframe tbody tr th {\n",
       "        vertical-align: top;\n",
       "    }\n",
       "\n",
       "    .dataframe thead th {\n",
       "        text-align: right;\n",
       "    }\n",
       "</style>\n",
       "<table border=\"1\" class=\"dataframe\">\n",
       "  <thead>\n",
       "    <tr style=\"text-align: right;\">\n",
       "      <th></th>\n",
       "      <th>g0</th>\n",
       "      <th>g1</th>\n",
       "    </tr>\n",
       "  </thead>\n",
       "  <tbody>\n",
       "    <tr>\n",
       "      <th>&gt;79&gt;80&gt;82&gt;83&gt;84</th>\n",
       "      <td>0</td>\n",
       "      <td>0</td>\n",
       "    </tr>\n",
       "    <tr>\n",
       "      <th>&gt;79&gt;84</th>\n",
       "      <td>45</td>\n",
       "      <td>17</td>\n",
       "    </tr>\n",
       "    <tr>\n",
       "      <th>79&gt;80&gt;81&gt;83&gt;84</th>\n",
       "      <td>15</td>\n",
       "      <td>43</td>\n",
       "    </tr>\n",
       "  </tbody>\n",
       "</table>\n",
       "</div>"
      ]
     },
     "execution_count": 82,
     "metadata": {},
     "output_type": "execute_result"
    }
   ],
   "execution_count": 82
  },
  {
   "metadata": {
    "ExecuteTime": {
     "end_time": "2024-06-20T11:19:09.911316Z",
     "start_time": "2024-06-20T11:19:09.827049Z"
    }
   },
   "cell_type": "code",
   "source": [
    "# manhattan plot\n",
    "\n",
    "#fig = plt.figure(figsize=(14, 8)) \n",
    "#ax = fig.add_subplot(111)\n",
    "plt.scatter(range(len(pval_df)), pval_df['moinslog10pvaleur'], c=pval_df['color'])\n",
    "#ax.set_xlabel('snarl index')\n",
    "#ax.set_ylabel('moins log10 pvalue')\n"
   ],
   "id": "b8fbfacf02918012",
   "outputs": [
    {
     "data": {
      "text/plain": [
       "<matplotlib.collections.PathCollection at 0x7236f834f370>"
      ]
     },
     "execution_count": 69,
     "metadata": {},
     "output_type": "execute_result"
    },
    {
     "data": {
      "text/plain": [
       "<Figure size 640x480 with 1 Axes>"
      ],
      "image/png": "[encoded data removed]"
     },
     "metadata": {},
     "output_type": "display_data"
    }
   ],
   "execution_count": 69
  },
  {
   "metadata": {
    "ExecuteTime": {
     "end_time": "2024-06-20T10:12:02.229288Z",
     "start_time": "2024-06-20T10:12:02.209690Z"
    }
   },
   "cell_type": "code",
   "source": [
    "# find the smallest pvalues and the associated snarls   \n",
    "\n",
    "for i in range(len(pval_df)):\n",
    "    if pval_df['moinslog10pvaleur'].iloc[i] > 2:\n",
    "    # if pval_df.index[i] == '446>449':\n",
    "        # print(pval_df['moinslog10pvaleur'].iloc[i])\n",
    "        print('##########', pval_df['moinslog10pvaleur'].iloc[i])\n",
    "        print(table_contingence(pval_df.index[i]))"
   ],
   "id": "85b4368062ad9b24",
   "outputs": [
    {
     "name": "stdout",
     "output_type": "stream",
     "text": [
      "########## 2.624205309601664\n",
      "           g0  g1\n",
      ">89>90>92  25   9\n",
      "89>91>92   35  51\n",
      "########## 2.15176597063122\n",
      "              g0  g1\n",
      ">170>172>173   4  16\n",
      "170>171>173   56  44\n",
      "########## 3.1620872897202483\n",
      "              g0  g1\n",
      ">242>244>245  13  32\n",
      "242>243>245   47  28\n",
      "########## 4.743716244978902\n",
      "             g0  g1\n",
      "254>255>256  52  29\n",
      ">254>256      8  31\n",
      "########## 3.1902936329226557\n",
      "              g0  g1\n",
      "446>448>449   54  37\n",
      ">446>447>449   6  23\n"
     ]
    }
   ],
   "execution_count": 59
  },
  {
   "metadata": {
    "ExecuteTime": {
     "end_time": "2024-06-20T12:03:49.906315Z",
     "start_time": "2024-06-20T12:03:49.890212Z"
    }
   },
   "cell_type": "code",
   "source": [
    "# snarl untrue ? donne des meilleurs noms à tes variables, yasmine\n",
    "# ce sont les snarls passés à la trappe (donc avec des fréquences d'occurrence différentes (quand on regarde la vérité) mais qui n'ont pas été détectés par mon petit code) ET qui ne sont pas des snarls imbriqués \n",
    "\n",
    "snarl_untrue = ['198>201', '201>204', '427>438', '497>502']\n",
    "for i in range(len(pval_df.index)):\n",
    "    if pval_df.index[i] in snarl_untrue:\n",
    "        print('##############', pval_df.index[i], ';',  pval_df['moinslog10pvaleur'].iloc[i])  \n",
    "        print(table_contingence(pval_df.index[i]))\n"
   ],
   "id": "7200c200351c5f",
   "outputs": [
    {
     "name": "stdout",
     "output_type": "stream",
     "text": [
      "############## 198>201 ; -0.0\n",
      "              g0  g1\n",
      "198>199>201   46  47\n",
      ">198>200>201  14  13\n",
      "############## 201>204 ; 1.605206062014734\n",
      "              g0  g1\n",
      "201>203>204   30  43\n",
      ">201>202>204  30  17\n",
      "############## 497>502 ; 1.2658205505845004\n",
      "                      g0  g1\n",
      ">497>502              22  35\n",
      "497>498>500>501>502    2   2\n",
      ">497>498>499>501>502  36  23\n"
     ]
    }
   ],
   "execution_count": 94
  },
  {
   "metadata": {
    "ExecuteTime": {
     "end_time": "2024-06-20T12:06:39.469056Z",
     "start_time": "2024-06-20T12:06:38.874433Z"
    }
   },
   "cell_type": "code",
   "source": [
    "# on vérifie que la somme des colonnes dans les tables de contingence est toujours égale à 60\n",
    "\n",
    "snarl_index_somme_pas_ok = []\n",
    "\n",
    "for i in snarl_df.index.unique():\n",
    "    if table_contingence(i).sum(axis = 0).iloc[0] != 60 or table_contingence(i).sum(axis = 0).iloc[1] != 60:\n",
    "        snarl_index_somme_pas_ok.append(i)\n",
    "\n",
    "if len(snarl_index_somme_pas_ok) == 0:\n",
    "    print('bien ouej !')\n",
    "else:\n",
    "    print('better luck next time...')"
   ],
   "id": "e35267b5e46ce5b2",
   "outputs": [
    {
     "name": "stdout",
     "output_type": "stream",
     "text": [
      "bien ouej !\n"
     ]
    }
   ],
   "execution_count": 95
  },
  {
   "metadata": {
    "ExecuteTime": {
     "end_time": "2024-06-20T12:36:23.990328Z",
     "start_time": "2024-06-20T12:36:23.721452Z"
    }
   },
   "cell_type": "code",
   "source": [
    "# trafiquer les tables de contingences \n",
    "## on ne veut plus de 0 dans les tables\n",
    "## on veut pas changer les effectifs par colonnes !!\n",
    "\n",
    "contingence_pb = [table_contingence(i) for i in zero_dans_contingence_snarl]\n",
    "\n",
    "########## ce qui va pas ici c'est que le max prend -1 au lieu de prendre -n avec n le nb de 0 dans la table ##########\n",
    "#for i in range(len(contingence_pb)):\n",
    "#    contingence_pb[i] = contingence_pb[i].where(contingence_pb[i] != 0, contingence_pb[i]+1)\n",
    "#    contingence_pb[i] = contingence_pb[i].where(contingence_pb[i] != contingence_pb[i].max().max(), contingence_pb[i]-1)\n",
    "\n",
    "\n",
    "zro_ctr = 0\n",
    "test = contingence_pb[0]\n",
    "\n",
    "for i in test:\n",
    "    if test.loc[i, 'g0'] == 0 or test.loc[i, 'g1'] == 0:\n",
    "        zro_ctr += 1\n",
    "        #test[i] = 1\n",
    "\n",
    "\n",
    "print(zro_ctr)\n",
    "    \n",
    "    \n",
    "''' print(table_contingence(i))\n",
    "print(table_contingence(i).sum(axis = 0))\n",
    "print(contingence_pb[i])''' \n",
    "\n",
    "    \n",
    "'''print(len(snarl_index_somme_pas_ok))\n",
    "print(snarl_index_somme_pas_ok)\n",
    "for i in snarl_index_somme_pas_ok:\n",
    "    if i in zero_dans_contingence_snarl:\n",
    "        print(i)'''\n",
    "\n",
    "'''    print('--------------------')\n",
    "    print(contingence_pb[i])\n",
    "    print('####################')''';"
   ],
   "id": "ea766e4e752d9784",
   "outputs": [],
   "execution_count": 107
  },
  {
   "metadata": {
    "ExecuteTime": {
     "end_time": "2024-06-20T12:55:19.553877Z",
     "start_time": "2024-06-20T12:55:19.100168Z"
    }
   },
   "cell_type": "code",
   "source": "contingence_pb[0].loc['g0']",
   "id": "bfeb58e1653603ab",
   "outputs": [
    {
     "ename": "KeyError",
     "evalue": "'g0'",
     "output_type": "error",
     "traceback": [
      "\u001B[0;31m---------------------------------------------------------------------------\u001B[0m",
      "\u001B[0;31mKeyError\u001B[0m                                  Traceback (most recent call last)",
      "File \u001B[0;32m~/PycharmProjects/premiers_tests/.venv/lib/python3.10/site-packages/pandas/core/indexes/base.py:3805\u001B[0m, in \u001B[0;36mIndex.get_loc\u001B[0;34m(self, key)\u001B[0m\n\u001B[1;32m   3804\u001B[0m \u001B[38;5;28;01mtry\u001B[39;00m:\n\u001B[0;32m-> 3805\u001B[0m     \u001B[38;5;28;01mreturn\u001B[39;00m \u001B[38;5;28;43mself\u001B[39;49m\u001B[38;5;241;43m.\u001B[39;49m\u001B[43m_engine\u001B[49m\u001B[38;5;241;43m.\u001B[39;49m\u001B[43mget_loc\u001B[49m\u001B[43m(\u001B[49m\u001B[43mcasted_key\u001B[49m\u001B[43m)\u001B[49m\n\u001B[1;32m   3806\u001B[0m \u001B[38;5;28;01mexcept\u001B[39;00m \u001B[38;5;167;01mKeyError\u001B[39;00m \u001B[38;5;28;01mas\u001B[39;00m err:\n",
      "File \u001B[0;32mindex.pyx:167\u001B[0m, in \u001B[0;36mpandas._libs.index.IndexEngine.get_loc\u001B[0;34m()\u001B[0m\n",
      "File \u001B[0;32mindex.pyx:196\u001B[0m, in \u001B[0;36mpandas._libs.index.IndexEngine.get_loc\u001B[0;34m()\u001B[0m\n",
      "File \u001B[0;32mpandas/_libs/hashtable_class_helper.pxi:7081\u001B[0m, in \u001B[0;36mpandas._libs.hashtable.PyObjectHashTable.get_item\u001B[0;34m()\u001B[0m\n",
      "File \u001B[0;32mpandas/_libs/hashtable_class_helper.pxi:7089\u001B[0m, in \u001B[0;36mpandas._libs.hashtable.PyObjectHashTable.get_item\u001B[0;34m()\u001B[0m\n",
      "\u001B[0;31mKeyError\u001B[0m: 'g0'",
      "\nThe above exception was the direct cause of the following exception:\n",
      "\u001B[0;31mKeyError\u001B[0m                                  Traceback (most recent call last)",
      "Cell \u001B[0;32mIn[114], line 1\u001B[0m\n\u001B[0;32m----> 1\u001B[0m \u001B[43mcontingence_pb\u001B[49m\u001B[43m[\u001B[49m\u001B[38;5;241;43m0\u001B[39;49m\u001B[43m]\u001B[49m\u001B[38;5;241;43m.\u001B[39;49m\u001B[43mloc\u001B[49m\u001B[43m[\u001B[49m\u001B[38;5;124;43m'\u001B[39;49m\u001B[38;5;124;43mg0\u001B[39;49m\u001B[38;5;124;43m'\u001B[39;49m\u001B[43m]\u001B[49m\n",
      "File \u001B[0;32m~/PycharmProjects/premiers_tests/.venv/lib/python3.10/site-packages/pandas/core/indexing.py:1191\u001B[0m, in \u001B[0;36m_LocationIndexer.__getitem__\u001B[0;34m(self, key)\u001B[0m\n\u001B[1;32m   1189\u001B[0m maybe_callable \u001B[38;5;241m=\u001B[39m com\u001B[38;5;241m.\u001B[39mapply_if_callable(key, \u001B[38;5;28mself\u001B[39m\u001B[38;5;241m.\u001B[39mobj)\n\u001B[1;32m   1190\u001B[0m maybe_callable \u001B[38;5;241m=\u001B[39m \u001B[38;5;28mself\u001B[39m\u001B[38;5;241m.\u001B[39m_check_deprecated_callable_usage(key, maybe_callable)\n\u001B[0;32m-> 1191\u001B[0m \u001B[38;5;28;01mreturn\u001B[39;00m \u001B[38;5;28;43mself\u001B[39;49m\u001B[38;5;241;43m.\u001B[39;49m\u001B[43m_getitem_axis\u001B[49m\u001B[43m(\u001B[49m\u001B[43mmaybe_callable\u001B[49m\u001B[43m,\u001B[49m\u001B[43m \u001B[49m\u001B[43maxis\u001B[49m\u001B[38;5;241;43m=\u001B[39;49m\u001B[43maxis\u001B[49m\u001B[43m)\u001B[49m\n",
      "File \u001B[0;32m~/PycharmProjects/premiers_tests/.venv/lib/python3.10/site-packages/pandas/core/indexing.py:1431\u001B[0m, in \u001B[0;36m_LocIndexer._getitem_axis\u001B[0;34m(self, key, axis)\u001B[0m\n\u001B[1;32m   1429\u001B[0m \u001B[38;5;66;03m# fall thru to straight lookup\u001B[39;00m\n\u001B[1;32m   1430\u001B[0m \u001B[38;5;28mself\u001B[39m\u001B[38;5;241m.\u001B[39m_validate_key(key, axis)\n\u001B[0;32m-> 1431\u001B[0m \u001B[38;5;28;01mreturn\u001B[39;00m \u001B[38;5;28;43mself\u001B[39;49m\u001B[38;5;241;43m.\u001B[39;49m\u001B[43m_get_label\u001B[49m\u001B[43m(\u001B[49m\u001B[43mkey\u001B[49m\u001B[43m,\u001B[49m\u001B[43m \u001B[49m\u001B[43maxis\u001B[49m\u001B[38;5;241;43m=\u001B[39;49m\u001B[43maxis\u001B[49m\u001B[43m)\u001B[49m\n",
      "File \u001B[0;32m~/PycharmProjects/premiers_tests/.venv/lib/python3.10/site-packages/pandas/core/indexing.py:1381\u001B[0m, in \u001B[0;36m_LocIndexer._get_label\u001B[0;34m(self, label, axis)\u001B[0m\n\u001B[1;32m   1379\u001B[0m \u001B[38;5;28;01mdef\u001B[39;00m \u001B[38;5;21m_get_label\u001B[39m(\u001B[38;5;28mself\u001B[39m, label, axis: AxisInt):\n\u001B[1;32m   1380\u001B[0m     \u001B[38;5;66;03m# GH#5567 this will fail if the label is not present in the axis.\u001B[39;00m\n\u001B[0;32m-> 1381\u001B[0m     \u001B[38;5;28;01mreturn\u001B[39;00m \u001B[38;5;28;43mself\u001B[39;49m\u001B[38;5;241;43m.\u001B[39;49m\u001B[43mobj\u001B[49m\u001B[38;5;241;43m.\u001B[39;49m\u001B[43mxs\u001B[49m\u001B[43m(\u001B[49m\u001B[43mlabel\u001B[49m\u001B[43m,\u001B[49m\u001B[43m \u001B[49m\u001B[43maxis\u001B[49m\u001B[38;5;241;43m=\u001B[39;49m\u001B[43maxis\u001B[49m\u001B[43m)\u001B[49m\n",
      "File \u001B[0;32m~/PycharmProjects/premiers_tests/.venv/lib/python3.10/site-packages/pandas/core/generic.py:4301\u001B[0m, in \u001B[0;36mNDFrame.xs\u001B[0;34m(self, key, axis, level, drop_level)\u001B[0m\n\u001B[1;32m   4299\u001B[0m             new_index \u001B[38;5;241m=\u001B[39m index[loc]\n\u001B[1;32m   4300\u001B[0m \u001B[38;5;28;01melse\u001B[39;00m:\n\u001B[0;32m-> 4301\u001B[0m     loc \u001B[38;5;241m=\u001B[39m \u001B[43mindex\u001B[49m\u001B[38;5;241;43m.\u001B[39;49m\u001B[43mget_loc\u001B[49m\u001B[43m(\u001B[49m\u001B[43mkey\u001B[49m\u001B[43m)\u001B[49m\n\u001B[1;32m   4303\u001B[0m     \u001B[38;5;28;01mif\u001B[39;00m \u001B[38;5;28misinstance\u001B[39m(loc, np\u001B[38;5;241m.\u001B[39mndarray):\n\u001B[1;32m   4304\u001B[0m         \u001B[38;5;28;01mif\u001B[39;00m loc\u001B[38;5;241m.\u001B[39mdtype \u001B[38;5;241m==\u001B[39m np\u001B[38;5;241m.\u001B[39mbool_:\n",
      "File \u001B[0;32m~/PycharmProjects/premiers_tests/.venv/lib/python3.10/site-packages/pandas/core/indexes/base.py:3812\u001B[0m, in \u001B[0;36mIndex.get_loc\u001B[0;34m(self, key)\u001B[0m\n\u001B[1;32m   3807\u001B[0m     \u001B[38;5;28;01mif\u001B[39;00m \u001B[38;5;28misinstance\u001B[39m(casted_key, \u001B[38;5;28mslice\u001B[39m) \u001B[38;5;129;01mor\u001B[39;00m (\n\u001B[1;32m   3808\u001B[0m         \u001B[38;5;28misinstance\u001B[39m(casted_key, abc\u001B[38;5;241m.\u001B[39mIterable)\n\u001B[1;32m   3809\u001B[0m         \u001B[38;5;129;01mand\u001B[39;00m \u001B[38;5;28many\u001B[39m(\u001B[38;5;28misinstance\u001B[39m(x, \u001B[38;5;28mslice\u001B[39m) \u001B[38;5;28;01mfor\u001B[39;00m x \u001B[38;5;129;01min\u001B[39;00m casted_key)\n\u001B[1;32m   3810\u001B[0m     ):\n\u001B[1;32m   3811\u001B[0m         \u001B[38;5;28;01mraise\u001B[39;00m InvalidIndexError(key)\n\u001B[0;32m-> 3812\u001B[0m     \u001B[38;5;28;01mraise\u001B[39;00m \u001B[38;5;167;01mKeyError\u001B[39;00m(key) \u001B[38;5;28;01mfrom\u001B[39;00m \u001B[38;5;21;01merr\u001B[39;00m\n\u001B[1;32m   3813\u001B[0m \u001B[38;5;28;01mexcept\u001B[39;00m \u001B[38;5;167;01mTypeError\u001B[39;00m:\n\u001B[1;32m   3814\u001B[0m     \u001B[38;5;66;03m# If we have a listlike key, _check_indexing_error will raise\u001B[39;00m\n\u001B[1;32m   3815\u001B[0m     \u001B[38;5;66;03m#  InvalidIndexError. Otherwise we fall through and re-raise\u001B[39;00m\n\u001B[1;32m   3816\u001B[0m     \u001B[38;5;66;03m#  the TypeError.\u001B[39;00m\n\u001B[1;32m   3817\u001B[0m     \u001B[38;5;28mself\u001B[39m\u001B[38;5;241m.\u001B[39m_check_indexing_error(key)\n",
      "\u001B[0;31mKeyError\u001B[0m: 'g0'"
     ]
    }
   ],
   "execution_count": 114
  },
  {
   "metadata": {
    "ExecuteTime": {
     "end_time": "2024-06-20T10:12:14.334577Z",
     "start_time": "2024-06-20T10:12:13.866656Z"
    }
   },
   "cell_type": "code",
   "source": [
    "# pval_pb = [(chi2(table_contingence(i)), i) for i in zero_dans_contingence_snarl]\n",
    "pval_pb = [[chi2(i), 0] for i in contingence_pb]\n",
    "for i in range(len(pval_pb)):\n",
    "    pval_pb[i][1] = zero_dans_contingence_snarl[i]\n",
    "pval_all = pval_list + pval_pb\n",
    "\n",
    "pval_all_df = create_pval_df(pval_all)\n",
    "for i in pval_all_df.index:\n",
    "    if i not in pval_df.index:\n",
    "        pval_all_df.loc[i, 'color'] = \"red\"\n",
    " \n",
    "fig, ax = plt.subplots(nrows=2, ncols=2, figsize=(14, 8))\n",
    "ax[0][0].hist(pval_df['p-valeur'])\n",
    "ax[0][0].set_title('legal pvalues')\n",
    "ax[0][1].hist(pval_all_df['p-valeur'])\n",
    "ax[0][1].set_title('all pvalues')\n",
    "\n",
    "ax[1][0].scatter(range(len(pval_df)), pval_df['moinslog10pvaleur'], c=pval_df['color'])\n",
    "ax[1][0].set_title('legal moins log10 pvalues')\n",
    "ax[1][1].scatter(range(len(pval_all_df)), pval_all_df['moinslog10pvaleur'], c=pval_all_df['color'])\n",
    "ax[1][1].set_title('all moins log10 pvalues')\n",
    "#plt.hist(pval_all)"
   ],
   "id": "decbb9159d9baa23",
   "outputs": [
    {
     "data": {
      "text/plain": [
       "Text(0.5, 1.0, 'all moins log10 pvalues')"
      ]
     },
     "execution_count": 63,
     "metadata": {},
     "output_type": "execute_result"
    },
    {
     "data": {
      "text/plain": [
       "<Figure size 1400x800 with 4 Axes>"
      ],
      "image/png": "[encoded data removed]"
     },
     "metadata": {},
     "output_type": "display_data"
    }
   ],
   "execution_count": 63
  },
  {
   "metadata": {
    "ExecuteTime": {
     "end_time": "2024-06-20T10:12:23.793506Z",
     "start_time": "2024-06-20T10:12:23.789056Z"
    }
   },
   "cell_type": "code",
   "source": [
    "# proof (pour moi même) that the two df are not identical \n",
    "# par contre trafiquer les tables de contingences n'a pas permis d'avoir de petites pvaleurs \n",
    "print(len(pval_df), len(pval_all_df))\n",
    "\n",
    "#c'est len de pvall_all_df qui est censée être égale à 100 ça veut dire qu'il y a 17 trucs en trop (voir def create pval_df) "
   ],
   "id": "c857dfec27bdf397",
   "outputs": [
    {
     "name": "stdout",
     "output_type": "stream",
     "text": [
      "100 117\n"
     ]
    }
   ],
   "execution_count": 64
  },
  {
   "metadata": {},
   "cell_type": "markdown",
   "source": "## la suite",
   "id": "f75a701ef101955e"
  },
  {
   "metadata": {},
   "cell_type": "code",
   "source": [
    " # cb de snarls avec n chemins possibles ?\n",
    "from itertools import groupby\n",
    "\n",
    "length_of_paths = []\n",
    "for i in list(snarl_df.index):\n",
    "    length_of_paths.append(list(snarl_df.index).count(i))\n",
    "    \n",
    "# occ = [[x,ind.count(x)] for x in set(ind)]\n",
    "\n",
    "taille_chem = list(set(length_of_paths))\n",
    "freq_taille = [len(list(group)) for key, group in groupby(sorted(length_of_paths))]\n",
    "\n",
    "print(taille_chem, freq_taille)"
   ],
   "id": "c7b0dfc4288b860d",
   "outputs": [],
   "execution_count": null
  },
  {
   "metadata": {},
   "cell_type": "markdown",
   "source": [
    " # 'Play' with bdsg\n",
    "##### am i playing with bdsg or is bdsg playing with me"
   ],
   "id": "e08d16e9ffb3ead7"
  },
  {
   "metadata": {},
   "cell_type": "code",
   "source": [
    "from bdsg.bdsg import HashGraph\n",
    "\n",
    "gr = HashGraph()\n",
    "seq = [\"CGA\", \"TTGG\", \"CCGT\", \"C\", \"GT\", \"GATAA\", \"CGG\", \"ACA\", \"GCCG\", \"ATATAAC\"]\n",
    "n = []\n",
    "for s in seq:\n",
    "    n.append(gr.create_handle(s))\n",
    "\n",
    "gr.create_edge(n[0], n[1])\n",
    "gr.create_edge(n[1], n[2])\n",
    "gr.create_edge(n[2], n[3])\n",
    "gr.create_edge(n[2], n[4])\n",
    "gr.create_edge(n[3], n[5])\n",
    "gr.create_edge(n[5], n[6])\n",
    "# Connect the end of n5 to the start of n8\n",
    "gr.create_edge(n[5], n[8])\n",
    "gr.create_edge(n[6], n[7])\n",
    "gr.create_edge(n[6], n[8])\n",
    "gr.create_edge(n[7], n[9])\n",
    "gr.create_edge(n[8], n[9])\n",
    "# Connect the end of n8 back around to the start of n5\n",
    "gr.create_edge(n[8], n[5])\n",
    "\n",
    "def next_node_list(handle):\n",
    "    lis = []\n",
    "    gr.follow_edges(handle, False, lambda y: lis.append(y))\n",
    "    return lis\n",
    "\n",
    "print(n)\n",
    "\n",
    "print(f'n0: {gr.get_sequence(n[0])}')\n",
    "next_node = next_node_list(n[0])[0]\n",
    "print(f'n1: {gr.get_sequence(next_node)}')\n",
    "next_node = next_node_list(next_node)[0]\n",
    "print(f'n2: {gr.get_sequence(next_node)}')\n",
    "\n",
    "path = gr.create_path_handle(\"path\")\n",
    "gr.append_step(path, n[0])\n",
    "gr.append_step(path, n[1])\n",
    "gr.append_step(path, n[2])\n",
    "gr.append_step(path, n[4])\n",
    "gr.append_step(path, n[5])\n",
    "gr.append_step(path, n[6])\n",
    "gr.append_step(path, n[7])\n",
    "gr.append_step(path, n[9])"
   ],
   "id": "9d75cc4da39100ec",
   "outputs": [],
   "execution_count": null
  },
  {
   "metadata": {},
   "cell_type": "code",
   "source": [
    "from bdsg.bdsg import PackedGraph\n",
    "brca2 = PackedGraph()\n",
    "brca2.deserialize(\"/home/yboulkaid/Documents/sample_data/pgtest.data/pg.pg\")\n",
    "#brca2.deserialize(\"/home/yboulkaid/Téléchargements/cactus-brca2.pg\")\n",
    "\n",
    "path_handle = []\n",
    "handles = []\n",
    "brca2.for_each_path_handle(lambda y: path_handle.append(y) or True)\n",
    "brca2.for_each_step_in_path(path_handle[0],\n",
    "    lambda y: handles.append(brca2.get_handle_of_step(y)) or True)\n",
    "sequence = \"\"\n",
    "for handle in handles:\n",
    "    sequence += brca2.get_sequence(handle)\n",
    "print(sequence[0:10])\n",
    "print(len(sequence))\n"
   ],
   "id": "d06c1ab3e53d0c7b",
   "outputs": [],
   "execution_count": null
  },
  {
   "metadata": {},
   "cell_type": "code",
   "source": [
    "type(gr)\n",
    "\n",
    "# CACGTCCGAGAATCGG\n",
    "# CACGTCCGAG"
   ],
   "id": "ab7e8f3279144fdc",
   "outputs": [],
   "execution_count": null
  },
  {
   "metadata": {},
   "cell_type": "code",
   "source": [
    "from bdsg.handlegraph import  HandleGraph\n",
    "###########################################\n",
    "### HOW TO ACCESS THE SNARL TREE (XIAN) ###\n",
    "###########################################\n",
    "\n",
    "# load the snarl tree\n",
    "stree = bdsg.bdsg.SnarlDistanceIndex()\n",
    "stree.deserialize(\"pg.dist\")\n",
    "# Note: make the pg.dist from the pg.pg using: vg index -j pg.dist pg.pg\n",
    "\n",
    "# load the graph\n",
    "pg = bdsg.bdsg.PackedGraph()\n",
    "pg.deserialize(\"pg.pg\")\n",
    "\n",
    "## To practice let's save all the nodes in the snarl tree in a list\n",
    "stnodes = []\n",
    "# find the object pointing to the root of the snarl tree\n",
    "root = distance_index.get_root()\n",
    "# the function we want to run on each child of a snarl tree node\n",
    "def save_snarl_tree_node(stnode):\n",
    "    # FILL\n",
    "    #   here for example, save the input in the list and iterate on its potential children\n",
    "    # if the function returns True, the iteration will continue (which is what we want in this case)\n",
    "    return(True)\n",
    "# run that function, starting from the rood node of the tree\n",
    "stree.for_each_child(root, save_snarl_tree_node)\n",
    "# note: for_each_child can only be run on elements that have children (i.e. chains and snarls), not nodes or sentinels.\n",
    "\n",
    "## Understanding elements of the snarl tree\n",
    "# get one of the snarl tree nodes saved earlier\n",
    "stn = stnodes[3]\n",
    "# print it's \"string\" summary\n",
    "stree.net_handle_as_string(stn)\n",
    "# check which type it is\n",
    "stree.is_chain(stn)\n",
    "stree.is_snarl(stn)\n",
    "stree.is_sentinel(stn)\n",
    "stree.is_node(stn)\n",
    "\n",
    "## Manipulating a snarl\n",
    "# assuming we have a snarl, get the boundary nodes\n",
    "stn_start = stree.get_bound(stn, False, True)\n",
    "stn_end = stree.get_bound(stn, True, True)\n",
    "# get the actual node, not the sentinel (~fake boundary nodes?)\n",
    "stn_start = stree.get_node_from_sentinel(stn_start)\n",
    "stn_end = stree.get_node_from_sentinel(stn_end)\n",
    "stn_end = stree.flip(stn_end) # flip the end handle (I think, to be confirmed)\n",
    "# get a node id\n",
    "stree.node_id(stn_start)\n",
    "# get a handle/object of that node in the graph\n",
    "stn_start_pg = stree.get_handle(stn_start, pg)\n",
    "stn_end_pg = stree.get_handle(stn_end, pg)\n",
    "# get the ID of an element in the graph, here a node\n",
    "pg.get_id(stn_start_pg)\n",
    "# test if there is an edge between two nodes in the graph\n",
    "pg.has_edge(stn_start_pg, stn_end_pg)\n"
   ],
   "id": "f69719a46a41b1ee",
   "outputs": [],
   "execution_count": null
  },
  {
   "metadata": {},
   "cell_type": "code",
   "source": [
    "print(ngraph)\n",
    "print(distance_index.net_handle_as_string(ngraph['n'][0]))"
   ],
   "id": "6a0b1ee6d5c138a4",
   "outputs": [],
   "execution_count": null
  },
  {
   "metadata": {},
   "cell_type": "code",
   "source": "ngraph['n']",
   "id": "2541def03f6931e",
   "outputs": [],
   "execution_count": null
  },
  {
   "metadata": {},
   "cell_type": "code",
   "source": "distance_index.deserialize(\"/home/yboulkaid/Documents/sample_data/pgtest.data/pg.dist\")",
   "id": "2ca5a6a911f6fda8",
   "outputs": [],
   "execution_count": null
  },
  {
   "metadata": {},
   "cell_type": "code",
   "source": [
    "'''get parent \n",
    "get child \n",
    "get bound \n",
    "get root'''"
   ],
   "id": "dc377e78093607ff",
   "outputs": [],
   "execution_count": null
  },
  {
   "metadata": {},
   "cell_type": "code",
   "source": "",
   "id": "801b0b3e04d5210b",
   "outputs": [],
   "execution_count": null
  }
 ],
 "metadata": {
  "kernelspec": {
   "display_name": "Python 3",
   "language": "python",
   "name": "python3"
  },
  "language_info": {
   "codemirror_mode": {
    "name": "ipython",
    "version": 2
   },
   "file_extension": ".py",
   "mimetype": "text/x-python",
   "name": "python",
   "nbconvert_exporter": "python",
   "pygments_lexer": "ipython2",
   "version": "2.7.6"
  }
 },
 "nbformat": 4,
 "nbformat_minor": 5
}
