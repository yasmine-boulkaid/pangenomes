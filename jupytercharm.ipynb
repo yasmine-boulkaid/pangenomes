{
 "cells": [
  {
   "metadata": {
    "ExecuteTime": {
     "end_time": "2024-06-12T09:49:31.675218Z",
     "start_time": "2024-06-12T09:49:31.666837Z"
    }
   },
   "cell_type": "code",
   "source": [
    "import numpy as np\n",
    "import io\n",
    "import os\n",
    "import pandas as pd\n",
    "from scipy.stats import chisquare\n",
    "from scipy.stats import chi2_contingency\n",
    "from scipy.stats import hypergeom\n",
    "from scipy.stats import fisher_exact\n",
    "import bdsg\n",
    "import copy\n",
    "import re \n",
    "import matplotlib.pyplot as plt\n",
    "from collections import Counter"
   ],
   "id": "initial_id",
   "outputs": [],
   "execution_count": 2
  },
  {
   "metadata": {},
   "cell_type": "markdown",
   "source": "",
   "id": "c1cc98701ba26d85"
  },
  {
   "metadata": {},
   "cell_type": "markdown",
   "source": "# Tests",
   "id": "221a95ac74c3705f"
  },
  {
   "metadata": {
    "ExecuteTime": {
     "end_time": "2024-06-12T09:49:31.808187Z",
     "start_time": "2024-06-12T09:49:31.803913Z"
    }
   },
   "cell_type": "code",
   "source": [
    "### test chi deux ###\n",
    "f_exp = np.array([44, 24, 29, 3]) / 100 * 189\n",
    "f_obs = np.array([43, 52, 54, 40])\n",
    "print(\"chi deux : \", chisquare(f_obs=f_obs, f_exp=f_exp))"
   ],
   "id": "258991ce6c082b80",
   "outputs": [
    {
     "name": "stdout",
     "output_type": "stream",
     "text": [
      "chi deux :  Power_divergenceResult(statistic=228.23515947653874, pvalue=3.3295585338846486e-49)\n"
     ]
    }
   ],
   "execution_count": 3
  },
  {
   "metadata": {
    "ExecuteTime": {
     "end_time": "2024-06-12T09:49:31.819374Z",
     "start_time": "2024-06-12T09:49:31.814039Z"
    }
   },
   "cell_type": "code",
   "source": [
    "### test exact fisher ###\n",
    "table = np.array([[6, 2], [1, 4]])\n",
    "M = table.sum()\n",
    "n = table[0].sum()\n",
    "N = table[:, 0].sum()\n",
    "start, end = hypergeom.support(M, n, N)\n",
    "hypergeom.pmf(np.arange(start, end + 1), M, n, N)\n",
    "np.array([0.01631702, 0.16317016, 0.40792541, 0.32634033, 0.08158508,\n",
    "       0.004662])\n",
    "res = fisher_exact(table, alternative='two-sided')\n",
    "print(\"fisher : \", res.pvalue)"
   ],
   "id": "bb365a7db4184e1f",
   "outputs": [
    {
     "name": "stdout",
     "output_type": "stream",
     "text": [
      "fisher :  0.10256410256410256\n"
     ]
    }
   ],
   "execution_count": 4
  },
  {
   "metadata": {},
   "cell_type": "markdown",
   "source": "# VCF",
   "id": "9b16a4c079a427d1"
  },
  {
   "metadata": {
    "ExecuteTime": {
     "end_time": "2024-06-12T09:49:31.843627Z",
     "start_time": "2024-06-12T09:49:31.841050Z"
    }
   },
   "cell_type": "code",
   "source": [
    "# on va essayer de faire un giga tableau qui recense tous les chemins possibles -> OK (pour un éch mais normalement c'est les mêmes chemins possibles)\n",
    "# une fois qu'on aura fait ce giga tableau, on va essayer de le transformer en giga matrice qui compte pour 1 éch les chemins pris -> OK\n",
    "# une fois que ce sera fait on pourra transformer la giga matrice en giga table de contingence (?) qui recense la même chose mais pour tous les échantillons -> OK (dataframe)"
   ],
   "id": "b14fc2293a3cca30",
   "outputs": [],
   "execution_count": 5
  },
  {
   "metadata": {
    "ExecuteTime": {
     "end_time": "2024-06-12T09:49:31.912154Z",
     "start_time": "2024-06-12T09:49:31.909694Z"
    }
   },
   "cell_type": "code",
   "source": "# fonctions annexes pour créer le df qui contient les infos après avoir parse tous les vcf",
   "id": "9020d532723574b8",
   "outputs": [],
   "execution_count": 6
  },
  {
   "metadata": {
    "ExecuteTime": {
     "end_time": "2024-06-12T09:49:31.944233Z",
     "start_time": "2024-06-12T09:49:31.923548Z"
    }
   },
   "cell_type": "code",
   "source": [
    "# read ONE vcf file\n",
    "\n",
    "def read_vcf(path):\n",
    "    with open(path, 'r') as f:\n",
    "        lines = [l for l in f if not l.startswith('##')]\n",
    "    return pd.read_csv(\n",
    "        io.StringIO(''.join(lines)),\n",
    "        dtype={'#CHROM': str, 'POS': int, 'ID': str, 'REF': str, 'ALT': str,\n",
    "               'QUAL': str, 'FILTER': str, 'INFO': str},\n",
    "        sep='\\t'\n",
    "    ).rename(columns={'#CHROM': 'CHROM'})\n",
    "\n",
    "# verification de la fonction read_vcf \n",
    "\n",
    "vcf1_df = read_vcf(\"/home/yboulkaid/Documents/sample_data/pgtest.data/calls/samp_g0_0.vcf\")\n",
    "vcf1_df.head(n = 110)"
   ],
   "id": "6ab0490ec5faa08e",
   "outputs": [
    {
     "data": {
      "text/plain": [
       "   CHROM    POS        ID                                                REF  \\\n",
       "0    ref    450      >1>4                                                  T   \n",
       "1    ref    578      >4>9  TTTGCGGGCCGTCAAGATGAACTGGTGCCTGTAGGATTATGTCCTC...   \n",
       "2    ref   1118     >9>12                                                  A   \n",
       "3    ref   1340    >12>14  GATCGGACTTCTTAACGGGTTCCTCACGTAGCGATCTCTACGGGAA...   \n",
       "4    ref   1529    >14>19                                                  C   \n",
       "..   ...    ...       ...                                                ...   \n",
       "95   ref  27003  >489>492                                                  C   \n",
       "96   ref  27134  >492>497                                                  A   \n",
       "97   ref  27275  >497>502  TGCAATAGTTTGCTCGTGGTCAGTATTTTCGGTATAAAACAGAGTT...   \n",
       "98   ref  27745  >502>507  CGGACATGTAGCAGGACTCCTTATAGTTAATGTTCACTATTTAAAG...   \n",
       "99   ref  28436  >507>512                                                  G   \n",
       "\n",
       "                                                  ALT     QUAL FILTER  \\\n",
       "0                                                   G  133.927   PASS   \n",
       "1   TTTGCGGGCCGTCAAGATGAACTGGTGCCTGTAGGATTATGTCCTC...  14.6171   PASS   \n",
       "2                                                   G  177.783   PASS   \n",
       "3                                                   G  116.981   PASS   \n",
       "4   CCCGATCTATGTCGAGGCTTTCGGGCAGGGCCGCTATTAACATCGT...    175.5   PASS   \n",
       "..                                                ...      ...    ...   \n",
       "95                                                  T  411.605   PASS   \n",
       "96  ATACACTAGACGCCCGGGATGTACATATCGTGACTCGTTCCTAGTC...  145.789   PASS   \n",
       "97  T,TGCAATAGTTTGCTCGTGGTCAGTATTTTCGGTATAAAACAGAG...  371.786   PASS   \n",
       "98  CGGACATGTAGCAGGACTCCTTATAGTTAATGTTCACTATTTAAAG...  122.081   PASS   \n",
       "99  GATCTCGTCTGACATCACTTGAATTCTTATATTAGTTCTAAACTTC...  128.002   PASS   \n",
       "\n",
       "                                                 INFO  \\\n",
       "0                              AT=>1>2>4,>1>3>4;DP=46   \n",
       "1                      AT=>4>5>7>8>9,>4>5>6>8>9;DP=50   \n",
       "2                          AT=>9>11>12,>9>10>12;DP=61   \n",
       "3                           AT=>12>13>14,>12>14;DP=47   \n",
       "4     AT=>14>19,>14>15>17>18>19,>14>15>16>18>19;DP=60   \n",
       "..                                                ...   \n",
       "95                 AT=>489>490>492,>489>491>492;DP=43   \n",
       "96  AT=>492>497,>492>493>495>496>497,>492>493>494>...   \n",
       "97  AT=>497>498>500>501>502,>497>502,>497>498>499>...   \n",
       "98  AT=>502>503>504>506>507,>502>503>505>506>507,>...   \n",
       "99  AT=>507>512,>507>508>509>511>512,>507>508>510>...   \n",
       "\n",
       "                      FORMAT  \\\n",
       "0   GT:DP:AD:GL:GQ:GP:XD:MAD   \n",
       "1   GT:DP:AD:GL:GQ:GP:XD:MAD   \n",
       "2   GT:DP:AD:GL:GQ:GP:XD:MAD   \n",
       "3   GT:DP:AD:GL:GQ:GP:XD:MAD   \n",
       "4   GT:DP:AD:GL:GQ:GP:XD:MAD   \n",
       "..                       ...   \n",
       "95  GT:DP:AD:GL:GQ:GP:XD:MAD   \n",
       "96  GT:DP:AD:GL:GQ:GP:XD:MAD   \n",
       "97  GT:DP:AD:GL:GQ:GP:XD:MAD   \n",
       "98  GT:DP:AD:GL:GQ:GP:XD:MAD   \n",
       "99  GT:DP:AD:GL:GQ:GP:XD:MAD   \n",
       "\n",
       "                                               SAMPLE  \n",
       "0   0/0:46:46,0:-2.378747,-15.294357,-107.194421:1...  \n",
       "1   1/0:50:25,25:-3.306431,-2.422690,-3.306431:16:...  \n",
       "2   0/0:61:61,0:-2.701171,-20.002352,-141.869830:1...  \n",
       "3   0/0:47:46,1:-2.770745,-13.991746,-90.540504:11...  \n",
       "4   0/0:60:60,0,0:-2.835631,-19.908524,-19.908524,...  \n",
       "..                                                ...  \n",
       "95  1/0:43:20,23:-43.061833,-2.378411,-35.907321:2...  \n",
       "96  0/0:50:50,0,0:-2.439843,-16.541658,-16.541658,...  \n",
       "97  1/2:52:2,24,27:-39.603567,-3.504039,-35.913027...  \n",
       "98  0/0:42:42,0,0:-2.420888,-14.151905,-14.151905,...  \n",
       "99  0/0:44:44,0,0:-2.374808,-14.697901,-14.697901,...  \n",
       "\n",
       "[100 rows x 10 columns]"
      ],
      "text/html": [
       "<div>\n",
       "<style scoped>\n",
       "    .dataframe tbody tr th:only-of-type {\n",
       "        vertical-align: middle;\n",
       "    }\n",
       "\n",
       "    .dataframe tbody tr th {\n",
       "        vertical-align: top;\n",
       "    }\n",
       "\n",
       "    .dataframe thead th {\n",
       "        text-align: right;\n",
       "    }\n",
       "</style>\n",
       "<table border=\"1\" class=\"dataframe\">\n",
       "  <thead>\n",
       "    <tr style=\"text-align: right;\">\n",
       "      <th></th>\n",
       "      <th>CHROM</th>\n",
       "      <th>POS</th>\n",
       "      <th>ID</th>\n",
       "      <th>REF</th>\n",
       "      <th>ALT</th>\n",
       "      <th>QUAL</th>\n",
       "      <th>FILTER</th>\n",
       "      <th>INFO</th>\n",
       "      <th>FORMAT</th>\n",
       "      <th>SAMPLE</th>\n",
       "    </tr>\n",
       "  </thead>\n",
       "  <tbody>\n",
       "    <tr>\n",
       "      <th>0</th>\n",
       "      <td>ref</td>\n",
       "      <td>450</td>\n",
       "      <td>&gt;1&gt;4</td>\n",
       "      <td>T</td>\n",
       "      <td>G</td>\n",
       "      <td>133.927</td>\n",
       "      <td>PASS</td>\n",
       "      <td>AT=&gt;1&gt;2&gt;4,&gt;1&gt;3&gt;4;DP=46</td>\n",
       "      <td>GT:DP:AD:GL:GQ:GP:XD:MAD</td>\n",
       "      <td>0/0:46:46,0:-2.378747,-15.294357,-107.194421:1...</td>\n",
       "    </tr>\n",
       "    <tr>\n",
       "      <th>1</th>\n",
       "      <td>ref</td>\n",
       "      <td>578</td>\n",
       "      <td>&gt;4&gt;9</td>\n",
       "      <td>TTTGCGGGCCGTCAAGATGAACTGGTGCCTGTAGGATTATGTCCTC...</td>\n",
       "      <td>TTTGCGGGCCGTCAAGATGAACTGGTGCCTGTAGGATTATGTCCTC...</td>\n",
       "      <td>14.6171</td>\n",
       "      <td>PASS</td>\n",
       "      <td>AT=&gt;4&gt;5&gt;7&gt;8&gt;9,&gt;4&gt;5&gt;6&gt;8&gt;9;DP=50</td>\n",
       "      <td>GT:DP:AD:GL:GQ:GP:XD:MAD</td>\n",
       "      <td>1/0:50:25,25:-3.306431,-2.422690,-3.306431:16:...</td>\n",
       "    </tr>\n",
       "    <tr>\n",
       "      <th>2</th>\n",
       "      <td>ref</td>\n",
       "      <td>1118</td>\n",
       "      <td>&gt;9&gt;12</td>\n",
       "      <td>A</td>\n",
       "      <td>G</td>\n",
       "      <td>177.783</td>\n",
       "      <td>PASS</td>\n",
       "      <td>AT=&gt;9&gt;11&gt;12,&gt;9&gt;10&gt;12;DP=61</td>\n",
       "      <td>GT:DP:AD:GL:GQ:GP:XD:MAD</td>\n",
       "      <td>0/0:61:61,0:-2.701171,-20.002352,-141.869830:1...</td>\n",
       "    </tr>\n",
       "    <tr>\n",
       "      <th>3</th>\n",
       "      <td>ref</td>\n",
       "      <td>1340</td>\n",
       "      <td>&gt;12&gt;14</td>\n",
       "      <td>GATCGGACTTCTTAACGGGTTCCTCACGTAGCGATCTCTACGGGAA...</td>\n",
       "      <td>G</td>\n",
       "      <td>116.981</td>\n",
       "      <td>PASS</td>\n",
       "      <td>AT=&gt;12&gt;13&gt;14,&gt;12&gt;14;DP=47</td>\n",
       "      <td>GT:DP:AD:GL:GQ:GP:XD:MAD</td>\n",
       "      <td>0/0:47:46,1:-2.770745,-13.991746,-90.540504:11...</td>\n",
       "    </tr>\n",
       "    <tr>\n",
       "      <th>4</th>\n",
       "      <td>ref</td>\n",
       "      <td>1529</td>\n",
       "      <td>&gt;14&gt;19</td>\n",
       "      <td>C</td>\n",
       "      <td>CCCGATCTATGTCGAGGCTTTCGGGCAGGGCCGCTATTAACATCGT...</td>\n",
       "      <td>175.5</td>\n",
       "      <td>PASS</td>\n",
       "      <td>AT=&gt;14&gt;19,&gt;14&gt;15&gt;17&gt;18&gt;19,&gt;14&gt;15&gt;16&gt;18&gt;19;DP=60</td>\n",
       "      <td>GT:DP:AD:GL:GQ:GP:XD:MAD</td>\n",
       "      <td>0/0:60:60,0,0:-2.835631,-19.908524,-19.908524,...</td>\n",
       "    </tr>\n",
       "    <tr>\n",
       "      <th>...</th>\n",
       "      <td>...</td>\n",
       "      <td>...</td>\n",
       "      <td>...</td>\n",
       "      <td>...</td>\n",
       "      <td>...</td>\n",
       "      <td>...</td>\n",
       "      <td>...</td>\n",
       "      <td>...</td>\n",
       "      <td>...</td>\n",
       "      <td>...</td>\n",
       "    </tr>\n",
       "    <tr>\n",
       "      <th>95</th>\n",
       "      <td>ref</td>\n",
       "      <td>27003</td>\n",
       "      <td>&gt;489&gt;492</td>\n",
       "      <td>C</td>\n",
       "      <td>T</td>\n",
       "      <td>411.605</td>\n",
       "      <td>PASS</td>\n",
       "      <td>AT=&gt;489&gt;490&gt;492,&gt;489&gt;491&gt;492;DP=43</td>\n",
       "      <td>GT:DP:AD:GL:GQ:GP:XD:MAD</td>\n",
       "      <td>1/0:43:20,23:-43.061833,-2.378411,-35.907321:2...</td>\n",
       "    </tr>\n",
       "    <tr>\n",
       "      <th>96</th>\n",
       "      <td>ref</td>\n",
       "      <td>27134</td>\n",
       "      <td>&gt;492&gt;497</td>\n",
       "      <td>A</td>\n",
       "      <td>ATACACTAGACGCCCGGGATGTACATATCGTGACTCGTTCCTAGTC...</td>\n",
       "      <td>145.789</td>\n",
       "      <td>PASS</td>\n",
       "      <td>AT=&gt;492&gt;497,&gt;492&gt;493&gt;495&gt;496&gt;497,&gt;492&gt;493&gt;494&gt;...</td>\n",
       "      <td>GT:DP:AD:GL:GQ:GP:XD:MAD</td>\n",
       "      <td>0/0:50:50,0,0:-2.439843,-16.541658,-16.541658,...</td>\n",
       "    </tr>\n",
       "    <tr>\n",
       "      <th>97</th>\n",
       "      <td>ref</td>\n",
       "      <td>27275</td>\n",
       "      <td>&gt;497&gt;502</td>\n",
       "      <td>TGCAATAGTTTGCTCGTGGTCAGTATTTTCGGTATAAAACAGAGTT...</td>\n",
       "      <td>T,TGCAATAGTTTGCTCGTGGTCAGTATTTTCGGTATAAAACAGAG...</td>\n",
       "      <td>371.786</td>\n",
       "      <td>PASS</td>\n",
       "      <td>AT=&gt;497&gt;498&gt;500&gt;501&gt;502,&gt;497&gt;502,&gt;497&gt;498&gt;499&gt;...</td>\n",
       "      <td>GT:DP:AD:GL:GQ:GP:XD:MAD</td>\n",
       "      <td>1/2:52:2,24,27:-39.603567,-3.504039,-35.913027...</td>\n",
       "    </tr>\n",
       "    <tr>\n",
       "      <th>98</th>\n",
       "      <td>ref</td>\n",
       "      <td>27745</td>\n",
       "      <td>&gt;502&gt;507</td>\n",
       "      <td>CGGACATGTAGCAGGACTCCTTATAGTTAATGTTCACTATTTAAAG...</td>\n",
       "      <td>CGGACATGTAGCAGGACTCCTTATAGTTAATGTTCACTATTTAAAG...</td>\n",
       "      <td>122.081</td>\n",
       "      <td>PASS</td>\n",
       "      <td>AT=&gt;502&gt;503&gt;504&gt;506&gt;507,&gt;502&gt;503&gt;505&gt;506&gt;507,&gt;...</td>\n",
       "      <td>GT:DP:AD:GL:GQ:GP:XD:MAD</td>\n",
       "      <td>0/0:42:42,0,0:-2.420888,-14.151905,-14.151905,...</td>\n",
       "    </tr>\n",
       "    <tr>\n",
       "      <th>99</th>\n",
       "      <td>ref</td>\n",
       "      <td>28436</td>\n",
       "      <td>&gt;507&gt;512</td>\n",
       "      <td>G</td>\n",
       "      <td>GATCTCGTCTGACATCACTTGAATTCTTATATTAGTTCTAAACTTC...</td>\n",
       "      <td>128.002</td>\n",
       "      <td>PASS</td>\n",
       "      <td>AT=&gt;507&gt;512,&gt;507&gt;508&gt;509&gt;511&gt;512,&gt;507&gt;508&gt;510&gt;...</td>\n",
       "      <td>GT:DP:AD:GL:GQ:GP:XD:MAD</td>\n",
       "      <td>0/0:44:44,0,0:-2.374808,-14.697901,-14.697901,...</td>\n",
       "    </tr>\n",
       "  </tbody>\n",
       "</table>\n",
       "<p>100 rows × 10 columns</p>\n",
       "</div>"
      ]
     },
     "execution_count": 7,
     "metadata": {},
     "output_type": "execute_result"
    }
   ],
   "execution_count": 7
  },
  {
   "metadata": {
    "ExecuteTime": {
     "end_time": "2024-06-12T09:49:31.951723Z",
     "start_time": "2024-06-12T09:49:31.946057Z"
    }
   },
   "cell_type": "code",
   "source": [
    "def chemins(vcf_df):    \n",
    "    chemins_possibles = []\n",
    "    for i in range(len(vcf_df[\"INFO\"])):\n",
    "        text = vcf_df[\"INFO\"][i]\n",
    "        m = re.search('AT=>(.+?);DP', text)\n",
    "        if m:\n",
    "            found = m.group(1)\n",
    "        chemins_possibles.append(found)\n",
    "        \n",
    "    for i in range(len(chemins_possibles)):\n",
    "        chemins_possibles[i] = chemins_possibles[i].split(',')\n",
    "        \n",
    "    ########################################################################\n",
    "    chemins_pris = []\n",
    "    for i in vcf_df[\"SAMPLE\"]:\n",
    "        found = i[0:3]\n",
    "        chemins_pris.append(found)\n",
    "    \n",
    "    for i in range(len(chemins_pris)):\n",
    "        chemins_pris[i] = chemins_pris[i].split('/')\n",
    "        for j in range(len(chemins_pris[i])):\n",
    "            chemins_pris[i][j] = int(chemins_pris[i][j])\n",
    "            \n",
    "    ########################################################################\n",
    "    chemins_combines = copy.deepcopy(chemins_pris)\n",
    "    \n",
    "    for i in range(len(chemins_pris)):\n",
    "        chemins_combines[i][0] = chemins_possibles[i][chemins_pris[i][0]]\n",
    "        chemins_combines[i][1] = chemins_possibles[i][chemins_pris[i][1]]\n",
    "        \n",
    "    ''' cas simple pour comprendre\n",
    "    print(chemins_pris[0])\n",
    "    chemins_pris[0][0] = chemins_possibles[0][chemins_pris[0][0]]\n",
    "    chemins_pris[0][1] = chemins_possibles[0][chemins_pris[0][1]]\n",
    "    print(chemins_pris[0])'''\n",
    "    \n",
    "    chemins_possibles = sum(chemins_possibles, [])\n",
    "    chemins_pris = sum(chemins_pris, [])\n",
    "    chemins_combines = sum(chemins_combines, [])\n",
    "    \n",
    "    return chemins_possibles, chemins_pris, chemins_combines"
   ],
   "id": "c88481e4e7764d21",
   "outputs": [],
   "execution_count": 8
  },
  {
   "metadata": {
    "ExecuteTime": {
     "end_time": "2024-06-12T09:49:31.960013Z",
     "start_time": "2024-06-12T09:49:31.954974Z"
    }
   },
   "cell_type": "code",
   "source": [
    "# verification de la fonction chemins\n",
    "\n",
    "chemins_possibles1, chemins_pris1, chemins_combines1 = chemins(vcf1_df)\n",
    "print('========== possibles ==========')\n",
    "print(chemins_possibles1[0:5])\n",
    "print('============ pris =============')\n",
    "print(chemins_pris1[0:5])\n",
    "print('========== combinés ===========')\n",
    "print(chemins_combines1[0:5])"
   ],
   "id": "5a5538dae5e195ee",
   "outputs": [
    {
     "name": "stdout",
     "output_type": "stream",
     "text": [
      "========== possibles ==========\n",
      "['1>2>4', '>1>3>4', '4>5>7>8>9', '>4>5>6>8>9', '9>11>12']\n",
      "============ pris =============\n",
      "[0, 0, 1, 0, 0]\n",
      "========== combinés ===========\n",
      "['1>2>4', '1>2>4', '>4>5>6>8>9', '4>5>7>8>9', '9>11>12']\n"
     ]
    }
   ],
   "execution_count": 9
  },
  {
   "metadata": {
    "ExecuteTime": {
     "end_time": "2024-06-12T09:49:31.985709Z",
     "start_time": "2024-06-12T09:49:31.982071Z"
    }
   },
   "cell_type": "code",
   "source": [
    "def times_taken(chemins_possibles, chemins_pris, chemins_combines, df):    \n",
    "    combine_count = list((x,chemins_combines.count(x)) for x in set(chemins_combines))\n",
    "    for i in range(len(combine_count)):\n",
    "        for j in range(len(chemins_pris)):\n",
    "            if combine_count[i][0] == str(df['snarl'][j]):\n",
    "                df.loc[j, \"times taken\"] += combine_count[i][1]"
   ],
   "id": "7642b16d59419ea4",
   "outputs": [],
   "execution_count": 10
  },
  {
   "metadata": {
    "ExecuteTime": {
     "end_time": "2024-06-12T09:49:32.026353Z",
     "start_time": "2024-06-12T09:49:32.023773Z"
    }
   },
   "cell_type": "code",
   "source": [
    "#commentaires bizarres je sais pas où les placer\n",
    "\n",
    "# on refait la même chose mais pour tous les VCF \n",
    "# création d'un df avec autant de lignes que de fichiers VCF \n",
    "# et mtn qu'on a un tout beau data frame on peut faire tout pareil mais en parsant tous les VCF :D \n",
    "# on refait pareil mais en séparant les groupes g0 et g1"
   ],
   "id": "c8bbcd17f0adc08c",
   "outputs": [],
   "execution_count": 11
  },
  {
   "metadata": {
    "ExecuteTime": {
     "end_time": "2024-06-12T09:49:32.058126Z",
     "start_time": "2024-06-12T09:49:32.054855Z"
    }
   },
   "cell_type": "code",
   "source": [
    "# read all vcf files and store them in a list\n",
    "\n",
    "all_vcf = os.listdir(\"/home/yboulkaid/Documents/sample_data/pgtest.data/calls/\")\n",
    "g0_vcf =  []\n",
    "g1_vcf = []\n",
    "for i in all_vcf:\n",
    "    if 'g0' in i:\n",
    "        g0_vcf.append(i)\n",
    "    elif 'g1' in i:\n",
    "        g1_vcf.append(i)"
   ],
   "id": "53c6135da34640b2",
   "outputs": [],
   "execution_count": 12
  },
  {
   "metadata": {
    "ExecuteTime": {
     "end_time": "2024-06-12T09:49:32.183011Z",
     "start_time": "2024-06-12T09:49:32.175868Z"
    }
   },
   "cell_type": "code",
   "source": [
    "def create_df(which_vcf_list):\n",
    "    df = pd.DataFrame(columns=['snarl index', 'snarl', 'times taken'])\n",
    "    df['snarl'] = chemins_possibles1 \n",
    "    df['times taken'] = 0\n",
    "    \n",
    "    # fill 'snarl index' column\n",
    "    for i in range(len(df['snarl index'])):\n",
    "        if df['snarl'][i][0] == '>':\n",
    "            S = re.search('>(.+?)>', df['snarl'][i])\n",
    "            if S:\n",
    "                s = S.group(1)\n",
    "            E = re.search('.+>(.*)', df['snarl'][i])\n",
    "            if E:\n",
    "                e = E.group(1)\n",
    "            df.loc[i, \"snarl index\"] = s + '>' + e    \n",
    "        else:\n",
    "            S = re.search('(.+?)>', df['snarl'][i])\n",
    "            if S:\n",
    "                s = S.group(1)\n",
    "            E = re.search('.+>(.*)', df['snarl'][i])\n",
    "            if E:\n",
    "                e = E.group(1)\n",
    "            df.loc[i, \"snarl index\"] = s + '>' + e\n",
    "    \n",
    "            \n",
    "    # fill 'times taken' column\n",
    "    for i in which_vcf_list:\n",
    "        vcf_df = read_vcf(\"/home/yboulkaid/Documents/sample_data/pgtest.data/calls/\"+i)\n",
    "        chemins_possibles, chemins_pris, chemins_combines = chemins(vcf_df)\n",
    "        times_taken(chemins_possibles, chemins_pris, chemins_combines, df)\n",
    "    \n",
    "    df.set_index('snarl index', inplace=True, drop=True)\n",
    "    return df"
   ],
   "id": "34e7b3bcf4e73e27",
   "outputs": [],
   "execution_count": 13
  },
  {
   "metadata": {
    "ExecuteTime": {
     "end_time": "2024-06-12T09:49:39.912734Z",
     "start_time": "2024-06-12T09:49:32.196908Z"
    }
   },
   "cell_type": "code",
   "source": [
    "# complete df\n",
    "snarl_df = create_df(all_vcf)\n",
    "snarl_df.tail(n=5)"
   ],
   "id": "837d98c2ef6ebe41",
   "outputs": [
    {
     "data": {
      "text/plain": [
       "                            snarl  times taken\n",
       "snarl index                                   \n",
       "502>507      >502>503>505>506>507            0\n",
       "502>507                  >502>507            0\n",
       "507>512                   507>512            0\n",
       "507>512      >507>508>509>511>512            0\n",
       "507>512      >507>508>510>511>512            0"
      ],
      "text/html": [
       "<div>\n",
       "<style scoped>\n",
       "    .dataframe tbody tr th:only-of-type {\n",
       "        vertical-align: middle;\n",
       "    }\n",
       "\n",
       "    .dataframe tbody tr th {\n",
       "        vertical-align: top;\n",
       "    }\n",
       "\n",
       "    .dataframe thead th {\n",
       "        text-align: right;\n",
       "    }\n",
       "</style>\n",
       "<table border=\"1\" class=\"dataframe\">\n",
       "  <thead>\n",
       "    <tr style=\"text-align: right;\">\n",
       "      <th></th>\n",
       "      <th>snarl</th>\n",
       "      <th>times taken</th>\n",
       "    </tr>\n",
       "    <tr>\n",
       "      <th>snarl index</th>\n",
       "      <th></th>\n",
       "      <th></th>\n",
       "    </tr>\n",
       "  </thead>\n",
       "  <tbody>\n",
       "    <tr>\n",
       "      <th>502&gt;507</th>\n",
       "      <td>&gt;502&gt;503&gt;505&gt;506&gt;507</td>\n",
       "      <td>0</td>\n",
       "    </tr>\n",
       "    <tr>\n",
       "      <th>502&gt;507</th>\n",
       "      <td>&gt;502&gt;507</td>\n",
       "      <td>0</td>\n",
       "    </tr>\n",
       "    <tr>\n",
       "      <th>507&gt;512</th>\n",
       "      <td>507&gt;512</td>\n",
       "      <td>0</td>\n",
       "    </tr>\n",
       "    <tr>\n",
       "      <th>507&gt;512</th>\n",
       "      <td>&gt;507&gt;508&gt;509&gt;511&gt;512</td>\n",
       "      <td>0</td>\n",
       "    </tr>\n",
       "    <tr>\n",
       "      <th>507&gt;512</th>\n",
       "      <td>&gt;507&gt;508&gt;510&gt;511&gt;512</td>\n",
       "      <td>0</td>\n",
       "    </tr>\n",
       "  </tbody>\n",
       "</table>\n",
       "</div>"
      ]
     },
     "execution_count": 14,
     "metadata": {},
     "output_type": "execute_result"
    }
   ],
   "execution_count": 14
  },
  {
   "metadata": {
    "ExecuteTime": {
     "end_time": "2024-06-12T09:49:43.932049Z",
     "start_time": "2024-06-12T09:49:39.915217Z"
    }
   },
   "cell_type": "code",
   "source": [
    "# group0 df\n",
    "g0_df = create_df(g0_vcf)\n",
    "g0_df.head(n=20)"
   ],
   "id": "c1c5daf296b60d4a",
   "outputs": [
    {
     "data": {
      "text/plain": [
       "                       snarl  times taken\n",
       "snarl index                              \n",
       "1>4                    1>2>4           27\n",
       "1>4                   >1>3>4           33\n",
       "4>9                4>5>7>8>9           23\n",
       "4>9               >4>5>6>8>9           32\n",
       "9>12                 9>11>12           54\n",
       "9>12                >9>10>12            6\n",
       "12>14               12>13>14           43\n",
       "12>14                 >12>14           17\n",
       "14>19                  14>19           36\n",
       "14>19        >14>15>17>18>19            5\n",
       "14>19        >14>15>16>18>19           19\n",
       "19>22               19>21>22           30\n",
       "19>22              >19>20>22           30\n",
       "22>25               22>24>25           34\n",
       "22>25              >22>23>25           26\n",
       "25>28               25>27>28           35\n",
       "25>28              >25>26>28           25\n",
       "28>31               28>30>31           12\n",
       "28>31              >28>29>31           48\n",
       "31>34               31>32>34           31"
      ],
      "text/html": [
       "<div>\n",
       "<style scoped>\n",
       "    .dataframe tbody tr th:only-of-type {\n",
       "        vertical-align: middle;\n",
       "    }\n",
       "\n",
       "    .dataframe tbody tr th {\n",
       "        vertical-align: top;\n",
       "    }\n",
       "\n",
       "    .dataframe thead th {\n",
       "        text-align: right;\n",
       "    }\n",
       "</style>\n",
       "<table border=\"1\" class=\"dataframe\">\n",
       "  <thead>\n",
       "    <tr style=\"text-align: right;\">\n",
       "      <th></th>\n",
       "      <th>snarl</th>\n",
       "      <th>times taken</th>\n",
       "    </tr>\n",
       "    <tr>\n",
       "      <th>snarl index</th>\n",
       "      <th></th>\n",
       "      <th></th>\n",
       "    </tr>\n",
       "  </thead>\n",
       "  <tbody>\n",
       "    <tr>\n",
       "      <th>1&gt;4</th>\n",
       "      <td>1&gt;2&gt;4</td>\n",
       "      <td>27</td>\n",
       "    </tr>\n",
       "    <tr>\n",
       "      <th>1&gt;4</th>\n",
       "      <td>&gt;1&gt;3&gt;4</td>\n",
       "      <td>33</td>\n",
       "    </tr>\n",
       "    <tr>\n",
       "      <th>4&gt;9</th>\n",
       "      <td>4&gt;5&gt;7&gt;8&gt;9</td>\n",
       "      <td>23</td>\n",
       "    </tr>\n",
       "    <tr>\n",
       "      <th>4&gt;9</th>\n",
       "      <td>&gt;4&gt;5&gt;6&gt;8&gt;9</td>\n",
       "      <td>32</td>\n",
       "    </tr>\n",
       "    <tr>\n",
       "      <th>9&gt;12</th>\n",
       "      <td>9&gt;11&gt;12</td>\n",
       "      <td>54</td>\n",
       "    </tr>\n",
       "    <tr>\n",
       "      <th>9&gt;12</th>\n",
       "      <td>&gt;9&gt;10&gt;12</td>\n",
       "      <td>6</td>\n",
       "    </tr>\n",
       "    <tr>\n",
       "      <th>12&gt;14</th>\n",
       "      <td>12&gt;13&gt;14</td>\n",
       "      <td>43</td>\n",
       "    </tr>\n",
       "    <tr>\n",
       "      <th>12&gt;14</th>\n",
       "      <td>&gt;12&gt;14</td>\n",
       "      <td>17</td>\n",
       "    </tr>\n",
       "    <tr>\n",
       "      <th>14&gt;19</th>\n",
       "      <td>14&gt;19</td>\n",
       "      <td>36</td>\n",
       "    </tr>\n",
       "    <tr>\n",
       "      <th>14&gt;19</th>\n",
       "      <td>&gt;14&gt;15&gt;17&gt;18&gt;19</td>\n",
       "      <td>5</td>\n",
       "    </tr>\n",
       "    <tr>\n",
       "      <th>14&gt;19</th>\n",
       "      <td>&gt;14&gt;15&gt;16&gt;18&gt;19</td>\n",
       "      <td>19</td>\n",
       "    </tr>\n",
       "    <tr>\n",
       "      <th>19&gt;22</th>\n",
       "      <td>19&gt;21&gt;22</td>\n",
       "      <td>30</td>\n",
       "    </tr>\n",
       "    <tr>\n",
       "      <th>19&gt;22</th>\n",
       "      <td>&gt;19&gt;20&gt;22</td>\n",
       "      <td>30</td>\n",
       "    </tr>\n",
       "    <tr>\n",
       "      <th>22&gt;25</th>\n",
       "      <td>22&gt;24&gt;25</td>\n",
       "      <td>34</td>\n",
       "    </tr>\n",
       "    <tr>\n",
       "      <th>22&gt;25</th>\n",
       "      <td>&gt;22&gt;23&gt;25</td>\n",
       "      <td>26</td>\n",
       "    </tr>\n",
       "    <tr>\n",
       "      <th>25&gt;28</th>\n",
       "      <td>25&gt;27&gt;28</td>\n",
       "      <td>35</td>\n",
       "    </tr>\n",
       "    <tr>\n",
       "      <th>25&gt;28</th>\n",
       "      <td>&gt;25&gt;26&gt;28</td>\n",
       "      <td>25</td>\n",
       "    </tr>\n",
       "    <tr>\n",
       "      <th>28&gt;31</th>\n",
       "      <td>28&gt;30&gt;31</td>\n",
       "      <td>12</td>\n",
       "    </tr>\n",
       "    <tr>\n",
       "      <th>28&gt;31</th>\n",
       "      <td>&gt;28&gt;29&gt;31</td>\n",
       "      <td>48</td>\n",
       "    </tr>\n",
       "    <tr>\n",
       "      <th>31&gt;34</th>\n",
       "      <td>31&gt;32&gt;34</td>\n",
       "      <td>31</td>\n",
       "    </tr>\n",
       "  </tbody>\n",
       "</table>\n",
       "</div>"
      ]
     },
     "execution_count": 15,
     "metadata": {},
     "output_type": "execute_result"
    }
   ],
   "execution_count": 15
  },
  {
   "metadata": {
    "ExecuteTime": {
     "end_time": "2024-06-12T09:49:47.850206Z",
     "start_time": "2024-06-12T09:49:43.933421Z"
    }
   },
   "cell_type": "code",
   "source": [
    "# group1 df\n",
    "g1_df = create_df(g1_vcf)\n",
    "g1_df.tail(n=5)"
   ],
   "id": "84a8161edbd60308",
   "outputs": [
    {
     "data": {
      "text/plain": [
       "                            snarl  times taken\n",
       "snarl index                                   \n",
       "502>507      >502>503>505>506>507            0\n",
       "502>507                  >502>507            0\n",
       "507>512                   507>512            0\n",
       "507>512      >507>508>509>511>512            0\n",
       "507>512      >507>508>510>511>512            0"
      ],
      "text/html": [
       "<div>\n",
       "<style scoped>\n",
       "    .dataframe tbody tr th:only-of-type {\n",
       "        vertical-align: middle;\n",
       "    }\n",
       "\n",
       "    .dataframe tbody tr th {\n",
       "        vertical-align: top;\n",
       "    }\n",
       "\n",
       "    .dataframe thead th {\n",
       "        text-align: right;\n",
       "    }\n",
       "</style>\n",
       "<table border=\"1\" class=\"dataframe\">\n",
       "  <thead>\n",
       "    <tr style=\"text-align: right;\">\n",
       "      <th></th>\n",
       "      <th>snarl</th>\n",
       "      <th>times taken</th>\n",
       "    </tr>\n",
       "    <tr>\n",
       "      <th>snarl index</th>\n",
       "      <th></th>\n",
       "      <th></th>\n",
       "    </tr>\n",
       "  </thead>\n",
       "  <tbody>\n",
       "    <tr>\n",
       "      <th>502&gt;507</th>\n",
       "      <td>&gt;502&gt;503&gt;505&gt;506&gt;507</td>\n",
       "      <td>0</td>\n",
       "    </tr>\n",
       "    <tr>\n",
       "      <th>502&gt;507</th>\n",
       "      <td>&gt;502&gt;507</td>\n",
       "      <td>0</td>\n",
       "    </tr>\n",
       "    <tr>\n",
       "      <th>507&gt;512</th>\n",
       "      <td>507&gt;512</td>\n",
       "      <td>0</td>\n",
       "    </tr>\n",
       "    <tr>\n",
       "      <th>507&gt;512</th>\n",
       "      <td>&gt;507&gt;508&gt;509&gt;511&gt;512</td>\n",
       "      <td>0</td>\n",
       "    </tr>\n",
       "    <tr>\n",
       "      <th>507&gt;512</th>\n",
       "      <td>&gt;507&gt;508&gt;510&gt;511&gt;512</td>\n",
       "      <td>0</td>\n",
       "    </tr>\n",
       "  </tbody>\n",
       "</table>\n",
       "</div>"
      ]
     },
     "execution_count": 16,
     "metadata": {},
     "output_type": "execute_result"
    }
   ],
   "execution_count": 16
  },
  {
   "metadata": {
    "ExecuteTime": {
     "end_time": "2024-06-12T09:49:47.860760Z",
     "start_time": "2024-06-12T09:49:47.856417Z"
    }
   },
   "cell_type": "code",
   "source": [
    "# mtn on utilise g0_df et g1_df pour créer des tables de contingences (en précisant pour quel snarl on veut créer la table)\n",
    "\n",
    "def table_contingence(which_snarl):\n",
    "    n = snarl_df.index.value_counts()[which_snarl]\n",
    "    '''if n == 2:\n",
    "        thing1 = g0_df.loc[which_snarl]['snarl'][0]\n",
    "        thing2 = g0_df.loc[which_snarl]['snarl'][1]\n",
    "        \n",
    "        df2 = pd.DataFrame(columns=['g0', 'g1'], index=[thing1, thing2])\n",
    "        \n",
    "        df2.at[thing1, 'g0'] = g0_df.loc[which_snarl]['times taken'][0]\n",
    "        df2.at[thing2, 'g0'] = g0_df.loc[which_snarl]['times taken'][1]\n",
    "        df2.at[thing1, 'g1'] = g1_df.loc[which_snarl]['times taken'][0]\n",
    "        df2.at[thing2, 'g1'] = g1_df.loc[which_snarl]['times taken'][1]\n",
    "    else:'''\n",
    "    thing = []\n",
    "    for i in range(n):\n",
    "        thing.append(g0_df.loc[which_snarl]['snarl'].iloc[i])\n",
    "        #thing.append(g0_df.loc[which_snarl]['snarl'][i])\n",
    "        # corpus_df.loc['it'][1]\n",
    "    df2 = pd.DataFrame(columns=['g0', 'g1'], index=thing)\n",
    "    for i in range(len(thing)):\n",
    "        df2.at[thing[i], 'g1'] = g1_df.loc[which_snarl]['times taken'].iloc[i]\n",
    "        df2.at[thing[i], 'g0'] = g0_df.loc[which_snarl]['times taken'].iloc[i]\n",
    "    return df2\n"
   ],
   "id": "62a36584f68b56a2",
   "outputs": [],
   "execution_count": 18
  },
  {
   "metadata": {
    "ExecuteTime": {
     "end_time": "2024-06-12T09:49:47.864316Z",
     "start_time": "2024-06-12T09:49:47.861753Z"
    }
   },
   "cell_type": "code",
   "source": [
    "# je l'utilise pas\n",
    "def zero_in_table(table):\n",
    "    return 0 in table.values"
   ],
   "id": "3c7f40e7c4518795",
   "outputs": [],
   "execution_count": 19
  },
  {
   "metadata": {
    "ExecuteTime": {
     "end_time": "2024-06-12T09:49:47.867935Z",
     "start_time": "2024-06-12T09:49:47.865689Z"
    }
   },
   "cell_type": "code",
   "source": [
    "def chi2(table):\n",
    "    return chi2_contingency(table).pvalue"
   ],
   "id": "97d2d9a6be849b82",
   "outputs": [],
   "execution_count": 20
  },
  {
   "metadata": {
    "ExecuteTime": {
     "end_time": "2024-06-12T11:35:46.794016Z",
     "start_time": "2024-06-12T11:35:46.456302Z"
    }
   },
   "cell_type": "code",
   "source": [
    "pval = []\n",
    "snarl_pb = []\n",
    "for i in snarl_df.index.unique():\n",
    "    if not 0 in table_contingence(i).values:\n",
    "        #print(i)\n",
    "        #table = table_contingence(i)\n",
    "        pval.append(chi2(table_contingence(i)))\n",
    "        #print(i, 'ok')\n",
    "    else:\n",
    "        pval.append(0)\n",
    "        snarl_pb.append(i)\n",
    "print(snarl_pb)"
   ],
   "id": "178821abd3bc518",
   "outputs": [
    {
     "name": "stdout",
     "output_type": "stream",
     "text": [
      "['111>116', '136>147', '152>154', '159>170', '204>239', '315>329', '351>380', '380>403', '466>471', '471>473', '473>475', '475>478', '478>481', '481>486', '486>489', '489>492', '492>497', '497>502', '502>507', '507>512']\n"
     ]
    }
   ],
   "execution_count": 45
  },
  {
   "metadata": {
    "ExecuteTime": {
     "end_time": "2024-06-12T09:50:07.249823Z",
     "start_time": "2024-06-12T09:50:07.122417Z"
    }
   },
   "cell_type": "code",
   "source": "plt.hist(pval)",
   "id": "22b317313195de23",
   "outputs": [
    {
     "data": {
      "text/plain": [
       "(array([ 9., 10.,  4.,  4.,  7.,  7.,  4.,  7.,  6., 22.]),\n",
       " array([8.12903173e-07, 1.00000732e-01, 2.00000650e-01, 3.00000569e-01,\n",
       "        4.00000488e-01, 5.00000406e-01, 6.00000325e-01, 7.00000244e-01,\n",
       "        8.00000163e-01, 9.00000081e-01, 1.00000000e+00]),\n",
       " <BarContainer object of 10 artists>)"
      ]
     },
     "execution_count": 23,
     "metadata": {},
     "output_type": "execute_result"
    },
    {
     "data": {
      "text/plain": [
       "<Figure size 640x480 with 1 Axes>"
      ],
      "image/png": "[encoded data removed]"
     },
     "metadata": {},
     "output_type": "display_data"
    }
   ],
   "execution_count": 23
  },
  {
   "metadata": {
    "ExecuteTime": {
     "end_time": "2024-06-12T12:19:35.411708Z",
     "start_time": "2024-06-12T12:19:35.152193Z"
    }
   },
   "cell_type": "code",
   "source": [
    "from pandas import DataFrame\n",
    "from scipy.stats import uniform\n",
    "from scipy.stats import randint\n",
    "import numpy as np\n",
    "import matplotlib.pyplot as plt\n",
    "\n",
    "# sample data\n",
    "df = DataFrame({'gene' : ['gene-%i' % i for i in np.arange(10000)],\n",
    "'pvalue' : uniform.rvs(size=10000),\n",
    "'chromosome' : ['ch-%i' % i for i in randint.rvs(0,12,size=10000)]})\n",
    "\n",
    "# -log_10(pvalue)\n",
    "df['minuslog10pvalue'] = -np.log10(df.pvalue)\n",
    "df.chromosome = df.chromosome.astype('category')\n",
    "df.chromosome = df.chromosome.cat.set_categories(['ch-%i' % i for i in range(12)], ordered=True)\n",
    "df = df.sort_values('chromosome')\n",
    "\n",
    "# How to plot gene vs. -log10(pvalue) and colour it by chromosome?\n",
    "df['ind'] = range(len(df))\n",
    "df_grouped = df.groupby(('chromosome'), observed = False)\n",
    "\n",
    "# manhattan plot\n",
    "fig = plt.figure(figsize=(14, 8)) # Set the figure size\n",
    "ax = fig.add_subplot(111)\n",
    "colors = ['red','lightgreen','lightblue', 'gold']\n",
    "x_labels = []\n",
    "x_labels_pos = []\n",
    "for num, (name, group) in enumerate(df_grouped):\n",
    "    group.plot(kind='scatter', x='ind', y='minuslog10pvalue',color=colors[num % len(colors)], ax=ax)\n",
    "    x_labels.append(name)\n",
    "    x_labels_pos.append((group['ind'].iloc[-1] - (group['ind'].iloc[-1] - group['ind'].iloc[0])/2))\n",
    "ax.set_xticks(x_labels_pos)\n",
    "ax.set_xticklabels(x_labels)\n",
    "\n",
    "# set axis limits\n",
    "ax.set_xlim([0, len(df)])\n",
    "ax.set_ylim([0, 3.5])\n",
    "\n",
    "# x axis label\n",
    "ax.set_xlabel('Chromosome')\n",
    "\n",
    "# show the graph\n",
    "plt.show()"
   ],
   "id": "dc02d03c2164056c",
   "outputs": [
    {
     "data": {
      "text/plain": [
       "<Figure size 1400x800 with 1 Axes>"
      ],
      "image/png": "[encoded data removed]"
     },
     "metadata": {},
     "output_type": "display_data"
    }
   ],
   "execution_count": 83
  },
  {
   "metadata": {
    "ExecuteTime": {
     "end_time": "2024-06-12T13:15:43.306694Z",
     "start_time": "2024-06-12T13:15:41.912417Z"
    }
   },
   "cell_type": "code",
   "source": [
    "from pandas import DataFrame\n",
    "from scipy.stats import uniform\n",
    "from scipy.stats import randint\n",
    "import numpy as np\n",
    "import matplotlib.pyplot as plt\n",
    "\n",
    "# sample data\n",
    "df = DataFrame({'pvalue' : pval,\n",
    "'snarl' : snarl_df.index.unique()})\n",
    "\n",
    "# -log_10(pvalue)\n",
    "df['minuslog10pvalue'] = -np.log10(df.pvalue)\n",
    "df.snarl = df.snarl.astype('category')\n",
    "df = df.sort_values('snarl')\n",
    "\n",
    "# How to plot gene vs. -log10(pvalue) and colour it by chromosome?\n",
    "df['ind'] = range(len(df))\n",
    "df_grouped = df.groupby(('snarl'), observed = False)\n",
    "\n",
    "df['c'] = np.where(df['minuslog10pvalue']>1.5, 'lightgreen', 'red')\n",
    "'''conditions = [\n",
    "    (df['minuslog10pvalue'] == np.inf),\n",
    "    (df['minuslog10pvalue'] > 1.5),\n",
    "    (df['minuslog10pvalue'] < 1.5)]\n",
    "choices = ['red', 'green', 'purple']\n",
    "df['color'] = np.select(conditions, choices, default='red')'''\n",
    "\n",
    "# manhattan plot\n",
    "fig = plt.figure(figsize=(14, 8)) # Set the figure size\n",
    "ax = fig.add_subplot(111)\n",
    "# colors = ['red','lightgreen','lightblue', 'gold']\n",
    "x_labels = []\n",
    "x_labels_pos = []\n",
    "for num, (name, group) in enumerate(df_grouped):\n",
    "    group.plot(kind='scatter', x='ind', y='minuslog10pvalue', color='c', ax=ax)\n",
    "    x_labels.append(name)\n",
    "    x_labels_pos.append((group['ind'].iloc[-1] - (group['ind'].iloc[-1] - group['ind'].iloc[0])/2))\n",
    "ax.set_xticks(x_labels_pos)\n",
    "ax.set_xticklabels(x_labels)\n",
    "\n",
    "# set axis limits\n",
    "ax.set_xlim([0, len(df)])\n",
    "ax.set_ylim([0, 7])\n",
    "\n",
    "# x axis label\n",
    "ax.set_xlabel('snarl')\n",
    "\n",
    "# show the graph\n",
    "plt.show()"
   ],
   "id": "2c275487a096e96b",
   "outputs": [
    {
     "name": "stderr",
     "output_type": "stream",
     "text": [
      "/home/yboulkaid/PycharmProjects/premiers_tests/.venv/lib/python3.10/site-packages/pandas/core/arraylike.py:399: RuntimeWarning: divide by zero encountered in log10\n",
      "  result = getattr(ufunc, method)(*inputs, **kwargs)\n"
     ]
    },
    {
     "data": {
      "text/plain": [
       "<Figure size 1400x800 with 1 Axes>"
      ],
      "image/png": "[encoded data removed]"
     },
     "metadata": {},
     "output_type": "display_data"
    }
   ],
   "execution_count": 98
  },
  {
   "metadata": {
    "ExecuteTime": {
     "end_time": "2024-06-12T13:09:18.530649Z",
     "start_time": "2024-06-12T13:09:18.514832Z"
    }
   },
   "cell_type": "code",
   "source": "df",
   "id": "e11d9dfe6eea04ce",
   "outputs": [
    {
     "data": {
      "text/plain": [
       "      pvalue    snarl  minuslog10pvalue  ind           c\n",
       "24  0.676602  100>103          0.169667    0         red\n",
       "25  0.086197  103>111          1.064508    1         red\n",
       "26  0.000000  111>116               inf    2  lightgreen\n",
       "27  1.000000  116>119         -0.000000    3         red\n",
       "28  0.131428  119>122          0.881312    4         red\n",
       "..       ...      ...               ...  ...         ...\n",
       "20  1.000000    84>89         -0.000000   95         red\n",
       "21  0.002376    89>92          2.624205   96  lightgreen\n",
       "22  0.360241    92>95          0.443407   97         red\n",
       "23  0.165728   95>100          0.780604   98         red\n",
       "2   0.741182     9>12          0.130075   99         red\n",
       "\n",
       "[100 rows x 5 columns]"
      ],
      "text/html": [
       "<div>\n",
       "<style scoped>\n",
       "    .dataframe tbody tr th:only-of-type {\n",
       "        vertical-align: middle;\n",
       "    }\n",
       "\n",
       "    .dataframe tbody tr th {\n",
       "        vertical-align: top;\n",
       "    }\n",
       "\n",
       "    .dataframe thead th {\n",
       "        text-align: right;\n",
       "    }\n",
       "</style>\n",
       "<table border=\"1\" class=\"dataframe\">\n",
       "  <thead>\n",
       "    <tr style=\"text-align: right;\">\n",
       "      <th></th>\n",
       "      <th>pvalue</th>\n",
       "      <th>snarl</th>\n",
       "      <th>minuslog10pvalue</th>\n",
       "      <th>ind</th>\n",
       "      <th>c</th>\n",
       "    </tr>\n",
       "  </thead>\n",
       "  <tbody>\n",
       "    <tr>\n",
       "      <th>24</th>\n",
       "      <td>0.676602</td>\n",
       "      <td>100&gt;103</td>\n",
       "      <td>0.169667</td>\n",
       "      <td>0</td>\n",
       "      <td>red</td>\n",
       "    </tr>\n",
       "    <tr>\n",
       "      <th>25</th>\n",
       "      <td>0.086197</td>\n",
       "      <td>103&gt;111</td>\n",
       "      <td>1.064508</td>\n",
       "      <td>1</td>\n",
       "      <td>red</td>\n",
       "    </tr>\n",
       "    <tr>\n",
       "      <th>26</th>\n",
       "      <td>0.000000</td>\n",
       "      <td>111&gt;116</td>\n",
       "      <td>inf</td>\n",
       "      <td>2</td>\n",
       "      <td>lightgreen</td>\n",
       "    </tr>\n",
       "    <tr>\n",
       "      <th>27</th>\n",
       "      <td>1.000000</td>\n",
       "      <td>116&gt;119</td>\n",
       "      <td>-0.000000</td>\n",
       "      <td>3</td>\n",
       "      <td>red</td>\n",
       "    </tr>\n",
       "    <tr>\n",
       "      <th>28</th>\n",
       "      <td>0.131428</td>\n",
       "      <td>119&gt;122</td>\n",
       "      <td>0.881312</td>\n",
       "      <td>4</td>\n",
       "      <td>red</td>\n",
       "    </tr>\n",
       "    <tr>\n",
       "      <th>...</th>\n",
       "      <td>...</td>\n",
       "      <td>...</td>\n",
       "      <td>...</td>\n",
       "      <td>...</td>\n",
       "      <td>...</td>\n",
       "    </tr>\n",
       "    <tr>\n",
       "      <th>20</th>\n",
       "      <td>1.000000</td>\n",
       "      <td>84&gt;89</td>\n",
       "      <td>-0.000000</td>\n",
       "      <td>95</td>\n",
       "      <td>red</td>\n",
       "    </tr>\n",
       "    <tr>\n",
       "      <th>21</th>\n",
       "      <td>0.002376</td>\n",
       "      <td>89&gt;92</td>\n",
       "      <td>2.624205</td>\n",
       "      <td>96</td>\n",
       "      <td>lightgreen</td>\n",
       "    </tr>\n",
       "    <tr>\n",
       "      <th>22</th>\n",
       "      <td>0.360241</td>\n",
       "      <td>92&gt;95</td>\n",
       "      <td>0.443407</td>\n",
       "      <td>97</td>\n",
       "      <td>red</td>\n",
       "    </tr>\n",
       "    <tr>\n",
       "      <th>23</th>\n",
       "      <td>0.165728</td>\n",
       "      <td>95&gt;100</td>\n",
       "      <td>0.780604</td>\n",
       "      <td>98</td>\n",
       "      <td>red</td>\n",
       "    </tr>\n",
       "    <tr>\n",
       "      <th>2</th>\n",
       "      <td>0.741182</td>\n",
       "      <td>9&gt;12</td>\n",
       "      <td>0.130075</td>\n",
       "      <td>99</td>\n",
       "      <td>red</td>\n",
       "    </tr>\n",
       "  </tbody>\n",
       "</table>\n",
       "<p>100 rows × 5 columns</p>\n",
       "</div>"
      ]
     },
     "execution_count": 88,
     "metadata": {},
     "output_type": "execute_result"
    }
   ],
   "execution_count": 88
  },
  {
   "metadata": {
    "ExecuteTime": {
     "end_time": "2024-06-12T13:34:59.739152Z",
     "start_time": "2024-06-12T13:34:59.716474Z"
    }
   },
   "cell_type": "code",
   "source": [
    "big_pval = []\n",
    "big_snarl = []\n",
    "for i in range(len(df)):\n",
    "    if df['minuslog10pvalue'].iloc[i] > 2 and df['minuslog10pvalue'].iloc[i] != np.inf:\n",
    "        big_pval.append(df['minuslog10pvalue'].iloc[i])\n",
    "        big_snarl.append(df['snarl'].iloc[i])\n",
    "\n",
    "print(big_pval)\n",
    "print(big_snarl)\n",
    "\n",
    "for i in range(len(big_snarl)):\n",
    "    print('##########', big_pval[i])\n",
    "    print(table_contingence(big_snarl[i]))\n",
    "    "
   ],
   "id": "85b4368062ad9b24",
   "outputs": [
    {
     "name": "stdout",
     "output_type": "stream",
     "text": [
      "[2.15176597063122, 3.1620872897202483, 4.743716244978902, 3.1902936329226557, 6.089961181235811, 2.624205309601664]\n",
      "['170>173', '242>245', '254>256', '446>449', '79>84', '89>92']\n",
      "########## 2.15176597063122\n",
      "              g0  g1\n",
      "170>171>173   56  44\n",
      ">170>172>173   4  16\n",
      "########## 3.1620872897202483\n",
      "              g0  g1\n",
      "242>243>245   47  28\n",
      ">242>244>245  13  32\n",
      "########## 4.743716244978902\n",
      "             g0  g1\n",
      "254>255>256  52  29\n",
      ">254>256      8  31\n",
      "########## 3.1902936329226557\n",
      "              g0  g1\n",
      "446>448>449   54  37\n",
      ">446>447>449   6  23\n",
      "########## 6.089961181235811\n",
      "                g0  g1\n",
      "79>80>81>83>84  15  43\n",
      ">79>84          45  17\n",
      "########## 2.624205309601664\n",
      "           g0  g1\n",
      "89>91>92   35  51\n",
      ">89>90>92  25   9\n"
     ]
    }
   ],
   "execution_count": 101
  },
  {
   "metadata": {},
   "cell_type": "markdown",
   "source": [
    " # 'Play' with bdsg\n",
    "##### am i playing with bdsg or is bdsg playing with me"
   ],
   "id": "e08d16e9ffb3ead7"
  },
  {
   "metadata": {},
   "cell_type": "code",
   "source": [
    "from bdsg.bdsg import HashGraph\n",
    "\n",
    "gr = HashGraph()\n",
    "seq = [\"CGA\", \"TTGG\", \"CCGT\", \"C\", \"GT\", \"GATAA\", \"CGG\", \"ACA\", \"GCCG\", \"ATATAAC\"]\n",
    "n = []\n",
    "for s in seq:\n",
    "    n.append(gr.create_handle(s))\n",
    "\n",
    "gr.create_edge(n[0], n[1])\n",
    "gr.create_edge(n[1], n[2])\n",
    "gr.create_edge(n[2], n[3])\n",
    "gr.create_edge(n[2], n[4])\n",
    "gr.create_edge(n[3], n[5])\n",
    "gr.create_edge(n[5], n[6])\n",
    "# Connect the end of n5 to the start of n8\n",
    "gr.create_edge(n[5], n[8])\n",
    "gr.create_edge(n[6], n[7])\n",
    "gr.create_edge(n[6], n[8])\n",
    "gr.create_edge(n[7], n[9])\n",
    "gr.create_edge(n[8], n[9])\n",
    "# Connect the end of n8 back around to the start of n5\n",
    "gr.create_edge(n[8], n[5])\n",
    "\n",
    "def next_node_list(handle):\n",
    "    lis = []\n",
    "    gr.follow_edges(handle, False, lambda y: lis.append(y))\n",
    "    return lis\n",
    "\n",
    "print(f'n0: {gr.get_sequence(n[0])}')\n",
    "next_node = next_node_list(n[0])[0]\n",
    "print(f'n1: {gr.get_sequence(next_node)}')\n",
    "next_node = next_node_list(next_node)[0]\n",
    "print(f'n2: {gr.get_sequence(next_node)}')\n",
    "\n",
    "path = gr.create_path_handle(\"path\")\n",
    "gr.append_step(path, n[0])\n",
    "gr.append_step(path, n[1])\n",
    "gr.append_step(path, n[2])\n",
    "gr.append_step(path, n[4])\n",
    "gr.append_step(path, n[5])\n",
    "gr.append_step(path, n[6])\n",
    "gr.append_step(path, n[7])\n",
    "gr.append_step(path, n[9])"
   ],
   "id": "9d75cc4da39100ec",
   "outputs": [],
   "execution_count": null
  },
  {
   "metadata": {},
   "cell_type": "code",
   "source": [
    "from bdsg.bdsg import PackedGraph\n",
    "brca2 = PackedGraph()\n",
    "brca2.deserialize(\"/home/yboulkaid/Documents/sample_data/pgtest.data/pg.pg\")\n",
    "#brca2.deserialize(\"/home/yboulkaid/Téléchargements/cactus-brca2.pg\")\n",
    "\n",
    "path_handle = []\n",
    "handles = []\n",
    "brca2.for_each_path_handle(lambda y: path_handle.append(y) or True)\n",
    "brca2.for_each_step_in_path(path_handle[0],\n",
    "    lambda y: handles.append(brca2.get_handle_of_step(y)) or True)\n",
    "sequence = \"\"\n",
    "for handle in handles:\n",
    "    sequence += brca2.get_sequence(handle)\n",
    "print(sequence[0:10])\n",
    "print(len(sequence))\n"
   ],
   "id": "d06c1ab3e53d0c7b",
   "outputs": [],
   "execution_count": null
  },
  {
   "metadata": {},
   "cell_type": "code",
   "source": [
    "type(gr)\n",
    "\n",
    "# CACGTCCGAGAATCGG\n",
    "# CACGTCCGAG"
   ],
   "id": "ab7e8f3279144fdc",
   "outputs": [],
   "execution_count": null
  },
  {
   "metadata": {},
   "cell_type": "code",
   "source": [
    "from bdsg.handlegraph import  HandleGraph\n",
    "###########################################\n",
    "### HOW TO ACCESS THE SNARL TREE (XIAN) ###\n",
    "###########################################\n",
    "\n",
    "#Load the distance index\n",
    "distance_index = bdsg.bdsg.SnarlDistanceIndex()\n",
    "distance_index.deserialize(\"/home/yboulkaid/Documents/sample_data/pgtest.data/pg.dist\")\n",
    "\n",
    "# net graph to build\n",
    "ngraph = {'e': [], 'n': []}\n",
    "\n",
    "# init with the child (only one ideally) of the root\n",
    "root = distance_index.get_root() #Get a net handle referring to a tip-to-tip traversal of the contents of the root snarl.\n",
    "\n",
    "def add_node_to_ngraph(net):\n",
    "    ngraph['n'].append(net)\n",
    "distance_index.for_each_child(root, add_node_to_ngraph)\n",
    "\n",
    "distance_index.net_handle_as_string(ngraph['n'][0])\n",
    "\n",
    "node3 = distance_index.get_node_net_handle(3)\n",
    "parent3 = distance_index.get_parent(node3)\n",
    "snarl_start_bound = distance_index.get_bound(parent3, False, True)\n",
    "\n",
    "# for functions taking an iteratee\n",
    "# print the net_handle_t and return true to continue iterating\n",
    "def iterate (net) :\n",
    "    print(distance_index.net_handle_as_string(net))\n",
    "    return True\n",
    "\n",
    "graph = HandleGraph()\n",
    "#graph.deserialize(\"/home/yboulkaid/Documents/sample_data/pgtest.data/pg.pg\")\n",
    "\n",
    "print(\"Follow edges from\", distance_index.net_handle_as_string(snarl_start_bound), \":\" )\n",
    "distance_index.follow_net_edges(snarl_start_bound, graph, False, iterate)\n",
    "\n",
    "\n",
    "# graph: bdsg.handlegraph.HandleGraph"
   ],
   "id": "f69719a46a41b1ee",
   "outputs": [],
   "execution_count": null
  },
  {
   "metadata": {},
   "cell_type": "code",
   "source": [
    "print(ngraph)\n",
    "print(distance_index.net_handle_as_string(ngraph['n'][0]))"
   ],
   "id": "6a0b1ee6d5c138a4",
   "outputs": [],
   "execution_count": null
  },
  {
   "metadata": {},
   "cell_type": "code",
   "source": "ngraph['n']",
   "id": "2541def03f6931e",
   "outputs": [],
   "execution_count": null
  },
  {
   "metadata": {},
   "cell_type": "code",
   "source": "distance_index.deserialize(\"/home/yboulkaid/Documents/sample_data/pgtest.data/pg.dist\")",
   "id": "2ca5a6a911f6fda8",
   "outputs": [],
   "execution_count": null
  },
  {
   "metadata": {},
   "cell_type": "code",
   "source": [
    "'''get parent \n",
    "get child \n",
    "get bound \n",
    "get root'''"
   ],
   "id": "dc377e78093607ff",
   "outputs": [],
   "execution_count": null
  },
  {
   "metadata": {},
   "cell_type": "code",
   "source": "",
   "id": "801b0b3e04d5210b",
   "outputs": [],
   "execution_count": null
  }
 ],
 "metadata": {
  "kernelspec": {
   "display_name": "Python 3",
   "language": "python",
   "name": "python3"
  },
  "language_info": {
   "codemirror_mode": {
    "name": "ipython",
    "version": 2
   },
   "file_extension": ".py",
   "mimetype": "text/x-python",
   "name": "python",
   "nbconvert_exporter": "python",
   "pygments_lexer": "ipython2",
   "version": "2.7.6"
  }
 },
 "nbformat": 4,
 "nbformat_minor": 5
}
