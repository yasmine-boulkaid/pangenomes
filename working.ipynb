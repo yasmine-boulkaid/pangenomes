{
 "cells": [
  {
   "cell_type": "code",
   "execution_count": 1,
   "id": "initial_id",
   "metadata": {
    "ExecuteTime": {
     "end_time": "2024-07-01T08:00:37.081815Z",
     "start_time": "2024-07-01T08:00:36.032823Z"
    }
   },
   "outputs": [],
   "source": [
    "import numpy as np\n",
    "import io\n",
    "import os\n",
    "import pandas as pd\n",
    "from scipy.stats import chi2_contingency\n",
    "from scipy.stats import fisher_exact\n",
    "import copy\n",
    "import re\n",
    "import matplotlib.pyplot as plt\n",
    "from tabulate import tabulate\n",
    "from itertools import groupby"
   ]
  },
  {
   "cell_type": "code",
   "execution_count": 2,
   "id": "82957056d4273244",
   "metadata": {
    "ExecuteTime": {
     "end_time": "2024-07-01T08:00:37.087303Z",
     "start_time": "2024-07-01T08:00:37.083163Z"
    }
   },
   "outputs": [],
   "source": [
    "# importing all vcf files paths and storing them in three different lists depending on the group of the individuals\n",
    "\n",
    "my_path = \"/home/yboulkaid/Documents/sample_data/pgtest.data/calls/\"\n",
    "# my_path = \"/Users/boulkaid/Documents/4A/pangenomes/pgtest.data/calls/\"\n",
    "all_vcf = os.listdir(my_path)\n",
    "g0_vcf = []\n",
    "g1_vcf = []\n",
    "for i in all_vcf:\n",
    "    if 'g0' in i:\n",
    "        g0_vcf.append(i)\n",
    "    elif 'g1' in i:\n",
    "        g1_vcf.append(i)"
   ]
  },
  {
   "cell_type": "code",
   "execution_count": 3,
   "id": "bbbd924bb9d98e93",
   "metadata": {
    "ExecuteTime": {
     "end_time": "2024-07-01T08:00:37.092542Z",
     "start_time": "2024-07-01T08:00:37.088465Z"
    }
   },
   "outputs": [],
   "source": [
    "# function to create a data frame from a vcf file\n",
    "\n",
    "def make_vcf_df(path):\n",
    "    with open(path, 'r') as f:\n",
    "        lines = [l for l in f if not l.startswith('##')]\n",
    "    return pd.read_csv(io.StringIO(''.join(lines)),\n",
    "                       dtype={'#CHROM': str, 'POS': int, 'ID': str, 'REF': str, 'ALT': str, 'QUAL': str, 'FILTER': str, 'INFO': str},\n",
    "                       sep='\\t').rename(columns={'#CHROM': 'CHROM'})"
   ]
  },
  {
   "cell_type": "code",
   "execution_count": 4,
   "id": "d42bd0634938d051",
   "metadata": {
    "ExecuteTime": {
     "end_time": "2024-07-01T08:00:37.437261Z",
     "start_time": "2024-07-01T08:00:37.093619Z"
    }
   },
   "outputs": [],
   "source": [
    "# creating three data frames for all vcfs, g0 and g1 vcfs\n",
    "\n",
    "all_vcf_df = []\n",
    "for i in all_vcf:\n",
    "    all_vcf_df.append(make_vcf_df(my_path + i))\n",
    "\n",
    "g0_vcf_df = []\n",
    "for i in g0_vcf:\n",
    "    g0_vcf_df.append(make_vcf_df(my_path + i))\n",
    "\n",
    "g1_vcf_df = []\n",
    "for i in g1_vcf:\n",
    "    g1_vcf_df.append(make_vcf_df(my_path + i))"
   ]
  },
  {
   "cell_type": "code",
   "execution_count": 5,
   "id": "fcf018d7bbf1c1c5",
   "metadata": {
    "ExecuteTime": {
     "end_time": "2024-07-01T08:00:37.444509Z",
     "start_time": "2024-07-01T08:00:37.439068Z"
    }
   },
   "outputs": [],
   "source": [
    "# annex function used later to create the \"snarl data frames\"\n",
    "\n",
    "def chemins(which_vcf_df):\n",
    "    chemins_possibles = []\n",
    "    for i in range(len(which_vcf_df[\"INFO\"])):\n",
    "        text = which_vcf_df[\"INFO\"][i]\n",
    "        m = re.search('AT=>(.+?);DP', text)\n",
    "        if m:\n",
    "            found = m.group(1)\n",
    "        chemins_possibles.append(found)\n",
    "\n",
    "    for i in range(len(chemins_possibles)):\n",
    "        chemins_possibles[i] = chemins_possibles[i].split(',')\n",
    "\n",
    "    ########################################################################\n",
    "    chemins_pris = []\n",
    "    for i in which_vcf_df[\"SAMPLE\"]:\n",
    "        found = i[0:3]\n",
    "        chemins_pris.append(found)\n",
    "\n",
    "    for i in range(len(chemins_pris)):\n",
    "        chemins_pris[i] = chemins_pris[i].split('/')\n",
    "        for j in range(len(chemins_pris[i])):\n",
    "            chemins_pris[i][j] = int(chemins_pris[i][j])\n",
    "\n",
    "    ########################################################################\n",
    "    chemins_combines = copy.deepcopy(chemins_pris)\n",
    "\n",
    "    for i in range(len(chemins_pris)):\n",
    "        chemins_combines[i][0] = chemins_possibles[i][chemins_pris[i][0]]\n",
    "        chemins_combines[i][1] = chemins_possibles[i][chemins_pris[i][1]]\n",
    "\n",
    "    chemins_possibles = sum(chemins_possibles, [])\n",
    "    for i in range(len(chemins_possibles)):\n",
    "        if chemins_possibles[i][0] == '>':\n",
    "            chemins_possibles[i] = chemins_possibles[i][1:]\n",
    "    chemins_pris = sum(chemins_pris, [])\n",
    "    chemins_combines = sum(chemins_combines, [])\n",
    "    for i in range(len(chemins_combines)):\n",
    "        if chemins_combines[i][0] == '>':\n",
    "            chemins_combines[i] = chemins_combines[i][1:]\n",
    "\n",
    "    return chemins_possibles, chemins_pris, chemins_combines"
   ]
  },
  {
   "cell_type": "code",
   "execution_count": 6,
   "id": "f35ad3aa31c3ef33",
   "metadata": {
    "ExecuteTime": {
     "end_time": "2024-07-01T08:00:37.452754Z",
     "start_time": "2024-07-01T08:00:37.445572Z"
    }
   },
   "outputs": [],
   "source": [
    "# function to create a \"snarl data frame\" from a list of vcf data frames\n",
    "\n",
    "def make_snarl_df(which_vcf_list):\n",
    "    df = pd.DataFrame(columns=['snarl index', 'snarl', 'times taken', 'index provisoire'])\n",
    "\n",
    "    chemins_possibles = [chemins(i)[0] for i in all_vcf_df]\n",
    "    chemins_possibles = sum(chemins_possibles, [])\n",
    "    chemins_possibles = list(set(chemins_possibles))\n",
    "    for i in range(len(chemins_possibles)):\n",
    "        df.loc[i, 'times taken'] = 0\n",
    "\n",
    "    df['snarl'] = chemins_possibles\n",
    "\n",
    "    combine_counts = []\n",
    "    for i in range(len(which_vcf_list)):\n",
    "        chemins_combines = chemins(which_vcf_list[i])[2]\n",
    "        combine_counts.extend((x, chemins_combines.count(x)) for x in set(chemins_combines))\n",
    "\n",
    "    snarl_dict = {str(snarl): index for index, snarl in enumerate(df['snarl'])}\n",
    "\n",
    "    for snarl, count in combine_counts:\n",
    "        if snarl in snarl_dict:\n",
    "            df.loc[snarl_dict[snarl], \"times taken\"] += count\n",
    "\n",
    "    # fill 'snarl index' column\n",
    "    for i in range(len(df['snarl index'])):\n",
    "        if df['snarl'][i][0] == '>':\n",
    "            S = re.search('>(.+?)>', df['snarl'][i])\n",
    "            if S:\n",
    "                s = S.group(1)\n",
    "            E = re.search('.+>(.*)', df['snarl'][i])\n",
    "            if E:\n",
    "                e = E.group(1)\n",
    "            df.loc[i, \"snarl index\"] = s + '>' + e\n",
    "            df.loc[i, \"index provisoire\"] = int(s)\n",
    "        else:\n",
    "            S = re.search('(.+?)>', df['snarl'][i])\n",
    "            if S:\n",
    "                s = S.group(1)\n",
    "            E = re.search('.+>(.*)', df['snarl'][i])\n",
    "            if E:\n",
    "                e = E.group(1)\n",
    "            df.loc[i, \"snarl index\"] = s + '>' + e\n",
    "            df.loc[i, \"index provisoire\"] = int(s)\n",
    "\n",
    "    df.set_index('index provisoire', inplace=True, drop=True)\n",
    "    df.sort_index(inplace=True)\n",
    "    df.reset_index()\n",
    "    df.set_index('snarl index', inplace=True, drop=True)\n",
    "    return df"
   ]
  },
  {
   "cell_type": "code",
   "execution_count": null,
   "id": "2ece8236e907df35",
   "metadata": {
    "ExecuteTime": {
     "end_time": "2024-07-01T08:00:40.981184Z",
     "start_time": "2024-07-01T08:00:37.454056Z"
    }
   },
   "outputs": [],
   "source": [
    "# creating three data frames for all vcfs, g0 and g1 vcfs\n",
    "\n",
    "all_df = make_snarl_df(all_vcf_df)\n",
    "g0_df = make_snarl_df(g0_vcf_df)\n",
    "g1_df = make_snarl_df(g1_vcf_df)"
   ]
  },
  {
   "cell_type": "code",
   "execution_count": null,
   "id": "4b1b94c3d211ca0a",
   "metadata": {
    "ExecuteTime": {
     "end_time": "2024-07-01T08:00:40.987778Z",
     "start_time": "2024-07-01T08:00:40.982326Z"
    }
   },
   "outputs": [],
   "source": [
    "# functions used to perform the tests and compute the p-values\n",
    "\n",
    "def make_table_contingence(which_snarl_df, which_g0_df, which_g1_df, which_snarl):\n",
    "    n = which_snarl_df.index.value_counts()[which_snarl]\n",
    "    chem = []\n",
    "    for i in range(n):\n",
    "        chem.append(which_g0_df.loc[which_snarl]['snarl'].iloc[i])\n",
    "    df2 = pd.DataFrame(columns=['g0', 'g1'], index=chem)\n",
    "    for i in range(len(chem)):\n",
    "        df2.at[chem[i], 'g1'] = which_g1_df.loc[which_snarl]['times taken'].iloc[i]\n",
    "        df2.at[chem[i], 'g0'] = which_g0_df.loc[which_snarl]['times taken'].iloc[i]\n",
    "    return df2\n",
    "\n",
    "make_table_contingence(all_df, g0_df, g1_df, '4>9')\n",
    "\n",
    "def chi2(table):\n",
    "    return chi2_contingency(table).pvalue\n",
    "\n",
    "def fish(table):\n",
    "    return fisher_exact(table, alternative='two-sided').pvalue "
   ]
  },
  {
   "cell_type": "code",
   "execution_count": null,
   "id": "17dda0d7-d5de-4ca2-96f7-ca6ddeeefdce",
   "metadata": {},
   "outputs": [],
   "source": [
    "# from a complete contingency table (ie. that takes all possible paths into account) obtain a simplified table that only two paths into account (the direct one and all other ones)\n",
    "# ex: snarl 1>6, possible paths 1>6, 1>2>3>5>6, 1>2>4>5>6 become 1>6 and 1>2>*>5>6\n",
    "\n",
    "def make_square_table(which_snarl_df, which_g0_df, which_g1_df, which_snarl):\n",
    "    table = make_table_contingence(which_snarl_df, which_g0_df, which_g1_df, which_snarl)\n",
    "   #print(table)\n",
    "    #if which_snarl in table.index:\n",
    "    if len(table) > 2:\n",
    "        others_g0 = others_g1 = direct_g0 = direct_g1 = 0\n",
    "        for i in range(len(table)):\n",
    "            if table.index[i] != which_snarl:\n",
    "                others_g0 += table['g0'].iloc[i]\n",
    "                others_g1 += table['g1'].iloc[i]\n",
    "            else:\n",
    "                direct_g0 = table['g0'].iloc[i]\n",
    "                direct_g1 = table['g1'].iloc[i]\n",
    "        \n",
    "        # renaming the paths \n",
    "        longest_path = max(table.index, key=len)\n",
    "        S = re.search('(.+?>.+?)>', longest_path)\n",
    "        if S:\n",
    "            s = S.group(1)\n",
    "        E = re.search('.+>(.+?>.*)', longest_path)\n",
    "        if E:\n",
    "            e = E.group(1)\n",
    "        other = s + '> * >' + e\n",
    "        \n",
    "        new_table = pd.DataFrame({'g0': [direct_g0, others_g0], 'g1': [direct_g1, others_g1]}, index=[which_snarl, other])\n",
    "        return new_table\n",
    "    else:\n",
    "        return table"
   ]
  },
  {
   "cell_type": "code",
   "execution_count": null,
   "id": "8efc0748a1b541bf",
   "metadata": {
    "ExecuteTime": {
     "end_time": "2024-07-01T08:00:41.304291Z",
     "start_time": "2024-07-01T08:00:40.989545Z"
    }
   },
   "outputs": [],
   "source": [
    "# computing the p-values for all snarls\n",
    "\n",
    "pval_list_comp_chi2 = [] # celle avec tous les chemins possibles et test chi2\n",
    "pval_list_part_chi2 = [] # celle avce les chemins simplifiés et test chi2\n",
    "pval_list_part_fish = [] # celle avec les chemins simplifiés et test fisher\n",
    "\n",
    "for i in all_df.index.unique():\n",
    "    table = make_table_contingence(all_df, g0_df, g1_df, i)\n",
    "    l = len(table)\n",
    "    table_to_modify = table.copy(deep=True)\n",
    "    ctr = 0\n",
    "    mask = (table['g0'] == 0) & (table['g1'] == 0)\n",
    "    table_to_modify = table_to_modify[~mask]\n",
    "    pval_list_comp_chi2.append([chi2(table_to_modify), i])\n",
    "\n",
    "for i in all_df.index.unique():\n",
    "    table = make_square_table(all_df, g0_df, g1_df, i)\n",
    "    l = len(table)\n",
    "    table_to_modify = table.copy(deep=True)\n",
    "    ctr = 0\n",
    "    mask = (table['g0'] == 0) & (table['g1'] == 0)\n",
    "    table_to_modify = table_to_modify[~mask]\n",
    "    pval_list_part_chi2.append([chi2(table_to_modify), i])\n",
    "\n",
    "pval_list_part_fish = [[fish(make_square_table(all_df, g0_df, g1_df, i)), i] for i in all_df.index.unique()]\n",
    "\n",
    "# checking that all pval_lists are the same size\n",
    "print(len(pval_list_comp_chi2) == len(pval_list_part_chi2) == len(pval_list_part_fish))"
   ]
  },
  {
   "cell_type": "code",
   "execution_count": null,
   "id": "944f9f851c8e2726",
   "metadata": {
    "ExecuteTime": {
     "end_time": "2024-07-01T08:44:24.163607Z",
     "start_time": "2024-07-01T08:44:24.158601Z"
    }
   },
   "outputs": [],
   "source": [
    "# function to create a p-value data frame from a list of p-values\n",
    "\n",
    "seuil = 2\n",
    "\n",
    "def make_pval_df(which_pval_list):\n",
    "    pval_df = pd.DataFrame(columns=['snarl index', 'p-valeur', 'moinslog10pvaleur', 'color'])\n",
    "    for i in range(len(which_pval_list)):\n",
    "        pval_df.loc[i, 'snarl index'] = which_pval_list[i][1]\n",
    "        pval_df.loc[i, \"p-valeur\"] = which_pval_list[i][0]\n",
    "        if which_pval_list[i][0] != -1:\n",
    "            pval_df.loc[i, \"moinslog10pvaleur\"] = -np.log10(which_pval_list[i][0])\n",
    "        else:\n",
    "            print('not ok')\n",
    "    pval_df.set_index('snarl index', inplace=True, drop=True)\n",
    "    conditions = [\n",
    "        (pval_df['moinslog10pvaleur'] == 0.0001),\n",
    "        (pval_df['moinslog10pvaleur'] > seuil),\n",
    "        (pval_df['moinslog10pvaleur'] < seuil)]\n",
    "    choices = ['red', 'green', 'blue']\n",
    "    pval_df['color'] = np.select(conditions, choices, default='red')\n",
    "    return pval_df"
   ]
  },
  {
   "cell_type": "code",
   "execution_count": null,
   "id": "d754f20e71a47677",
   "metadata": {
    "ExecuteTime": {
     "end_time": "2024-07-01T08:44:27.352115Z",
     "start_time": "2024-07-01T08:44:27.213877Z"
    }
   },
   "outputs": [],
   "source": [
    "# creating the p-value data frames and getting the smallest p-values in the data frame\n",
    "\n",
    "pval_df_comp_chi2 = make_pval_df(pval_list_comp_chi2)\n",
    "pval_df_part_chi2 = make_pval_df(pval_list_part_chi2)\n",
    "pval_df_part_fish = make_pval_df(pval_list_part_fish)\n",
    "\n",
    "smallest_pv_comp_chi2 = [(-np.log10(pval_list_comp_chi2[i][0]), pval_list_comp_chi2[i][1]) for i in range(len(pval_list_comp_chi2)) if -np.log10(pval_list_comp_chi2[i][0]) > seuil]\n",
    "smallest_pv_part_chi2 = [(-np.log10(pval_list_part_chi2[i][0]), pval_list_part_chi2[i][1]) for i in range(len(pval_list_part_chi2)) if -np.log10(pval_list_part_chi2[i][0]) > seuil]\n",
    "smallest_pv_part_fish = [(-np.log10(pval_list_part_fish[i][0]), pval_list_part_fish[i][1]) for i in range(len(pval_list_part_fish)) if -np.log10(pval_list_part_fish[i][0]) > seuil]\n",
    "\n",
    "print('len (chi2, full paths) : ', len(smallest_pv_comp_chi2))\n",
    "print(smallest_pv_comp_chi2)\n",
    "print('\\n')\n",
    "print('len (chi2, partial paths) : ', len(smallest_pv_part_chi2))\n",
    "print(smallest_pv_part_chi2)\n",
    "print('\\n')\n",
    "print('len (fisher, partial paths) : ', len(smallest_pv_part_fish))\n",
    "print(smallest_pv_part_fish)"
   ]
  },
  {
   "cell_type": "code",
   "execution_count": null,
   "id": "ad2a495d-36d4-4803-be02-ee4229466191",
   "metadata": {},
   "outputs": [],
   "source": [
    "# histograms and manhattan plots\n",
    "\n",
    "fig = plt.figure(constrained_layout=True)\n",
    "fig.set_figheight(12)\n",
    "fig.set_figwidth(25)\n",
    "#fig.suptitle('Figure title')\n",
    "\n",
    "subfig_titles = ['histograms', 'manhattan plots']\n",
    "plot_titles = ['complete paths, chi2 test', 'partial paths, chi2 test', 'partial paths, fisher test']\n",
    "\n",
    "subfigs = fig.subfigures(nrows=2, ncols=1)\n",
    "for row, subfig in enumerate(subfigs):\n",
    "    subfig.suptitle(subfig_titles[row], fontsize=25)\n",
    "\n",
    "    # Create 1x3 subplots per subfig\n",
    "    axs = subfig.subplots(nrows=1, ncols=3)\n",
    "    if row == 0:\n",
    "        # Add histograms to the first subfig\n",
    "        axs[0].hist(pval_df_comp_chi2['p-valeur'])\n",
    "        axs[1].hist(pval_df_part_chi2['p-valeur'])\n",
    "        axs[2].hist(pval_df_part_fish['p-valeur'])\n",
    "        # Set titles for the first row\n",
    "        for col, ax in enumerate(axs):\n",
    "            ax.set_title(plot_titles[col], fontsize=15)\n",
    "    elif row == 1:\n",
    "        # Add scatter plots to the second subfig\n",
    "        axs[0].scatter(range(len(pval_df_comp_chi2)), pval_df_comp_chi2['moinslog10pvaleur'], c=pval_df_comp_chi2['color'])\n",
    "        axs[1].scatter(range(len(pval_df_part_chi2)), pval_df_part_chi2['moinslog10pvaleur'], c=pval_df_part_chi2['color'])\n",
    "        axs[2].scatter(range(len(pval_df_part_fish)), pval_df_part_fish['moinslog10pvaleur'], c=pval_df_part_fish['color'])\n",
    "        for col, ax in enumerate(axs):\n",
    "            ax.set_title(plot_titles[col], fontsize=15)"
   ]
  },
  {
   "cell_type": "code",
   "execution_count": null,
   "id": "fc10ef316a5f67d2",
   "metadata": {
    "ExecuteTime": {
     "end_time": "2024-07-01T08:00:42.076803Z",
     "start_time": "2024-07-01T08:00:41.555373Z"
    }
   },
   "outputs": [],
   "source": [
    "# function to verify that the sum of the columns in the contingency tables is always 60 (because we have 60 vcf files)\n",
    "\n",
    "def contingence_somme_col(snarl_list):\n",
    "    snarl_index_somme_pas_ok = []\n",
    "    for i in snarl_list:\n",
    "        if make_table_contingence(all_df, g0_df, g1_df, i).sum(axis=0).iloc[0] != 60 or make_table_contingence(all_df, g0_df, g1_df, i).sum(axis=0).iloc[1] != 60:\n",
    "            snarl_index_somme_pas_ok.append(i)\n",
    "        if make_square_table(all_df, g0_df, g1_df, i).sum(axis=0).iloc[0] != 60 or make_square_table(all_df, g0_df, g1_df, i).sum(axis=0).iloc[1] != 60:\n",
    "            snarl_index_somme_pas_ok.append(i)\n",
    "\n",
    "    if len(snarl_index_somme_pas_ok) == 0:\n",
    "        print('bien ouej !')\n",
    "    else:\n",
    "        print('better luck next time...')\n",
    "\n",
    "\n",
    "contingence_somme_col(all_df.index.unique())"
   ]
  },
  {
   "cell_type": "code",
   "execution_count": null,
   "id": "ddda20e78b0f8ff3",
   "metadata": {
    "ExecuteTime": {
     "end_time": "2024-07-01T08:52:58.313968Z",
     "start_time": "2024-07-01T08:52:58.298490Z"
    }
   },
   "outputs": [],
   "source": [
    "# size of all snarls and number of snarls for each size \n",
    "# ex: there are 66 snarls where only two paths are possible and 1 snarl with 61 possible paths\n",
    "\n",
    "length_of_paths = []\n",
    "for i in list(all_df.index):\n",
    "    length_of_paths.append(list(all_df.index).count(i))\n",
    "\n",
    "# occ = [[x,ind.count(x)] for x in set(ind)]\n",
    "\n",
    "taille_chem = list(set(length_of_paths))\n",
    "freq_taille = [len(list(group)) for key, group in groupby(sorted(length_of_paths))]\n",
    "freq_taille = [int(freq_taille[i]/taille_chem[i]) for i in range(len(freq_taille))]\n",
    "\n",
    "print(taille_chem, freq_taille)"
   ]
  },
  {
   "cell_type": "code",
   "execution_count": null,
   "id": "ea46b485-c85d-4c52-b9b5-82736300262a",
   "metadata": {},
   "outputs": [],
   "source": [
    "# generate a tsv file with the results of the tests\n",
    "\n",
    "pval_df_comp_chi2 = pval_df_comp_chi2.drop(columns='color')\n",
    "pval_df_part_chi2 = pval_df_part_chi2.drop(columns='color')\n",
    "pval_df_comp_chi2.to_csv('pval_res_full_paths', sep='\\t', index=True, header=True)\n",
    "pval_df_part_chi2.to_csv('pval_res_partial_paths', sep='\\t', index=True, header=True)"
   ]
  }
 ],
 "metadata": {
  "kernelspec": {
   "display_name": "Python 3 (ipykernel)",
   "language": "python",
   "name": "python3"
  },
  "language_info": {
   "codemirror_mode": {
    "name": "ipython",
    "version": 3
   },
   "file_extension": ".py",
   "mimetype": "text/x-python",
   "name": "python",
   "nbconvert_exporter": "python",
   "pygments_lexer": "ipython3",
   "version": "3.12.4"
  }
 },
 "nbformat": 4,
 "nbformat_minor": 5
}
