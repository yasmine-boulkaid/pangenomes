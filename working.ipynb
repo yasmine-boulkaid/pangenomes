{
 "cells": [
  {
   "cell_type": "code",
   "id": "initial_id",
   "metadata": {
    "collapsed": true,
    "ExecuteTime": {
     "end_time": "2024-07-01T08:00:37.081815Z",
     "start_time": "2024-07-01T08:00:36.032823Z"
    }
   },
   "source": [
    "import numpy as np\n",
    "import io\n",
    "import os\n",
    "import pandas as pd\n",
    "from scipy.stats import chi2_contingency\n",
    "# import bdsg\n",
    "import copy\n",
    "import re\n",
    "import matplotlib.pyplot as plt\n",
    "from tabulate import tabulate\n",
    "from itertools import groupby"
   ],
   "outputs": [],
   "execution_count": 1
  },
  {
   "metadata": {
    "ExecuteTime": {
     "end_time": "2024-07-01T08:00:37.087303Z",
     "start_time": "2024-07-01T08:00:37.083163Z"
    }
   },
   "cell_type": "code",
   "source": [
    "# importing all vcf files paths and storing them in three different lists depending on the group of the individuals\n",
    "\n",
    "my_path = \"/home/yboulkaid/Documents/sample_data/pgtest.data/calls/\"\n",
    "#my_path = \"/Users/boulkaid/Documents/4A/pangenomes/pgtest.data/calls/\"\n",
    "all_vcf = os.listdir(my_path)\n",
    "g0_vcf = []\n",
    "g1_vcf = []\n",
    "for i in all_vcf:\n",
    "    if 'g0' in i:\n",
    "        g0_vcf.append(i)\n",
    "    elif 'g1' in i:\n",
    "        g1_vcf.append(i)"
   ],
   "id": "82957056d4273244",
   "outputs": [],
   "execution_count": 2
  },
  {
   "metadata": {
    "ExecuteTime": {
     "end_time": "2024-07-01T08:00:37.092542Z",
     "start_time": "2024-07-01T08:00:37.088465Z"
    }
   },
   "cell_type": "code",
   "source": [
    "# function to create a data frame from a vcf file \n",
    "\n",
    "def make_vcf_df(path):\n",
    "    with open(path, 'r') as f:\n",
    "        lines = [l for l in f if not l.startswith('##')]\n",
    "    return pd.read_csv(io.StringIO(''.join(lines)),\n",
    "                       dtype={'#CHROM': str, 'POS': int, 'ID': str, 'REF': str, 'ALT': str, 'QUAL': str, 'FILTER': str,\n",
    "                              'INFO': str},\n",
    "                       sep='\\t').rename(columns={'#CHROM': 'CHROM'})"
   ],
   "id": "bbbd924bb9d98e93",
   "outputs": [],
   "execution_count": 3
  },
  {
   "metadata": {
    "ExecuteTime": {
     "end_time": "2024-07-01T08:00:37.437261Z",
     "start_time": "2024-07-01T08:00:37.093619Z"
    }
   },
   "cell_type": "code",
   "source": [
    "# creating three data frames for all vcfs, g0 and g1 vcfs \n",
    "\n",
    "all_vcf_df = []\n",
    "for i in all_vcf:\n",
    "    all_vcf_df.append(make_vcf_df(my_path + i))\n",
    "\n",
    "g0_vcf_df = []\n",
    "for i in g0_vcf:\n",
    "    g0_vcf_df.append(make_vcf_df(my_path + i))\n",
    "\n",
    "g1_vcf_df = []\n",
    "for i in g1_vcf:\n",
    "    g1_vcf_df.append(make_vcf_df(my_path + i))"
   ],
   "id": "d42bd0634938d051",
   "outputs": [],
   "execution_count": 4
  },
  {
   "metadata": {
    "ExecuteTime": {
     "end_time": "2024-07-01T08:00:37.444509Z",
     "start_time": "2024-07-01T08:00:37.439068Z"
    }
   },
   "cell_type": "code",
   "source": [
    "# annex function used later to create the \"snarl data frames\" \n",
    "\n",
    "def chemins(which_vcf_df):\n",
    "    chemins_possibles = []\n",
    "    for i in range(len(which_vcf_df[\"INFO\"])):\n",
    "        text = which_vcf_df[\"INFO\"][i]\n",
    "        m = re.search('AT=>(.+?);DP', text)\n",
    "        if m:\n",
    "            found = m.group(1)\n",
    "        chemins_possibles.append(found)\n",
    "\n",
    "    for i in range(len(chemins_possibles)):\n",
    "        chemins_possibles[i] = chemins_possibles[i].split(',')\n",
    "\n",
    "    ########################################################################\n",
    "    chemins_pris = []\n",
    "    for i in which_vcf_df[\"SAMPLE\"]:\n",
    "        found = i[0:3]\n",
    "        chemins_pris.append(found)\n",
    "\n",
    "    for i in range(len(chemins_pris)):\n",
    "        chemins_pris[i] = chemins_pris[i].split('/')\n",
    "        for j in range(len(chemins_pris[i])):\n",
    "            chemins_pris[i][j] = int(chemins_pris[i][j])\n",
    "\n",
    "    ########################################################################\n",
    "    chemins_combines = copy.deepcopy(chemins_pris)\n",
    "\n",
    "    for i in range(len(chemins_pris)):\n",
    "        chemins_combines[i][0] = chemins_possibles[i][chemins_pris[i][0]]\n",
    "        chemins_combines[i][1] = chemins_possibles[i][chemins_pris[i][1]]\n",
    "\n",
    "    ''' cas simple pour comprendre\n",
    "    print(chemins_pris[0])\n",
    "    chemins_pris[0][0] = chemins_possibles[0][chemins_pris[0][0]]\n",
    "    chemins_pris[0][1] = chemins_possibles[0][chemins_pris[0][1]]\n",
    "    print(chemins_pris[0])'''\n",
    "\n",
    "    chemins_possibles = sum(chemins_possibles, [])\n",
    "    chemins_pris = sum(chemins_pris, [])\n",
    "    chemins_combines = sum(chemins_combines, [])\n",
    "\n",
    "    return chemins_possibles, chemins_pris, chemins_combines"
   ],
   "id": "fcf018d7bbf1c1c5",
   "outputs": [],
   "execution_count": 5
  },
  {
   "metadata": {
    "ExecuteTime": {
     "end_time": "2024-07-01T08:00:37.452754Z",
     "start_time": "2024-07-01T08:00:37.445572Z"
    }
   },
   "cell_type": "code",
   "source": [
    "# function to create a \"snarl data frame\" from a list of vcf data frames\n",
    "\n",
    "def make_snarl_df(which_vcf_list):\n",
    "    df = pd.DataFrame(columns=['snarl index', 'snarl', 'times taken', 'index provisoire'])\n",
    "\n",
    "    chemins_possibles = [chemins(i)[0] for i in all_vcf_df]\n",
    "    chemins_possibles = sum(chemins_possibles, [])\n",
    "    chemins_possibles = list(set(chemins_possibles))\n",
    "    for i in range(len(chemins_possibles)):\n",
    "        df.loc[i, 'times taken'] = 0\n",
    "\n",
    "    df['snarl'] = chemins_possibles\n",
    "\n",
    "    combine_counts = []\n",
    "    for i in range(len(which_vcf_list)):\n",
    "        chemins_combines = chemins(which_vcf_list[i])[2]\n",
    "        combine_counts.extend((x, chemins_combines.count(x)) for x in set(chemins_combines))\n",
    "\n",
    "    snarl_dict = {str(snarl): index for index, snarl in enumerate(df['snarl'])}\n",
    "\n",
    "    for snarl, count in combine_counts:\n",
    "        if snarl in snarl_dict:\n",
    "            df.loc[snarl_dict[snarl], \"times taken\"] += count\n",
    "\n",
    "\n",
    "    # fill 'snarl index' column\n",
    "    for i in range(len(df['snarl index'])):\n",
    "        if df['snarl'][i][0] == '>':\n",
    "            S = re.search('>(.+?)>', df['snarl'][i])\n",
    "            if S:\n",
    "                s = S.group(1)\n",
    "            E = re.search('.+>(.*)', df['snarl'][i])\n",
    "            if E:\n",
    "                e = E.group(1)\n",
    "            df.loc[i, \"snarl index\"] = s + '>' + e\n",
    "            df.loc[i, \"index provisoire\"] = int(s)\n",
    "        else:\n",
    "            S = re.search('(.+?)>', df['snarl'][i])\n",
    "            if S:\n",
    "                s = S.group(1)\n",
    "            E = re.search('.+>(.*)', df['snarl'][i])\n",
    "            if E:\n",
    "                e = E.group(1)\n",
    "            df.loc[i, \"snarl index\"] = s + '>' + e\n",
    "            df.loc[i, \"index provisoire\"] = int(s)\n",
    "\n",
    "    # df.set_index('snarl index', inplace=True, drop=True)\n",
    "    df.set_index('index provisoire', inplace=True, drop=True)\n",
    "    df.sort_index(inplace=True)\n",
    "    df.reset_index()\n",
    "    df.set_index('snarl index', inplace=True, drop=True)\n",
    "    return df"
   ],
   "id": "f35ad3aa31c3ef33",
   "outputs": [],
   "execution_count": 6
  },
  {
   "metadata": {
    "ExecuteTime": {
     "end_time": "2024-07-01T08:00:40.981184Z",
     "start_time": "2024-07-01T08:00:37.454056Z"
    }
   },
   "cell_type": "code",
   "source": [
    "# creating three data frames for all vcfs, g0 and g1 vcfs \n",
    "\n",
    "all_df = make_snarl_df(all_vcf_df)\n",
    "g0_df  = make_snarl_df(g0_vcf_df)\n",
    "g1_df  = make_snarl_df(g1_vcf_df)"
   ],
   "id": "2ece8236e907df35",
   "outputs": [],
   "execution_count": 7
  },
  {
   "metadata": {
    "ExecuteTime": {
     "end_time": "2024-07-01T08:00:40.987778Z",
     "start_time": "2024-07-01T08:00:40.982326Z"
    }
   },
   "cell_type": "code",
   "source": [
    "# functions used to perform the tests and compute the p-values\n",
    "\n",
    "def make_table_contingence(which_snarl_df, which_g0_df, which_g1_df, which_snarl):\n",
    "    n = which_snarl_df.index.value_counts()[which_snarl]\n",
    "    chem = []\n",
    "    for i in range(n):\n",
    "        chem.append(which_g0_df.loc[which_snarl]['snarl'].iloc[i])\n",
    "        # thing.append(g0_df.loc[which_snarl]['snarl'][i])\n",
    "        # corpus_df.loc['it'][1]\n",
    "    df2 = pd.DataFrame(columns=['g0', 'g1'], index=chem)\n",
    "    for i in range(len(chem)):\n",
    "        df2.at[chem[i], 'g1'] = which_g1_df.loc[which_snarl]['times taken'].iloc[i]\n",
    "        df2.at[chem[i], 'g0'] = which_g0_df.loc[which_snarl]['times taken'].iloc[i]\n",
    "    return df2\n",
    "\n",
    "\n",
    "def chi2(table):\n",
    "    return chi2_contingency(table).pvalue"
   ],
   "id": "4b1b94c3d211ca0a",
   "outputs": [],
   "execution_count": 8
  },
  {
   "metadata": {
    "ExecuteTime": {
     "end_time": "2024-07-01T08:00:41.304291Z",
     "start_time": "2024-07-01T08:00:40.989545Z"
    }
   },
   "cell_type": "code",
   "source": [
    "# computing the p-values for all snarls\n",
    "\n",
    "pval_list = []\n",
    "\n",
    "for i in all_df.index.unique():\n",
    "    table = make_table_contingence(all_df, g0_df, g1_df, i)\n",
    "    l = len(table)\n",
    "    table_to_modify = table.copy(deep = True)\n",
    "    ctr = 0\n",
    "    mask = (table['g0'] == 0) & (table['g1'] == 0)\n",
    "    table_to_modify = table_to_modify[~mask]\n",
    "    pval_list.append([chi2(table_to_modify), i])\n",
    "    #print(table_to_modify)"
   ],
   "id": "8efc0748a1b541bf",
   "outputs": [],
   "execution_count": 9
  },
  {
   "metadata": {
    "ExecuteTime": {
     "end_time": "2024-07-01T08:44:24.163607Z",
     "start_time": "2024-07-01T08:44:24.158601Z"
    }
   },
   "cell_type": "code",
   "source": [
    "# function to create a p-value data frame from a list of p-values\n",
    "seuil = 2\n",
    "\n",
    "def make_pval_df(which_pval_list):\n",
    "    pval_df = pd.DataFrame(columns=['snarl index', 'p-valeur', 'moinslog10pvaleur', 'color'])\n",
    "    for i in range(len(which_pval_list)):\n",
    "        pval_df.loc[i, 'snarl index'] = which_pval_list[i][1]\n",
    "        pval_df.loc[i, \"p-valeur\"] = which_pval_list[i][0]\n",
    "        if which_pval_list[i][0] != -1:\n",
    "            pval_df.loc[i, \"moinslog10pvaleur\"] = -np.log10(which_pval_list[i][0])\n",
    "        else:\n",
    "            print('not ok')\n",
    "    pval_df.set_index('snarl index', inplace=True, drop=True)\n",
    "    conditions = [\n",
    "        (pval_df['moinslog10pvaleur'] == 0.0001),\n",
    "        (pval_df['moinslog10pvaleur'] > seuil),\n",
    "        (pval_df['moinslog10pvaleur'] < seuil)]\n",
    "    choices = ['red', 'green', 'blue']\n",
    "    pval_df['color'] = np.select(conditions, choices, default='red')\n",
    "    return pval_df"
   ],
   "id": "944f9f851c8e2726",
   "outputs": [],
   "execution_count": 23
  },
  {
   "metadata": {
    "ExecuteTime": {
     "end_time": "2024-07-01T08:44:27.352115Z",
     "start_time": "2024-07-01T08:44:27.213877Z"
    }
   },
   "cell_type": "code",
   "source": [
    "# creating the p-value data frame, plotting a histogram of said p-values and getting the smallest p-values in the data frame \n",
    "\n",
    "pval_df = make_pval_df(pval_list)\n",
    "\n",
    "plt.hist(pval_df['p-valeur'])\n",
    "\n",
    "smallest_pv = [(-np.log10(pval_list[i][0]), pval_list[i][1]) for i in range(len(pval_list)) if -np.log10(pval_list[i][0]) > seuil]\n",
    "print(len(smallest_pv))"
   ],
   "id": "d754f20e71a47677",
   "outputs": [
    {
     "name": "stdout",
     "output_type": "stream",
     "text": [
      "8\n"
     ]
    },
    {
     "data": {
      "text/plain": [
       "<Figure size 640x480 with 1 Axes>"
      ],
      "image/png": "[encoded data removed]"
     },
     "metadata": {},
     "output_type": "display_data"
    }
   ],
   "execution_count": 24
  },
  {
   "metadata": {
    "ExecuteTime": {
     "end_time": "2024-07-01T14:24:12.379691Z",
     "start_time": "2024-07-01T14:24:12.372489Z"
    }
   },
   "cell_type": "code",
   "source": "pval_df",
   "id": "c52bb9d6822e8744",
   "outputs": [
    {
     "data": {
      "text/plain": [
       "             p-valeur moinslog10pvaleur color\n",
       "snarl index                                  \n",
       "1>4          0.711884          0.147591  blue\n",
       "4>9          0.396877          0.401344  blue\n",
       "9>12         0.741182          0.130075  blue\n",
       "12>14        0.180334          0.743923  blue\n",
       "14>19        0.102512          0.989226  blue\n",
       "...               ...               ...   ...\n",
       "489>492           1.0              -0.0  blue\n",
       "492>497      0.027035          1.568072  blue\n",
       "497>502      0.054222          1.265821  blue\n",
       "502>507       0.84174          0.074822  blue\n",
       "507>512      0.492668          0.307446  blue\n",
       "\n",
       "[100 rows x 3 columns]"
      ],
      "text/html": [
       "<div>\n",
       "<style scoped>\n",
       "    .dataframe tbody tr th:only-of-type {\n",
       "        vertical-align: middle;\n",
       "    }\n",
       "\n",
       "    .dataframe tbody tr th {\n",
       "        vertical-align: top;\n",
       "    }\n",
       "\n",
       "    .dataframe thead th {\n",
       "        text-align: right;\n",
       "    }\n",
       "</style>\n",
       "<table border=\"1\" class=\"dataframe\">\n",
       "  <thead>\n",
       "    <tr style=\"text-align: right;\">\n",
       "      <th></th>\n",
       "      <th>p-valeur</th>\n",
       "      <th>moinslog10pvaleur</th>\n",
       "      <th>color</th>\n",
       "    </tr>\n",
       "    <tr>\n",
       "      <th>snarl index</th>\n",
       "      <th></th>\n",
       "      <th></th>\n",
       "      <th></th>\n",
       "    </tr>\n",
       "  </thead>\n",
       "  <tbody>\n",
       "    <tr>\n",
       "      <th>1&gt;4</th>\n",
       "      <td>0.711884</td>\n",
       "      <td>0.147591</td>\n",
       "      <td>blue</td>\n",
       "    </tr>\n",
       "    <tr>\n",
       "      <th>4&gt;9</th>\n",
       "      <td>0.396877</td>\n",
       "      <td>0.401344</td>\n",
       "      <td>blue</td>\n",
       "    </tr>\n",
       "    <tr>\n",
       "      <th>9&gt;12</th>\n",
       "      <td>0.741182</td>\n",
       "      <td>0.130075</td>\n",
       "      <td>blue</td>\n",
       "    </tr>\n",
       "    <tr>\n",
       "      <th>12&gt;14</th>\n",
       "      <td>0.180334</td>\n",
       "      <td>0.743923</td>\n",
       "      <td>blue</td>\n",
       "    </tr>\n",
       "    <tr>\n",
       "      <th>14&gt;19</th>\n",
       "      <td>0.102512</td>\n",
       "      <td>0.989226</td>\n",
       "      <td>blue</td>\n",
       "    </tr>\n",
       "    <tr>\n",
       "      <th>...</th>\n",
       "      <td>...</td>\n",
       "      <td>...</td>\n",
       "      <td>...</td>\n",
       "    </tr>\n",
       "    <tr>\n",
       "      <th>489&gt;492</th>\n",
       "      <td>1.0</td>\n",
       "      <td>-0.0</td>\n",
       "      <td>blue</td>\n",
       "    </tr>\n",
       "    <tr>\n",
       "      <th>492&gt;497</th>\n",
       "      <td>0.027035</td>\n",
       "      <td>1.568072</td>\n",
       "      <td>blue</td>\n",
       "    </tr>\n",
       "    <tr>\n",
       "      <th>497&gt;502</th>\n",
       "      <td>0.054222</td>\n",
       "      <td>1.265821</td>\n",
       "      <td>blue</td>\n",
       "    </tr>\n",
       "    <tr>\n",
       "      <th>502&gt;507</th>\n",
       "      <td>0.84174</td>\n",
       "      <td>0.074822</td>\n",
       "      <td>blue</td>\n",
       "    </tr>\n",
       "    <tr>\n",
       "      <th>507&gt;512</th>\n",
       "      <td>0.492668</td>\n",
       "      <td>0.307446</td>\n",
       "      <td>blue</td>\n",
       "    </tr>\n",
       "  </tbody>\n",
       "</table>\n",
       "<p>100 rows × 3 columns</p>\n",
       "</div>"
      ]
     },
     "execution_count": 32,
     "metadata": {},
     "output_type": "execute_result"
    }
   ],
   "execution_count": 32
  },
  {
   "metadata": {
    "ExecuteTime": {
     "end_time": "2024-07-01T08:24:24.272438Z",
     "start_time": "2024-07-01T08:24:24.165175Z"
    }
   },
   "cell_type": "code",
   "source": [
    "# manhattan plot\n",
    "\n",
    "plt.scatter(range(len(pval_df)), pval_df['moinslog10pvaleur'], c=pval_df['color'])"
   ],
   "id": "46d24c4b2f016856",
   "outputs": [
    {
     "data": {
      "text/plain": [
       "<matplotlib.collections.PathCollection at 0x7cc7d4f852d0>"
      ]
     },
     "execution_count": 22,
     "metadata": {},
     "output_type": "execute_result"
    },
    {
     "data": {
      "text/plain": [
       "<Figure size 640x480 with 1 Axes>"
      ],
      "image/png": "[encoded data removed]"
     },
     "metadata": {},
     "output_type": "display_data"
    }
   ],
   "execution_count": 22
  },
  {
   "metadata": {
    "ExecuteTime": {
     "end_time": "2024-07-01T08:00:42.076803Z",
     "start_time": "2024-07-01T08:00:41.555373Z"
    }
   },
   "cell_type": "code",
   "source": [
    "# function to verify that the sum of the columns in the contingency tables is always 60 (because we have 60 vcf files)\n",
    "\n",
    "def contingence_somme_col(snarl_list):\n",
    "    snarl_index_somme_pas_ok = []\n",
    "    for i in snarl_list:\n",
    "        if make_table_contingence(all_df, g0_df, g1_df, i).sum(axis=0).iloc[0] != 60 or make_table_contingence(all_df, g0_df, g1_df, i).sum(axis=0).iloc[1] != 60:\n",
    "            snarl_index_somme_pas_ok.append(i)\n",
    "\n",
    "    if len(snarl_index_somme_pas_ok) == 0:\n",
    "        print('bien ouej !')\n",
    "    else:\n",
    "        print('better luck next time...')\n",
    "\n",
    "contingence_somme_col(all_df.index.unique())"
   ],
   "id": "fc10ef316a5f67d2",
   "outputs": [
    {
     "name": "stdout",
     "output_type": "stream",
     "text": [
      "bien ouej !\n"
     ]
    }
   ],
   "execution_count": 13
  },
  {
   "metadata": {
    "ExecuteTime": {
     "end_time": "2024-07-01T08:52:58.313968Z",
     "start_time": "2024-07-01T08:52:58.298490Z"
    }
   },
   "cell_type": "code",
   "source": [
    "# size of all snarls and number of snarls for each size \n",
    "# ex: there are 66 snarls where only two paths are possible and 1 snarl with 61 possible paths \n",
    "\n",
    "length_of_paths = []\n",
    "for i in list(all_df.index):\n",
    "    length_of_paths.append(list(all_df.index).count(i))\n",
    "\n",
    "# occ = [[x,ind.count(x)] for x in set(ind)]\n",
    "\n",
    "taille_chem = list(set(length_of_paths))\n",
    "freq_taille = [len(list(group)) for key, group in groupby(sorted(length_of_paths))]\n",
    "freq_taille = [int(freq_taille[i]/taille_chem[i]) for i in range(len(freq_taille))]\n",
    "\n",
    "print(taille_chem, freq_taille)"
   ],
   "id": "ddda20e78b0f8ff3",
   "outputs": [
    {
     "name": "stdout",
     "output_type": "stream",
     "text": [
      "[2, 3, 5, 7, 8, 9, 12, 13, 14, 16, 17, 61] [66, 19, 1, 2, 1, 2, 1, 1, 2, 3, 1, 1]\n"
     ]
    }
   ],
   "execution_count": 31
  }
 ],
 "metadata": {
  "kernelspec": {
   "display_name": "Python 3",
   "language": "python",
   "name": "python3"
  },
  "language_info": {
   "codemirror_mode": {
    "name": "ipython",
    "version": 2
   },
   "file_extension": ".py",
   "mimetype": "text/x-python",
   "name": "python",
   "nbconvert_exporter": "python",
   "pygments_lexer": "ipython2",
   "version": "2.7.6"
  }
 },
 "nbformat": 4,
 "nbformat_minor": 5
}
